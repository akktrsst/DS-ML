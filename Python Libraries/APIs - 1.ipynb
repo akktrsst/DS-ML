{
 "cells": [
  {
   "cell_type": "markdown",
   "id": "7e5f05f0",
   "metadata": {},
   "source": [
    "# HTTP Libraries (APIs - I)"
   ]
  },
  {
   "cell_type": "code",
   "execution_count": 1,
   "id": "d3df0e47",
   "metadata": {},
   "outputs": [
    {
     "name": "stdout",
     "output_type": "stream",
     "text": [
      "200\n"
     ]
    }
   ],
   "source": [
    "import requests\n",
    "# response will hold the answer of website responses\n",
    "response = requests.get('https://codingninjas.in/api/v3/courses') # get is the method of requests \n",
    "print(response.status_code)\n",
    "# status_code =200 -> sucessful; 400 -> fail\n",
    "# Any answer that start with 2 means sucess and any answer that start with 4 means fail\n"
   ]
  },
  {
   "cell_type": "code",
   "execution_count": 2,
   "id": "6e43f3ba",
   "metadata": {},
   "outputs": [
    {
     "name": "stdout",
     "output_type": "stream",
     "text": [
      "404\n"
     ]
    }
   ],
   "source": [
    "import requests\n",
    "response = requests.get('https://codingninjas.in/api/v3/courses_1')\n",
    "print(response.status_code)"
   ]
  },
  {
   "cell_type": "code",
   "execution_count": 3,
   "id": "a5e4738e",
   "metadata": {},
   "outputs": [
    {
     "name": "stdout",
     "output_type": "stream",
     "text": [
      "404\n",
      "utf-8\n",
      "<!DOCTYPE html>\n",
      "<html>\n",
      "<head>\n",
      "  <title>The page you were looking for doesn't exist (404)</title>\n",
      "  <meta name=\"viewport\" content=\"width=device-width,initial-scale=1\">\n",
      "  <style>\n",
      "  body {\n",
      "    background-color: #EFEFEF;\n",
      "    color: #2E2F30;\n",
      "    text-align: center;\n",
      "    font-family: arial, sans-serif;\n",
      "    margin: 0;\n",
      "  }\n",
      "\n",
      "  div.dialog {\n",
      "    width: 95%;\n",
      "    max-width: 33em;\n",
      "    margin: 4em auto 0;\n",
      "  }\n",
      "\n",
      "  div.dialog > div {\n",
      "    border: 1px solid #CCC;\n",
      "    border-right-color: #999;\n",
      "    border-left-color: #999;\n",
      "    border-bottom-color: #BBB;\n",
      "    border-top: #B00100 solid 4px;\n",
      "    border-top-left-radius: 9px;\n",
      "    border-top-right-radius: 9px;\n",
      "    background-color: white;\n",
      "    padding: 7px 12% 0;\n",
      "    box-shadow: 0 3px 8px rgba(50, 50, 50, 0.17);\n",
      "  }\n",
      "\n",
      "  h1 {\n",
      "    font-size: 100%;\n",
      "    color: #730E15;\n",
      "    line-height: 1.5em;\n",
      "  }\n",
      "\n",
      "  div.dialog > p {\n",
      "    margin: 0 0 1em;\n",
      "    padding: 1em;\n",
      "    background-color: #F7F7F7;\n",
      "    border: 1px solid #CCC;\n",
      "    border-right-color: #999;\n",
      "    border-left-color: #999;\n",
      "    border-bottom-color: #999;\n",
      "    border-bottom-left-radius: 4px;\n",
      "    border-bottom-right-radius: 4px;\n",
      "    border-top-color: #DADADA;\n",
      "    color: #666;\n",
      "    box-shadow: 0 3px 8px rgba(50, 50, 50, 0.17);\n",
      "  }\n",
      "  </style>\n",
      "</head>\n",
      "\n",
      "<body>\n",
      "  <!-- This file lives in public/404.html -->\n",
      "  <div class=\"dialog\">\n",
      "    <div>\n",
      "      <h1>The page you were looking for doesn't exist.</h1>\n",
      "      <p>You may have mistyped the address or the page may have moved.</p>\n",
      "    </div>\n",
      "    <p>If you are the application owner check the logs for more information.</p>\n",
      "  </div>\n",
      "</body>\n",
      "</html>\n",
      "\n"
     ]
    }
   ],
   "source": [
    "import requests\n",
    "response = requests.get('https://codingninjas.in/api/v3/courses_1')\n",
    "print(response.status_code)\n",
    "print(response.encoding) # file encoding\n",
    "print(response.text) # it will excess the context of response"
   ]
  },
  {
   "cell_type": "code",
   "execution_count": 4,
   "id": "ad862957",
   "metadata": {},
   "outputs": [
    {
     "name": "stdout",
     "output_type": "stream",
     "text": [
      "200\n",
      "utf-8\n",
      "https://codingninjas.in/api/v3/courses\n",
      "<class 'requests.structures.CaseInsensitiveDict'>\n",
      "{'Date': 'Fri, 17 Jun 2022 01:22:01 GMT', 'Content-Type': 'application/json', 'Transfer-Encoding': 'chunked', 'Connection': 'keep-alive', 'Server': 'nginx', 'X-Frame-Options': 'SAMEORIGIN', 'X-XSS-Protection': '1; mode=block', 'X-Content-Type-Options': 'nosniff', 'Access-Control-Allow-Origin': '*', 'Access-Control-Allow-Methods': 'POST, GET, PATCH, PUT, DELETE, OPTIONS', 'Access-Control-Allow-Headers': 'Access-Control-Allow-Headers, Origin,Accept, X-Requested-With, Content-Type, Access-Control-Request-Method, Access-Control-Request-Headers, Authorization', 'Access-Control-Max-Age': '1728000', 'Vary': 'Accept-Encoding', 'Content-Encoding': 'gzip', 'ETag': 'W/\"fc21533dc63f3ca46397234b55703f42\"', 'Cache-Control': 'max-age=0, private, must-revalidate', 'X-Request-Id': 'c8bc2703-178a-4b6f-818c-29bedeb6589f', 'X-Runtime': '0.006877', 'Strict-Transport-Security': 'max-age=31536000; includeSubDomains;'}\n",
      "Fri, 17 Jun 2022 01:22:01 GMT\n",
      "Fri, 17 Jun 2022 01:22:01 GMT\n",
      "application/json\n"
     ]
    }
   ],
   "source": [
    "import requests\n",
    "response = requests.get('https://codingninjas.in/api/v3/courses')\n",
    "print(response.status_code)\n",
    "print(response.encoding)\n",
    "print(response.url) # url is an attribute to see the website\n",
    "print(type(response.headers)) # we can type of header\n",
    "print(response.headers) # we can acess the headers of responses\n",
    "print(response.headers['Date']) # for particular header\n",
    "header_info = response.headers # to get information of headers\n",
    "print(header_info['Date']) # printing information of header\n",
    "print(header_info['Content-Type']) \n"
   ]
  },
  {
   "cell_type": "markdown",
   "id": "d9e1addf",
   "metadata": {},
   "source": [
    "### JSON file Format"
   ]
  },
  {
   "cell_type": "code",
   "execution_count": 5,
   "id": "731d3dce",
   "metadata": {},
   "outputs": [
    {
     "name": "stdout",
     "output_type": "stream",
     "text": [
      "404\n"
     ]
    }
   ],
   "source": [
    "# JSON = JavaScript Object Notation\n",
    "# it is used for information retrieved, XML can also be used.\n",
    "import requests\n",
    "response = requests.get('http://api.open-notify.org/iss-pass')\n",
    "print(response.status_code)"
   ]
  },
  {
   "cell_type": "code",
   "execution_count": 6,
   "id": "bbf27211",
   "metadata": {},
   "outputs": [
    {
     "name": "stdout",
     "output_type": "stream",
     "text": [
      "200\n"
     ]
    }
   ],
   "source": [
    "import requests\n",
    "response = requests.get('http://api.open-notify.org/iss-now.json')\n",
    "print(response.status_code)"
   ]
  },
  {
   "cell_type": "raw",
   "id": "e8663aa5",
   "metadata": {},
   "source": [
    "Data Types:\n",
    "1. Number: {\"data\" : 10}, {\"data\" : 10.5}\n",
    "2. string: {\"name\": \"Mohit\"} \n",
    "3. boolean: {\"is_online\": True}, {\"is_online\": False}\n",
    "4. Null: {\"data\" = null}\n",
    "Complex Data Types:\n",
    "1. Array: {\"elem\" : [10,12,13,14]},{\"elem\":[\"abc\",\"def\"]}\n",
    "2. Object: {\"student\":\n",
    "                {\"name\":\"Mohit\",\"ID\":101,\"add\":\"xyz\"}\n",
    "           }\n",
    "           {\"student\":[{\"name\":\"Mohit\",\n",
    "                        \"ID\":101}\n",
    "                       {\"name\":\"Amit\",\n",
    "                        \"ID\":102}\n",
    "                       ]"
   ]
  },
  {
   "cell_type": "code",
   "execution_count": 7,
   "id": "b10f1484",
   "metadata": {},
   "outputs": [
    {
     "name": "stdout",
     "output_type": "stream",
     "text": [
      "<class 'str'>\n"
     ]
    }
   ],
   "source": [
    "print(type(response.text))"
   ]
  },
  {
   "cell_type": "code",
   "execution_count": 8,
   "id": "4fdcd930",
   "metadata": {},
   "outputs": [
    {
     "name": "stdout",
     "output_type": "stream",
     "text": [
      "{'Student': 'Mohit'}\n",
      "<class 'dict'>\n",
      "Mohit\n"
     ]
    }
   ],
   "source": [
    "import json\n",
    "json_data = '{\"Student\":\"Mohit\"}' # store an object\n",
    "python_data = json.loads(json_data) # to convert json to python\n",
    "print(python_data) # printing the data after conversion\n",
    "print(type(python_data)) # type of this python_data \n",
    "print(python_data['Student']) # key has written is sq bracket and we will get value"
   ]
  },
  {
   "cell_type": "code",
   "execution_count": 9,
   "id": "9d83eff4",
   "metadata": {},
   "outputs": [
    {
     "name": "stdout",
     "output_type": "stream",
     "text": [
      "101.2\n",
      "<class 'float'>\n"
     ]
    }
   ],
   "source": [
    "json_data = '{\"roll_number\": 101.2}' # number data in json\n",
    "python_data = json.loads(json_data)\n",
    "print(python_data['roll_number'])\n",
    "print(type(python_data['roll_number']))"
   ]
  },
  {
   "cell_type": "code",
   "execution_count": 10,
   "id": "dac321b7",
   "metadata": {},
   "outputs": [
    {
     "name": "stdout",
     "output_type": "stream",
     "text": [
      "None\n",
      "<class 'NoneType'>\n"
     ]
    }
   ],
   "source": [
    "json_data = '{\"roll_number\": null}' # null data in json\n",
    "python_data = json.loads(json_data)\n",
    "print(python_data['roll_number'])\n",
    "print(type(python_data['roll_number']))"
   ]
  },
  {
   "cell_type": "code",
   "execution_count": 14,
   "id": "adafa2e1",
   "metadata": {},
   "outputs": [
    {
     "name": "stdout",
     "output_type": "stream",
     "text": [
      "Mohit\n",
      "101\n",
      "<class 'dict'>\n",
      "<class 'str'>\n"
     ]
    }
   ],
   "source": [
    "json_data = '{\"Student\":{\"Name\":\"Mohit\",\"Roll_No\":101}}' # object data in json\n",
    "python_data = json.loads(json_data)\n",
    "\n",
    "student_details = python_data['Student'] # It is converted in dict in python\n",
    "print(student_details['Name'])\n",
    "print(student_details['Roll_No'])\n",
    "print(type(python_data['Student']))\n",
    "print(type(student_details['Name']))"
   ]
  },
  {
   "cell_type": "code",
   "execution_count": 15,
   "id": "b358b072",
   "metadata": {},
   "outputs": [
    {
     "name": "stdout",
     "output_type": "stream",
     "text": [
      "<class 'dict'>\n",
      "['Apple', 'Orange', 'Mango', 'Guava']\n",
      "<class 'list'>\n",
      "4\n",
      "Apple\n",
      "Orange\n",
      "Mango\n",
      "Guava\n"
     ]
    }
   ],
   "source": [
    "json_data = '{\"Fruits\": [\"Apple\",\"Orange\",\"Mango\",\"Guava\"]}'\n",
    "python_data = json.loads(json_data)\n",
    "print(type(python_data))\n",
    "print(python_data['Fruits'])\n",
    "print(type(python_data['Fruits']))\n",
    "print(len(python_data['Fruits']))\n",
    "for i in python_data['Fruits']:\n",
    "    print(i)"
   ]
  },
  {
   "cell_type": "markdown",
   "id": "1eeed05a",
   "metadata": {},
   "source": [
    "### Explore JSON Data"
   ]
  },
  {
   "cell_type": "code",
   "execution_count": 16,
   "id": "109f42c9",
   "metadata": {},
   "outputs": [
    {
     "name": "stdout",
     "output_type": "stream",
     "text": [
      "{\"data\":{\"courses\":[{\"id\":6,\"title\":\"Machine Learning\",\"online_title\":\"online-machine-learning-course\",\"offline_title\":\"classroom-machine-learning-course\",\"name\":\"Machine Learning \\u0026 Deep Learning Course\",\"level\":\"Advanced Courses\",\"brief_intro\":\"Machine learning engineers build, implement, and maintain machine learning systems in technology products.\",\"preview_image_url\":\"https://ninjasfiles.s3.amazonaws.com/0000000000001181.png\",\"available_online\":true,\"available_offline\":false,\"is_career_track\":false,\"course_group_id\":2,\"classroom_icon_url\":\"https://files.codingninjas.in/0000000000003766.png\"},{\"id\":40,\"title\":\"Data structures and Algorithms [C++/Java/Python]\",\"online_title\":\"premium-foundation-course\",\"offline_title\":\"\",\"name\":\"Premium Data structures and Algorithms [C++/Java/Python]\",\"level\":\"Foundation Courses\",\"brief_intro\":\"\",\"preview_image_url\":\"\",\"available_online\":true,\"available_offline\":false,\"is_career_track\":false,\"course_group_id\":7,\"classroom_icon_url\":\"https://files.codingninjas.in/0000000000003765.png\"},{\"id\":45,\"title\":\"Premium Android Course\",\"online_title\":\"premium-android-app-development-course\",\"offline_title\":\"\",\"name\":\"Premium Android App Development\",\"level\":\"Foundation Courses\",\"brief_intro\":\"\",\"preview_image_url\":\"\",\"available_online\":true,\"available_offline\":false,\"is_career_track\":false,\"course_group_id\":7,\"classroom_icon_url\":\"https://files.codingninjas.in/0000000000003765.png\"},{\"id\":44,\"title\":\"Premium Machine Learning Course\",\"online_title\":\"premium-machine-learning-course\",\"offline_title\":\"\",\"name\":\"Premium Machine Learning Course\",\"level\":\"Foundation Courses\",\"brief_intro\":\"\",\"preview_image_url\":\"\",\"available_online\":true,\"available_offline\":false,\"is_career_track\":false,\"course_group_id\":7,\"classroom_icon_url\":\"https://files.codingninjas.in/0000000000003765.png\"},{\"id\":43,\"title\":\"Premium Data Science Course\",\"online_title\":\"premium-data-science-course\",\"offline_title\":\"\",\"name\":\"Premium Data Science Course\",\"level\":\"Foundation Courses\",\"brief_intro\":\"\",\"preview_image_url\":\"\",\"available_online\":true,\"available_offline\":false,\"is_career_track\":false,\"course_group_id\":7,\"classroom_icon_url\":\"https://files.codingninjas.com/data-science-11645.png\"},{\"id\":16,\"title\":\"Competitive Programmer\",\"online_title\":\"online-competitive-programming-track\",\"offline_title\":\"\",\"name\":\"Ninja Competitive Programmer Track\",\"level\":\"Career Tracks\",\"brief_intro\":\"Competitive Track\",\"preview_image_url\":\"https://files.codingninjas.in/0000000000001177.png\",\"available_online\":true,\"available_offline\":false,\"is_career_track\":true,\"course_group_id\":3,\"classroom_icon_url\":\"https://files.codingninjas.com/competitive-programming-11703.svg\"},{\"id\":41,\"title\":\"Premium Competitive Course\",\"online_title\":\"premium-competitive-course\",\"offline_title\":\"\",\"name\":\"Premium Competitive Programming Course\",\"level\":\"Foundation Courses\",\"brief_intro\":\"\",\"preview_image_url\":\"\",\"available_online\":true,\"available_offline\":false,\"is_career_track\":false,\"course_group_id\":7,\"classroom_icon_url\":\"https://files.codingninjas.in/0000000000003765.png\"},{\"id\":1,\"title\":\"C++ \\u0026 Data Structures\",\"online_title\":\"onlline-c-plus-plus-course\",\"offline_title\":\"classroom-c-plus-plus-course\",\"name\":\"C++ Foundation with Data Structures\",\"level\":\"Foundation Courses\",\"brief_intro\":\"Brief Intro\",\"preview_image_url\":\"https://files.codingninjas.in/0000000000001176.png\",\"available_online\":true,\"available_offline\":false,\"is_career_track\":false,\"course_group_id\":1,\"classroom_icon_url\":\"https://files.codingninjas.in/0000000000003771.png\"},{\"id\":42,\"title\":\"Premium Web Dev Course\",\"online_title\":\"premium-full-stack-web-development-course\",\"offline_title\":\"\",\"name\":\"Premium Full Stack Web Development\",\"level\":\"Foundation Courses\",\"brief_intro\":\"\",\"preview_image_url\":\"\",\"available_online\":true,\"available_offline\":false,\"is_career_track\":false,\"course_group_id\":7,\"classroom_icon_url\":\"https://files.codingninjas.in/0000000000003765.png\"},{\"id\":73,\"title\":\"System Design Course\",\"online_title\":\"system-design-course\",\"offline_title\":\"\",\"name\":\"System Design Course\",\"level\":\"Foundation Courses\",\"brief_intro\":\"Brief Intro\",\"preview_image_url\":\"https://ninjasfiles.s3.amazonaws.com/0000000000001178.png\",\"available_online\":true,\"available_offline\":false,\"is_career_track\":false,\"course_group_id\":1,\"classroom_icon_url\":\"https://files.codingninjas.com/system-design-icon-11401.svg\"},{\"id\":34,\"title\":\"Front End (React)\",\"online_title\":\"online-web-dev-with-react\",\"offline_title\":\"\",\"name\":\"Advanced  Front-End Web Development with React\",\"level\":\"Development Courses\",\"brief_intro\":\"Advanced  Front-End Web Development with React\",\"preview_image_url\":\"https://ninjasfiles.s3.amazonaws.com/0000000000001179.png\",\"available_online\":true,\"available_offline\":false,\"is_career_track\":false,\"course_group_id\":2,\"classroom_icon_url\":\"https://files.codingninjas.in/0000000000003769.png\"},{\"id\":12,\"title\":\"Web Dev (Full Stack)\",\"online_title\":\"online-full-stack-node-js-web-dev-course\",\"offline_title\":\"\",\"name\":\"Full Stack Web Development\",\"level\":\"Development Courses\",\"brief_intro\":\"Web Development\",\"preview_image_url\":\"https://ninjasfiles.s3.amazonaws.com/0000000000001179.png\",\"available_online\":true,\"available_offline\":false,\"is_career_track\":false,\"course_group_id\":2,\"classroom_icon_url\":\"https://files.codingninjas.in/0000000000003764.png\"},{\"id\":2,\"title\":\"Java \\u0026 Data Structures\",\"online_title\":\"online-java-course\",\"offline_title\":\"classroom-java-course\",\"name\":\"JAVA Foundation with Data Structures\",\"level\":\"Foundation Courses\",\"brief_intro\":\"Brief Intro\",\"preview_image_url\":\"https://ninjasfiles.s3.amazonaws.com/0000000000001255.png\",\"available_online\":true,\"available_offline\":false,\"is_career_track\":false,\"course_group_id\":1,\"classroom_icon_url\":\"https://files.codingninjas.in/0000000000003772.png\"},{\"id\":35,\"title\":\"Android Developer\",\"online_title\":\"online-android-development-career-track\",\"offline_title\":\"\",\"name\":\"Ninja Android Developer Career Track \",\"level\":\"Career Tracks\",\"brief_intro\":\"beginner to pro Android Developer!\",\"preview_image_url\":\"https://ninjasfiles.s3.amazonaws.com/0000000000001175.png\",\"available_online\":true,\"available_offline\":false,\"is_career_track\":true,\"course_group_id\":3,\"classroom_icon_url\":\"https://files.codingninjas.in/0000000000003774.png\"},{\"id\":66,\"title\":\"Grokking the Operating Systems Interview\",\"online_title\":\"operating-system\",\"offline_title\":\"\",\"name\":\"Grokking the Operating Systems Interview\",\"level\":\"Foundation Courses\",\"brief_intro\":\"Brief Intro\",\"preview_image_url\":\"https://ninjasfiles.s3.amazonaws.com/0000000000001178.png\",\"available_online\":true,\"available_offline\":false,\"is_career_track\":false,\"course_group_id\":1,\"classroom_icon_url\":\"https://files.codingninjas.in/ubuntu-brands-10404.png\"},{\"id\":13,\"title\":\"Data Science\",\"online_title\":\"online-data-science-course\",\"offline_title\":\"\",\"name\":\"Data Science \\u0026 Machine Learning Complete\",\"level\":\"Advanced Courses\",\"brief_intro\":\"Brief Intro\",\"preview_image_url\":\"https://ninjasfiles.s3.amazonaws.com/0000000000001371.png\",\"available_online\":true,\"available_offline\":false,\"is_career_track\":false,\"course_group_id\":2,\"classroom_icon_url\":\"https://files.codingninjas.in/0000000000003763.png\"},{\"id\":36,\"title\":\"Python \\u0026 Web Dev (MERN)\",\"online_title\":\"ninja-web-developer-career-track-mern-stack\",\"offline_title\":\"\",\"name\":\"Ninja  Web Developer Career Track - NodeJS \\u0026 ReactJs\",\"level\":\"Career Tracks\",\"brief_intro\":\"Programming foundation + MERN Stack Web Development complete Career Track\",\"preview_image_url\":\"https://ninjasfiles.s3.amazonaws.com/0000000000001179.png\",\"available_online\":true,\"available_offline\":false,\"is_career_track\":true,\"course_group_id\":3,\"classroom_icon_url\":\"https://files.codingninjas.in/0000000000003777.png\"},{\"id\":4,\"title\":\"Interview Preparation\",\"online_title\":\"online-interview-preparation\",\"offline_title\":\"classroom-interview-preparation\",\"name\":\"Interview Preparation Course\",\"level\":\"Advanced Courses\",\"brief_intro\":\"Brief Intro\",\"preview_image_url\":\"https://ninjasfiles.s3.amazonaws.com/0000000000001178.png\",\"available_online\":true,\"available_offline\":false,\"is_career_track\":false,\"course_group_id\":1,\"classroom_icon_url\":\"https://files.codingninjas.in/0000000000003765.png\"},{\"id\":17,\"title\":\"C++ \\u0026 Web Dev (Node.js)\",\"online_title\":\"web-developer-career-track\",\"offline_title\":\"\",\"name\":\"Ninja  Web Developer Career Track - NodeJS\",\"level\":\"Career Tracks\",\"brief_intro\":\"Programming foundation + Full Stack Web Development Career Track\",\"preview_image_url\":\"https://ninjasfiles.s3.amazonaws.com/0000000000001179.png\",\"available_online\":true,\"available_offline\":false,\"is_career_track\":true,\"course_group_id\":3,\"classroom_icon_url\":\"https://files.codingninjas.in/0000000000003777.png\"},{\"id\":10,\"title\":\"Competitive Programming\",\"online_title\":\"online-competitive-programming-course\",\"offline_title\":\"\",\"name\":\"Competitive Programming Course\",\"level\":\"Advanced Courses\",\"brief_intro\":\"Eminence\",\"preview_image_url\":\"https://ninjasfiles.s3.amazonaws.com/0000000000001177.png\",\"available_online\":true,\"available_offline\":false,\"is_career_track\":false,\"course_group_id\":1,\"classroom_icon_url\":\"https://files.codingninjas.in/0000000000003762.png\"},{\"id\":18,\"title\":\"Data Scientist\",\"online_title\":\"data-Scientist-career-track\",\"offline_title\":\"\",\"name\":\"Ninja Data Scientist Career Track\",\"level\":\"Career Tracks\",\"brief_intro\":\"Programming foundation + Data Science with ML career track\",\"preview_image_url\":\"https://ninjasfiles.s3.amazonaws.com/0000000000001371.png\",\"available_online\":true,\"available_offline\":false,\"is_career_track\":true,\"course_group_id\":3,\"classroom_icon_url\":\"https://files.codingninjas.in/0000000000003778.png\"},{\"id\":11,\"title\":\"Python \\u0026 Data Structures\",\"online_title\":\"online-python-course\",\"offline_title\":\"offline-python-course\",\"name\":\"Python Foundation with Data Structures\",\"level\":\"Foundation Courses\",\"brief_intro\":\"Python Foundation\",\"preview_image_url\":\"https://ninjasfiles.s3.amazonaws.com/0000000000001282.png\",\"available_online\":true,\"available_offline\":false,\"is_career_track\":false,\"course_group_id\":1,\"classroom_icon_url\":\"https://files.codingninjas.in/0000000000003773.png\"},{\"id\":33,\"title\":\"Android (Kotlin)\",\"online_title\":\"online-android-Development-kotlin\",\"offline_title\":\"\",\"name\":\"Android Development with Kotlin\",\"level\":\"Development Courses\",\"brief_intro\":\"Android Development Kotlin\",\"preview_image_url\":\"https://ninjasfiles.s3.amazonaws.com/0000000000001175.png\",\"available_online\":true,\"available_offline\":false,\"is_career_track\":false,\"course_group_id\":2,\"classroom_icon_url\":\"https://files.codingninjas.in/0000000000003761.png\"},{\"id\":19,\"title\":\"Machine Learning\",\"online_title\":\"machine-learning-engineer-career-track\",\"offline_title\":\"\",\"name\":\"Ninja Machine Learning Engineer Career Track\",\"level\":\"Career Tracks\",\"brief_intro\":\"Programming foundation + Machine Learning career track\",\"preview_image_url\":\"https://ninjasfiles.s3.amazonaws.com/0000000000001181.png\",\"available_online\":true,\"available_offline\":false,\"is_career_track\":true,\"course_group_id\":3,\"classroom_icon_url\":\"https://files.codingninjas.in/0000000000003776.png\"},{\"id\":21,\"title\":\"Aptitude Preparation\",\"online_title\":\"online-aptitude-preparation\",\"offline_title\":\"\",\"name\":\"Aptitude Preparation Course\",\"level\":\"Foundation Courses\",\"brief_intro\":\"Brief Intro\",\"preview_image_url\":\"https://ninjasfiles.s3.amazonaws.com/0000000000001178.png\",\"available_online\":true,\"available_offline\":false,\"is_career_track\":false,\"course_group_id\":1,\"classroom_icon_url\":\"https://files.codingninjas.in/0000000000003770.png\"}],\"course_groups\":[{\"id\":1,\"name\":\"Foundation, Algorithmic \\u0026 Advanced\",\"order\":1,\"course_ids\":[1,73,2,66,4,10,11,21],\"json_data\":{\"color\":\"#FFEBC2\",\"image_link\":\"https://ninjasfiles.s3.amazonaws.com/0000000000003821.png\",\"text_color\":\"#AC933C\",\"short_description\":\"Foundation courses are designed such that \\u003cstrong\\u003eno prerequisites are required.\\u003c/strong\\u003e Data Structures(DS) and Algorithms(algo.) parts build on the basics to give you a \\u003cstrong\\u003esolid programming foundation\\u003c/strong\\u003e. Competitive is where you start to \\u003cstrong\\u003epush the boundaries!\\u003c/strong\\u003e\",\"mobile_short_description\":\"Foundation courses are designed such that \\u003cspan\\u003eno prerequisites are required.\\u003c/span\\u003e\"},\"is_independent\":false},{\"id\":2,\"name\":\"Data \\u0026 Development\",\"order\":2,\"course_ids\":[6,34,12,13,33],\"json_data\":{\"color\":\"#80D4B1\",\"image_link\":\"https://files.codingninjas.in/0000000000003846.svg\",\"text_color\":\"#257D68\",\"short_description\":\"Data courses dwell in the state of the art algorithms and require good knowledge of programming fundamentals. Web development courses use modern JavaScript to build powerful and fast applications from the ground up. \\u003cstrong\\u003eNo prior development experience needed\\u003c/strong\\u003e\",\"mobile_short_description\":\"Data courses dwell in the state of the art algorithms and require good knowledge of programming fundamentals. Web development courses use modern JavaScript to build powerful and fast applications from the ground up. \\u003cspan\\u003eNo prior development experience needed\\u003c/span\\u003e\"},\"is_independent\":false},{\"id\":3,\"name\":\"Career Track\",\"order\":3,\"course_ids\":[16,35,36,17,18,19],\"json_data\":{\"color\":\"#C898FF\",\"image_link\":\"https://files.codingninjas.in/0000000000003845.svg\",\"text_color\":\"#603CAC\",\"short_description\":\"These are courses that take you from \\u003cstrong\\u003ezero to hero\\u003c/strong\\u003e. Each track is designed specifically to cater to a particular goal you can choose and \\u003cstrong\\u003ecovers everything you need to learn and assumes no prior knowledge.\\u003c/strong\\u003e\",\"mobile_short_description\":\"Each track is designed specifically to cater to a particular goal you can choose and \\u003cspan\\u003ecovers everything you need to learn and assumes no prior knowledge.\\u003c/span\\u003e\"},\"is_independent\":true},{\"id\":7,\"name\":\"Premium Course\",\"order\":null,\"course_ids\":[40,45,44,43,41,42],\"json_data\":null,\"is_independent\":true}]},\"message\":\"Courses\",\"status\":200,\"error\":null,\"disabled\":false,\"update\":false,\"external_rating\":null}\n",
      "https://codingninjas.in:443/api/v3/courses\n"
     ]
    }
   ],
   "source": [
    "import requests\n",
    "response = requests.get('http://codingninjas.in/api/v3/courses')\n",
    "print(response.text)\n",
    "print(response.url)"
   ]
  },
  {
   "cell_type": "code",
   "execution_count": 17,
   "id": "75c9f64c",
   "metadata": {},
   "outputs": [
    {
     "name": "stdout",
     "output_type": "stream",
     "text": [
      "<class 'dict'>\n",
      "<class 'list'>\n",
      "Machine Learning\n",
      "Data structures and Algorithms [C++/Java/Python]\n",
      "Premium Android Course\n",
      "Premium Machine Learning Course\n",
      "Premium Data Science Course\n",
      "Competitive Programmer\n",
      "Premium Competitive Course\n",
      "C++ & Data Structures\n",
      "Premium Web Dev Course\n",
      "System Design Course\n",
      "Front End (React)\n",
      "Web Dev (Full Stack)\n",
      "Java & Data Structures\n",
      "Android Developer\n",
      "Grokking the Operating Systems Interview\n",
      "Data Science\n",
      "Python & Web Dev (MERN)\n",
      "Interview Preparation\n",
      "C++ & Web Dev (Node.js)\n",
      "Competitive Programming\n",
      "Data Scientist\n",
      "Python & Data Structures\n",
      "Android (Kotlin)\n",
      "Machine Learning\n",
      "Aptitude Preparation\n"
     ]
    }
   ],
   "source": [
    "import json \n",
    "python_data = json.loads(response.text) # convert json to python\n",
    "print(type(python_data)) # type of python data\n",
    "all_courses = python_data['data']['courses'] \n",
    "print(type(all_courses))\n",
    "for i in all_courses:\n",
    "    print(i['title']) # title of courses"
   ]
  },
  {
   "cell_type": "code",
   "execution_count": 18,
   "id": "5fd30576",
   "metadata": {},
   "outputs": [
    {
     "name": "stdout",
     "output_type": "stream",
     "text": [
      "<class 'dict'>\n",
      "<class 'list'>\n",
      "Machine Learning\n",
      "Data structures and Algorithms [C++/Java/Python]\n",
      "Premium Android Course\n",
      "Premium Machine Learning Course\n",
      "Premium Data Science Course\n",
      "Competitive Programmer\n",
      "Premium Competitive Course\n",
      "C++ & Data Structures\n",
      "Premium Web Dev Course\n",
      "System Design Course\n",
      "Front End (React)\n",
      "Web Dev (Full Stack)\n",
      "Java & Data Structures\n",
      "Android Developer\n",
      "Grokking the Operating Systems Interview\n",
      "Data Science\n",
      "Python & Web Dev (MERN)\n",
      "Interview Preparation\n",
      "C++ & Web Dev (Node.js)\n",
      "Competitive Programming\n",
      "Data Scientist\n",
      "Python & Data Structures\n",
      "Android (Kotlin)\n",
      "Machine Learning\n",
      "Aptitude Preparation\n",
      "25\n"
     ]
    }
   ],
   "source": [
    "import json \n",
    "python_data = json.loads(response.text)\n",
    "print(type(python_data))\n",
    "all_courses = python_data['data']['courses']\n",
    "print(type(all_courses))\n",
    "for i in all_courses:\n",
    "    print(i['title'])\n",
    "\n",
    "print(len(all_courses)) # lenght of all_courses"
   ]
  },
  {
   "cell_type": "code",
   "execution_count": 21,
   "id": "1c04e122",
   "metadata": {},
   "outputs": [
    {
     "name": "stdout",
     "output_type": "stream",
     "text": [
      "{'data': {'courses': [{'id': 6, 'title': 'Machine Learning', 'online_title': 'online-machine-learning-course', 'offline_title': 'classroom-machine-learning-course', 'name': 'Machine Learning & Deep Learning Course', 'level': 'Advanced Courses', 'brief_intro': 'Machine learning engineers build, implement, and maintain machine learning systems in technology products.', 'preview_image_url': 'https://ninjasfiles.s3.amazonaws.com/0000000000001181.png', 'available_online': True, 'available_offline': False, 'is_career_track': False, 'course_group_id': 2, 'classroom_icon_url': 'https://files.codingninjas.in/0000000000003766.png'}, {'id': 40, 'title': 'Data structures and Algorithms [C++/Java/Python]', 'online_title': 'premium-foundation-course', 'offline_title': '', 'name': 'Premium Data structures and Algorithms [C++/Java/Python]', 'level': 'Foundation Courses', 'brief_intro': '', 'preview_image_url': '', 'available_online': True, 'available_offline': False, 'is_career_track': False, 'course_group_id': 7, 'classroom_icon_url': 'https://files.codingninjas.in/0000000000003765.png'}, {'id': 45, 'title': 'Premium Android Course', 'online_title': 'premium-android-app-development-course', 'offline_title': '', 'name': 'Premium Android App Development', 'level': 'Foundation Courses', 'brief_intro': '', 'preview_image_url': '', 'available_online': True, 'available_offline': False, 'is_career_track': False, 'course_group_id': 7, 'classroom_icon_url': 'https://files.codingninjas.in/0000000000003765.png'}, {'id': 44, 'title': 'Premium Machine Learning Course', 'online_title': 'premium-machine-learning-course', 'offline_title': '', 'name': 'Premium Machine Learning Course', 'level': 'Foundation Courses', 'brief_intro': '', 'preview_image_url': '', 'available_online': True, 'available_offline': False, 'is_career_track': False, 'course_group_id': 7, 'classroom_icon_url': 'https://files.codingninjas.in/0000000000003765.png'}, {'id': 43, 'title': 'Premium Data Science Course', 'online_title': 'premium-data-science-course', 'offline_title': '', 'name': 'Premium Data Science Course', 'level': 'Foundation Courses', 'brief_intro': '', 'preview_image_url': '', 'available_online': True, 'available_offline': False, 'is_career_track': False, 'course_group_id': 7, 'classroom_icon_url': 'https://files.codingninjas.com/data-science-11645.png'}, {'id': 16, 'title': 'Competitive Programmer', 'online_title': 'online-competitive-programming-track', 'offline_title': '', 'name': 'Ninja Competitive Programmer Track', 'level': 'Career Tracks', 'brief_intro': 'Competitive Track', 'preview_image_url': 'https://files.codingninjas.in/0000000000001177.png', 'available_online': True, 'available_offline': False, 'is_career_track': True, 'course_group_id': 3, 'classroom_icon_url': 'https://files.codingninjas.com/competitive-programming-11703.svg'}, {'id': 41, 'title': 'Premium Competitive Course', 'online_title': 'premium-competitive-course', 'offline_title': '', 'name': 'Premium Competitive Programming Course', 'level': 'Foundation Courses', 'brief_intro': '', 'preview_image_url': '', 'available_online': True, 'available_offline': False, 'is_career_track': False, 'course_group_id': 7, 'classroom_icon_url': 'https://files.codingninjas.in/0000000000003765.png'}, {'id': 1, 'title': 'C++ & Data Structures', 'online_title': 'onlline-c-plus-plus-course', 'offline_title': 'classroom-c-plus-plus-course', 'name': 'C++ Foundation with Data Structures', 'level': 'Foundation Courses', 'brief_intro': 'Brief Intro', 'preview_image_url': 'https://files.codingninjas.in/0000000000001176.png', 'available_online': True, 'available_offline': False, 'is_career_track': False, 'course_group_id': 1, 'classroom_icon_url': 'https://files.codingninjas.in/0000000000003771.png'}, {'id': 42, 'title': 'Premium Web Dev Course', 'online_title': 'premium-full-stack-web-development-course', 'offline_title': '', 'name': 'Premium Full Stack Web Development', 'level': 'Foundation Courses', 'brief_intro': '', 'preview_image_url': '', 'available_online': True, 'available_offline': False, 'is_career_track': False, 'course_group_id': 7, 'classroom_icon_url': 'https://files.codingninjas.in/0000000000003765.png'}, {'id': 73, 'title': 'System Design Course', 'online_title': 'system-design-course', 'offline_title': '', 'name': 'System Design Course', 'level': 'Foundation Courses', 'brief_intro': 'Brief Intro', 'preview_image_url': 'https://ninjasfiles.s3.amazonaws.com/0000000000001178.png', 'available_online': True, 'available_offline': False, 'is_career_track': False, 'course_group_id': 1, 'classroom_icon_url': 'https://files.codingninjas.com/system-design-icon-11401.svg'}, {'id': 34, 'title': 'Front End (React)', 'online_title': 'online-web-dev-with-react', 'offline_title': '', 'name': 'Advanced  Front-End Web Development with React', 'level': 'Development Courses', 'brief_intro': 'Advanced  Front-End Web Development with React', 'preview_image_url': 'https://ninjasfiles.s3.amazonaws.com/0000000000001179.png', 'available_online': True, 'available_offline': False, 'is_career_track': False, 'course_group_id': 2, 'classroom_icon_url': 'https://files.codingninjas.in/0000000000003769.png'}, {'id': 12, 'title': 'Web Dev (Full Stack)', 'online_title': 'online-full-stack-node-js-web-dev-course', 'offline_title': '', 'name': 'Full Stack Web Development', 'level': 'Development Courses', 'brief_intro': 'Web Development', 'preview_image_url': 'https://ninjasfiles.s3.amazonaws.com/0000000000001179.png', 'available_online': True, 'available_offline': False, 'is_career_track': False, 'course_group_id': 2, 'classroom_icon_url': 'https://files.codingninjas.in/0000000000003764.png'}, {'id': 2, 'title': 'Java & Data Structures', 'online_title': 'online-java-course', 'offline_title': 'classroom-java-course', 'name': 'JAVA Foundation with Data Structures', 'level': 'Foundation Courses', 'brief_intro': 'Brief Intro', 'preview_image_url': 'https://ninjasfiles.s3.amazonaws.com/0000000000001255.png', 'available_online': True, 'available_offline': False, 'is_career_track': False, 'course_group_id': 1, 'classroom_icon_url': 'https://files.codingninjas.in/0000000000003772.png'}, {'id': 35, 'title': 'Android Developer', 'online_title': 'online-android-development-career-track', 'offline_title': '', 'name': 'Ninja Android Developer Career Track ', 'level': 'Career Tracks', 'brief_intro': 'beginner to pro Android Developer!', 'preview_image_url': 'https://ninjasfiles.s3.amazonaws.com/0000000000001175.png', 'available_online': True, 'available_offline': False, 'is_career_track': True, 'course_group_id': 3, 'classroom_icon_url': 'https://files.codingninjas.in/0000000000003774.png'}, {'id': 66, 'title': 'Grokking the Operating Systems Interview', 'online_title': 'operating-system', 'offline_title': '', 'name': 'Grokking the Operating Systems Interview', 'level': 'Foundation Courses', 'brief_intro': 'Brief Intro', 'preview_image_url': 'https://ninjasfiles.s3.amazonaws.com/0000000000001178.png', 'available_online': True, 'available_offline': False, 'is_career_track': False, 'course_group_id': 1, 'classroom_icon_url': 'https://files.codingninjas.in/ubuntu-brands-10404.png'}, {'id': 13, 'title': 'Data Science', 'online_title': 'online-data-science-course', 'offline_title': '', 'name': 'Data Science & Machine Learning Complete', 'level': 'Advanced Courses', 'brief_intro': 'Brief Intro', 'preview_image_url': 'https://ninjasfiles.s3.amazonaws.com/0000000000001371.png', 'available_online': True, 'available_offline': False, 'is_career_track': False, 'course_group_id': 2, 'classroom_icon_url': 'https://files.codingninjas.in/0000000000003763.png'}, {'id': 36, 'title': 'Python & Web Dev (MERN)', 'online_title': 'ninja-web-developer-career-track-mern-stack', 'offline_title': '', 'name': 'Ninja  Web Developer Career Track - NodeJS & ReactJs', 'level': 'Career Tracks', 'brief_intro': 'Programming foundation + MERN Stack Web Development complete Career Track', 'preview_image_url': 'https://ninjasfiles.s3.amazonaws.com/0000000000001179.png', 'available_online': True, 'available_offline': False, 'is_career_track': True, 'course_group_id': 3, 'classroom_icon_url': 'https://files.codingninjas.in/0000000000003777.png'}, {'id': 4, 'title': 'Interview Preparation', 'online_title': 'online-interview-preparation', 'offline_title': 'classroom-interview-preparation', 'name': 'Interview Preparation Course', 'level': 'Advanced Courses', 'brief_intro': 'Brief Intro', 'preview_image_url': 'https://ninjasfiles.s3.amazonaws.com/0000000000001178.png', 'available_online': True, 'available_offline': False, 'is_career_track': False, 'course_group_id': 1, 'classroom_icon_url': 'https://files.codingninjas.in/0000000000003765.png'}, {'id': 17, 'title': 'C++ & Web Dev (Node.js)', 'online_title': 'web-developer-career-track', 'offline_title': '', 'name': 'Ninja  Web Developer Career Track - NodeJS', 'level': 'Career Tracks', 'brief_intro': 'Programming foundation + Full Stack Web Development Career Track', 'preview_image_url': 'https://ninjasfiles.s3.amazonaws.com/0000000000001179.png', 'available_online': True, 'available_offline': False, 'is_career_track': True, 'course_group_id': 3, 'classroom_icon_url': 'https://files.codingninjas.in/0000000000003777.png'}, {'id': 10, 'title': 'Competitive Programming', 'online_title': 'online-competitive-programming-course', 'offline_title': '', 'name': 'Competitive Programming Course', 'level': 'Advanced Courses', 'brief_intro': 'Eminence', 'preview_image_url': 'https://ninjasfiles.s3.amazonaws.com/0000000000001177.png', 'available_online': True, 'available_offline': False, 'is_career_track': False, 'course_group_id': 1, 'classroom_icon_url': 'https://files.codingninjas.in/0000000000003762.png'}, {'id': 18, 'title': 'Data Scientist', 'online_title': 'data-Scientist-career-track', 'offline_title': '', 'name': 'Ninja Data Scientist Career Track', 'level': 'Career Tracks', 'brief_intro': 'Programming foundation + Data Science with ML career track', 'preview_image_url': 'https://ninjasfiles.s3.amazonaws.com/0000000000001371.png', 'available_online': True, 'available_offline': False, 'is_career_track': True, 'course_group_id': 3, 'classroom_icon_url': 'https://files.codingninjas.in/0000000000003778.png'}, {'id': 11, 'title': 'Python & Data Structures', 'online_title': 'online-python-course', 'offline_title': 'offline-python-course', 'name': 'Python Foundation with Data Structures', 'level': 'Foundation Courses', 'brief_intro': 'Python Foundation', 'preview_image_url': 'https://ninjasfiles.s3.amazonaws.com/0000000000001282.png', 'available_online': True, 'available_offline': False, 'is_career_track': False, 'course_group_id': 1, 'classroom_icon_url': 'https://files.codingninjas.in/0000000000003773.png'}, {'id': 33, 'title': 'Android (Kotlin)', 'online_title': 'online-android-Development-kotlin', 'offline_title': '', 'name': 'Android Development with Kotlin', 'level': 'Development Courses', 'brief_intro': 'Android Development Kotlin', 'preview_image_url': 'https://ninjasfiles.s3.amazonaws.com/0000000000001175.png', 'available_online': True, 'available_offline': False, 'is_career_track': False, 'course_group_id': 2, 'classroom_icon_url': 'https://files.codingninjas.in/0000000000003761.png'}, {'id': 19, 'title': 'Machine Learning', 'online_title': 'machine-learning-engineer-career-track', 'offline_title': '', 'name': 'Ninja Machine Learning Engineer Career Track', 'level': 'Career Tracks', 'brief_intro': 'Programming foundation + Machine Learning career track', 'preview_image_url': 'https://ninjasfiles.s3.amazonaws.com/0000000000001181.png', 'available_online': True, 'available_offline': False, 'is_career_track': True, 'course_group_id': 3, 'classroom_icon_url': 'https://files.codingninjas.in/0000000000003776.png'}, {'id': 21, 'title': 'Aptitude Preparation', 'online_title': 'online-aptitude-preparation', 'offline_title': '', 'name': 'Aptitude Preparation Course', 'level': 'Foundation Courses', 'brief_intro': 'Brief Intro', 'preview_image_url': 'https://ninjasfiles.s3.amazonaws.com/0000000000001178.png', 'available_online': True, 'available_offline': False, 'is_career_track': False, 'course_group_id': 1, 'classroom_icon_url': 'https://files.codingninjas.in/0000000000003770.png'}], 'course_groups': [{'id': 1, 'name': 'Foundation, Algorithmic & Advanced', 'order': 1, 'course_ids': [1, 73, 2, 66, 4, 10, 11, 21], 'json_data': {'color': '#FFEBC2', 'image_link': 'https://ninjasfiles.s3.amazonaws.com/0000000000003821.png', 'text_color': '#AC933C', 'short_description': 'Foundation courses are designed such that\\xa0<strong>no prerequisites are required.</strong>\\xa0Data Structures(DS) and Algorithms(algo.) parts build on the basics to give you a\\xa0<strong>solid programming foundation</strong>.\\xa0Competitive is where you start to\\xa0<strong>push the boundaries!</strong>', 'mobile_short_description': 'Foundation courses are designed such that\\xa0<span>no prerequisites are required.</span>'}, 'is_independent': False}, {'id': 2, 'name': 'Data & Development', 'order': 2, 'course_ids': [6, 34, 12, 13, 33], 'json_data': {'color': '#80D4B1', 'image_link': 'https://files.codingninjas.in/0000000000003846.svg', 'text_color': '#257D68', 'short_description': 'Data courses dwell in the state of the art algorithms and require good knowledge of programming fundamentals. Web development courses use modern JavaScript to build powerful and fast applications from the ground up.\\xa0<strong>No prior development experience needed</strong>', 'mobile_short_description': 'Data courses dwell in the state of the art algorithms and require good knowledge of programming fundamentals. Web development courses use modern JavaScript to build powerful and fast applications from the ground up.\\xa0<span>No prior development experience needed</span>'}, 'is_independent': False}, {'id': 3, 'name': 'Career Track', 'order': 3, 'course_ids': [16, 35, 36, 17, 18, 19], 'json_data': {'color': '#C898FF', 'image_link': 'https://files.codingninjas.in/0000000000003845.svg', 'text_color': '#603CAC', 'short_description': 'These are courses that take you from\\xa0<strong>zero to hero</strong>. Each track is designed specifically to cater to a particular goal you can choose and\\xa0<strong>covers everything you need to learn and assumes no prior knowledge.</strong>', 'mobile_short_description': 'Each track is designed specifically to cater to a particular goal you can choose and\\xa0<span>covers everything you need to learn and assumes no prior knowledge.</span>'}, 'is_independent': True}, {'id': 7, 'name': 'Premium Course', 'order': None, 'course_ids': [40, 45, 44, 43, 41, 42], 'json_data': None, 'is_independent': True}]}, 'message': 'Courses', 'status': 200, 'error': None, 'disabled': False, 'update': False, 'external_rating': None}\n"
     ]
    }
   ],
   "source": [
    "print(python_data)"
   ]
  },
  {
   "cell_type": "code",
   "execution_count": 20,
   "id": "8e296cbb",
   "metadata": {},
   "outputs": [
    {
     "data": {
      "text/plain": [
       "{'data': {'courses': [{'id': 6,\n",
       "    'title': 'Machine Learning',\n",
       "    'online_title': 'online-machine-learning-course',\n",
       "    'offline_title': 'classroom-machine-learning-course',\n",
       "    'name': 'Machine Learning & Deep Learning Course',\n",
       "    'level': 'Advanced Courses',\n",
       "    'brief_intro': 'Machine learning engineers build, implement, and maintain machine learning systems in technology products.',\n",
       "    'preview_image_url': 'https://ninjasfiles.s3.amazonaws.com/0000000000001181.png',\n",
       "    'available_online': True,\n",
       "    'available_offline': False,\n",
       "    'is_career_track': False,\n",
       "    'course_group_id': 2,\n",
       "    'classroom_icon_url': 'https://files.codingninjas.in/0000000000003766.png'},\n",
       "   {'id': 40,\n",
       "    'title': 'Data structures and Algorithms [C++/Java/Python]',\n",
       "    'online_title': 'premium-foundation-course',\n",
       "    'offline_title': '',\n",
       "    'name': 'Premium Data structures and Algorithms [C++/Java/Python]',\n",
       "    'level': 'Foundation Courses',\n",
       "    'brief_intro': '',\n",
       "    'preview_image_url': '',\n",
       "    'available_online': True,\n",
       "    'available_offline': False,\n",
       "    'is_career_track': False,\n",
       "    'course_group_id': 7,\n",
       "    'classroom_icon_url': 'https://files.codingninjas.in/0000000000003765.png'},\n",
       "   {'id': 45,\n",
       "    'title': 'Premium Android Course',\n",
       "    'online_title': 'premium-android-app-development-course',\n",
       "    'offline_title': '',\n",
       "    'name': 'Premium Android App Development',\n",
       "    'level': 'Foundation Courses',\n",
       "    'brief_intro': '',\n",
       "    'preview_image_url': '',\n",
       "    'available_online': True,\n",
       "    'available_offline': False,\n",
       "    'is_career_track': False,\n",
       "    'course_group_id': 7,\n",
       "    'classroom_icon_url': 'https://files.codingninjas.in/0000000000003765.png'},\n",
       "   {'id': 44,\n",
       "    'title': 'Premium Machine Learning Course',\n",
       "    'online_title': 'premium-machine-learning-course',\n",
       "    'offline_title': '',\n",
       "    'name': 'Premium Machine Learning Course',\n",
       "    'level': 'Foundation Courses',\n",
       "    'brief_intro': '',\n",
       "    'preview_image_url': '',\n",
       "    'available_online': True,\n",
       "    'available_offline': False,\n",
       "    'is_career_track': False,\n",
       "    'course_group_id': 7,\n",
       "    'classroom_icon_url': 'https://files.codingninjas.in/0000000000003765.png'},\n",
       "   {'id': 43,\n",
       "    'title': 'Premium Data Science Course',\n",
       "    'online_title': 'premium-data-science-course',\n",
       "    'offline_title': '',\n",
       "    'name': 'Premium Data Science Course',\n",
       "    'level': 'Foundation Courses',\n",
       "    'brief_intro': '',\n",
       "    'preview_image_url': '',\n",
       "    'available_online': True,\n",
       "    'available_offline': False,\n",
       "    'is_career_track': False,\n",
       "    'course_group_id': 7,\n",
       "    'classroom_icon_url': 'https://files.codingninjas.com/data-science-11645.png'},\n",
       "   {'id': 16,\n",
       "    'title': 'Competitive Programmer',\n",
       "    'online_title': 'online-competitive-programming-track',\n",
       "    'offline_title': '',\n",
       "    'name': 'Ninja Competitive Programmer Track',\n",
       "    'level': 'Career Tracks',\n",
       "    'brief_intro': 'Competitive Track',\n",
       "    'preview_image_url': 'https://files.codingninjas.in/0000000000001177.png',\n",
       "    'available_online': True,\n",
       "    'available_offline': False,\n",
       "    'is_career_track': True,\n",
       "    'course_group_id': 3,\n",
       "    'classroom_icon_url': 'https://files.codingninjas.com/competitive-programming-11703.svg'},\n",
       "   {'id': 41,\n",
       "    'title': 'Premium Competitive Course',\n",
       "    'online_title': 'premium-competitive-course',\n",
       "    'offline_title': '',\n",
       "    'name': 'Premium Competitive Programming Course',\n",
       "    'level': 'Foundation Courses',\n",
       "    'brief_intro': '',\n",
       "    'preview_image_url': '',\n",
       "    'available_online': True,\n",
       "    'available_offline': False,\n",
       "    'is_career_track': False,\n",
       "    'course_group_id': 7,\n",
       "    'classroom_icon_url': 'https://files.codingninjas.in/0000000000003765.png'},\n",
       "   {'id': 1,\n",
       "    'title': 'C++ & Data Structures',\n",
       "    'online_title': 'onlline-c-plus-plus-course',\n",
       "    'offline_title': 'classroom-c-plus-plus-course',\n",
       "    'name': 'C++ Foundation with Data Structures',\n",
       "    'level': 'Foundation Courses',\n",
       "    'brief_intro': 'Brief Intro',\n",
       "    'preview_image_url': 'https://files.codingninjas.in/0000000000001176.png',\n",
       "    'available_online': True,\n",
       "    'available_offline': False,\n",
       "    'is_career_track': False,\n",
       "    'course_group_id': 1,\n",
       "    'classroom_icon_url': 'https://files.codingninjas.in/0000000000003771.png'},\n",
       "   {'id': 42,\n",
       "    'title': 'Premium Web Dev Course',\n",
       "    'online_title': 'premium-full-stack-web-development-course',\n",
       "    'offline_title': '',\n",
       "    'name': 'Premium Full Stack Web Development',\n",
       "    'level': 'Foundation Courses',\n",
       "    'brief_intro': '',\n",
       "    'preview_image_url': '',\n",
       "    'available_online': True,\n",
       "    'available_offline': False,\n",
       "    'is_career_track': False,\n",
       "    'course_group_id': 7,\n",
       "    'classroom_icon_url': 'https://files.codingninjas.in/0000000000003765.png'},\n",
       "   {'id': 73,\n",
       "    'title': 'System Design Course',\n",
       "    'online_title': 'system-design-course',\n",
       "    'offline_title': '',\n",
       "    'name': 'System Design Course',\n",
       "    'level': 'Foundation Courses',\n",
       "    'brief_intro': 'Brief Intro',\n",
       "    'preview_image_url': 'https://ninjasfiles.s3.amazonaws.com/0000000000001178.png',\n",
       "    'available_online': True,\n",
       "    'available_offline': False,\n",
       "    'is_career_track': False,\n",
       "    'course_group_id': 1,\n",
       "    'classroom_icon_url': 'https://files.codingninjas.com/system-design-icon-11401.svg'},\n",
       "   {'id': 34,\n",
       "    'title': 'Front End (React)',\n",
       "    'online_title': 'online-web-dev-with-react',\n",
       "    'offline_title': '',\n",
       "    'name': 'Advanced  Front-End Web Development with React',\n",
       "    'level': 'Development Courses',\n",
       "    'brief_intro': 'Advanced  Front-End Web Development with React',\n",
       "    'preview_image_url': 'https://ninjasfiles.s3.amazonaws.com/0000000000001179.png',\n",
       "    'available_online': True,\n",
       "    'available_offline': False,\n",
       "    'is_career_track': False,\n",
       "    'course_group_id': 2,\n",
       "    'classroom_icon_url': 'https://files.codingninjas.in/0000000000003769.png'},\n",
       "   {'id': 12,\n",
       "    'title': 'Web Dev (Full Stack)',\n",
       "    'online_title': 'online-full-stack-node-js-web-dev-course',\n",
       "    'offline_title': '',\n",
       "    'name': 'Full Stack Web Development',\n",
       "    'level': 'Development Courses',\n",
       "    'brief_intro': 'Web Development',\n",
       "    'preview_image_url': 'https://ninjasfiles.s3.amazonaws.com/0000000000001179.png',\n",
       "    'available_online': True,\n",
       "    'available_offline': False,\n",
       "    'is_career_track': False,\n",
       "    'course_group_id': 2,\n",
       "    'classroom_icon_url': 'https://files.codingninjas.in/0000000000003764.png'},\n",
       "   {'id': 2,\n",
       "    'title': 'Java & Data Structures',\n",
       "    'online_title': 'online-java-course',\n",
       "    'offline_title': 'classroom-java-course',\n",
       "    'name': 'JAVA Foundation with Data Structures',\n",
       "    'level': 'Foundation Courses',\n",
       "    'brief_intro': 'Brief Intro',\n",
       "    'preview_image_url': 'https://ninjasfiles.s3.amazonaws.com/0000000000001255.png',\n",
       "    'available_online': True,\n",
       "    'available_offline': False,\n",
       "    'is_career_track': False,\n",
       "    'course_group_id': 1,\n",
       "    'classroom_icon_url': 'https://files.codingninjas.in/0000000000003772.png'},\n",
       "   {'id': 35,\n",
       "    'title': 'Android Developer',\n",
       "    'online_title': 'online-android-development-career-track',\n",
       "    'offline_title': '',\n",
       "    'name': 'Ninja Android Developer Career Track ',\n",
       "    'level': 'Career Tracks',\n",
       "    'brief_intro': 'beginner to pro Android Developer!',\n",
       "    'preview_image_url': 'https://ninjasfiles.s3.amazonaws.com/0000000000001175.png',\n",
       "    'available_online': True,\n",
       "    'available_offline': False,\n",
       "    'is_career_track': True,\n",
       "    'course_group_id': 3,\n",
       "    'classroom_icon_url': 'https://files.codingninjas.in/0000000000003774.png'},\n",
       "   {'id': 66,\n",
       "    'title': 'Grokking the Operating Systems Interview',\n",
       "    'online_title': 'operating-system',\n",
       "    'offline_title': '',\n",
       "    'name': 'Grokking the Operating Systems Interview',\n",
       "    'level': 'Foundation Courses',\n",
       "    'brief_intro': 'Brief Intro',\n",
       "    'preview_image_url': 'https://ninjasfiles.s3.amazonaws.com/0000000000001178.png',\n",
       "    'available_online': True,\n",
       "    'available_offline': False,\n",
       "    'is_career_track': False,\n",
       "    'course_group_id': 1,\n",
       "    'classroom_icon_url': 'https://files.codingninjas.in/ubuntu-brands-10404.png'},\n",
       "   {'id': 13,\n",
       "    'title': 'Data Science',\n",
       "    'online_title': 'online-data-science-course',\n",
       "    'offline_title': '',\n",
       "    'name': 'Data Science & Machine Learning Complete',\n",
       "    'level': 'Advanced Courses',\n",
       "    'brief_intro': 'Brief Intro',\n",
       "    'preview_image_url': 'https://ninjasfiles.s3.amazonaws.com/0000000000001371.png',\n",
       "    'available_online': True,\n",
       "    'available_offline': False,\n",
       "    'is_career_track': False,\n",
       "    'course_group_id': 2,\n",
       "    'classroom_icon_url': 'https://files.codingninjas.in/0000000000003763.png'},\n",
       "   {'id': 36,\n",
       "    'title': 'Python & Web Dev (MERN)',\n",
       "    'online_title': 'ninja-web-developer-career-track-mern-stack',\n",
       "    'offline_title': '',\n",
       "    'name': 'Ninja  Web Developer Career Track - NodeJS & ReactJs',\n",
       "    'level': 'Career Tracks',\n",
       "    'brief_intro': 'Programming foundation + MERN Stack Web Development complete Career Track',\n",
       "    'preview_image_url': 'https://ninjasfiles.s3.amazonaws.com/0000000000001179.png',\n",
       "    'available_online': True,\n",
       "    'available_offline': False,\n",
       "    'is_career_track': True,\n",
       "    'course_group_id': 3,\n",
       "    'classroom_icon_url': 'https://files.codingninjas.in/0000000000003777.png'},\n",
       "   {'id': 4,\n",
       "    'title': 'Interview Preparation',\n",
       "    'online_title': 'online-interview-preparation',\n",
       "    'offline_title': 'classroom-interview-preparation',\n",
       "    'name': 'Interview Preparation Course',\n",
       "    'level': 'Advanced Courses',\n",
       "    'brief_intro': 'Brief Intro',\n",
       "    'preview_image_url': 'https://ninjasfiles.s3.amazonaws.com/0000000000001178.png',\n",
       "    'available_online': True,\n",
       "    'available_offline': False,\n",
       "    'is_career_track': False,\n",
       "    'course_group_id': 1,\n",
       "    'classroom_icon_url': 'https://files.codingninjas.in/0000000000003765.png'},\n",
       "   {'id': 17,\n",
       "    'title': 'C++ & Web Dev (Node.js)',\n",
       "    'online_title': 'web-developer-career-track',\n",
       "    'offline_title': '',\n",
       "    'name': 'Ninja  Web Developer Career Track - NodeJS',\n",
       "    'level': 'Career Tracks',\n",
       "    'brief_intro': 'Programming foundation + Full Stack Web Development Career Track',\n",
       "    'preview_image_url': 'https://ninjasfiles.s3.amazonaws.com/0000000000001179.png',\n",
       "    'available_online': True,\n",
       "    'available_offline': False,\n",
       "    'is_career_track': True,\n",
       "    'course_group_id': 3,\n",
       "    'classroom_icon_url': 'https://files.codingninjas.in/0000000000003777.png'},\n",
       "   {'id': 10,\n",
       "    'title': 'Competitive Programming',\n",
       "    'online_title': 'online-competitive-programming-course',\n",
       "    'offline_title': '',\n",
       "    'name': 'Competitive Programming Course',\n",
       "    'level': 'Advanced Courses',\n",
       "    'brief_intro': 'Eminence',\n",
       "    'preview_image_url': 'https://ninjasfiles.s3.amazonaws.com/0000000000001177.png',\n",
       "    'available_online': True,\n",
       "    'available_offline': False,\n",
       "    'is_career_track': False,\n",
       "    'course_group_id': 1,\n",
       "    'classroom_icon_url': 'https://files.codingninjas.in/0000000000003762.png'},\n",
       "   {'id': 18,\n",
       "    'title': 'Data Scientist',\n",
       "    'online_title': 'data-Scientist-career-track',\n",
       "    'offline_title': '',\n",
       "    'name': 'Ninja Data Scientist Career Track',\n",
       "    'level': 'Career Tracks',\n",
       "    'brief_intro': 'Programming foundation + Data Science with ML career track',\n",
       "    'preview_image_url': 'https://ninjasfiles.s3.amazonaws.com/0000000000001371.png',\n",
       "    'available_online': True,\n",
       "    'available_offline': False,\n",
       "    'is_career_track': True,\n",
       "    'course_group_id': 3,\n",
       "    'classroom_icon_url': 'https://files.codingninjas.in/0000000000003778.png'},\n",
       "   {'id': 11,\n",
       "    'title': 'Python & Data Structures',\n",
       "    'online_title': 'online-python-course',\n",
       "    'offline_title': 'offline-python-course',\n",
       "    'name': 'Python Foundation with Data Structures',\n",
       "    'level': 'Foundation Courses',\n",
       "    'brief_intro': 'Python Foundation',\n",
       "    'preview_image_url': 'https://ninjasfiles.s3.amazonaws.com/0000000000001282.png',\n",
       "    'available_online': True,\n",
       "    'available_offline': False,\n",
       "    'is_career_track': False,\n",
       "    'course_group_id': 1,\n",
       "    'classroom_icon_url': 'https://files.codingninjas.in/0000000000003773.png'},\n",
       "   {'id': 33,\n",
       "    'title': 'Android (Kotlin)',\n",
       "    'online_title': 'online-android-Development-kotlin',\n",
       "    'offline_title': '',\n",
       "    'name': 'Android Development with Kotlin',\n",
       "    'level': 'Development Courses',\n",
       "    'brief_intro': 'Android Development Kotlin',\n",
       "    'preview_image_url': 'https://ninjasfiles.s3.amazonaws.com/0000000000001175.png',\n",
       "    'available_online': True,\n",
       "    'available_offline': False,\n",
       "    'is_career_track': False,\n",
       "    'course_group_id': 2,\n",
       "    'classroom_icon_url': 'https://files.codingninjas.in/0000000000003761.png'},\n",
       "   {'id': 19,\n",
       "    'title': 'Machine Learning',\n",
       "    'online_title': 'machine-learning-engineer-career-track',\n",
       "    'offline_title': '',\n",
       "    'name': 'Ninja Machine Learning Engineer Career Track',\n",
       "    'level': 'Career Tracks',\n",
       "    'brief_intro': 'Programming foundation + Machine Learning career track',\n",
       "    'preview_image_url': 'https://ninjasfiles.s3.amazonaws.com/0000000000001181.png',\n",
       "    'available_online': True,\n",
       "    'available_offline': False,\n",
       "    'is_career_track': True,\n",
       "    'course_group_id': 3,\n",
       "    'classroom_icon_url': 'https://files.codingninjas.in/0000000000003776.png'},\n",
       "   {'id': 21,\n",
       "    'title': 'Aptitude Preparation',\n",
       "    'online_title': 'online-aptitude-preparation',\n",
       "    'offline_title': '',\n",
       "    'name': 'Aptitude Preparation Course',\n",
       "    'level': 'Foundation Courses',\n",
       "    'brief_intro': 'Brief Intro',\n",
       "    'preview_image_url': 'https://ninjasfiles.s3.amazonaws.com/0000000000001178.png',\n",
       "    'available_online': True,\n",
       "    'available_offline': False,\n",
       "    'is_career_track': False,\n",
       "    'course_group_id': 1,\n",
       "    'classroom_icon_url': 'https://files.codingninjas.in/0000000000003770.png'}],\n",
       "  'course_groups': [{'id': 1,\n",
       "    'name': 'Foundation, Algorithmic & Advanced',\n",
       "    'order': 1,\n",
       "    'course_ids': [1, 73, 2, 66, 4, 10, 11, 21],\n",
       "    'json_data': {'color': '#FFEBC2',\n",
       "     'image_link': 'https://ninjasfiles.s3.amazonaws.com/0000000000003821.png',\n",
       "     'text_color': '#AC933C',\n",
       "     'short_description': 'Foundation courses are designed such that\\xa0<strong>no prerequisites are required.</strong>\\xa0Data Structures(DS) and Algorithms(algo.) parts build on the basics to give you a\\xa0<strong>solid programming foundation</strong>.\\xa0Competitive is where you start to\\xa0<strong>push the boundaries!</strong>',\n",
       "     'mobile_short_description': 'Foundation courses are designed such that\\xa0<span>no prerequisites are required.</span>'},\n",
       "    'is_independent': False},\n",
       "   {'id': 2,\n",
       "    'name': 'Data & Development',\n",
       "    'order': 2,\n",
       "    'course_ids': [6, 34, 12, 13, 33],\n",
       "    'json_data': {'color': '#80D4B1',\n",
       "     'image_link': 'https://files.codingninjas.in/0000000000003846.svg',\n",
       "     'text_color': '#257D68',\n",
       "     'short_description': 'Data courses dwell in the state of the art algorithms and require good knowledge of programming fundamentals. Web development courses use modern JavaScript to build powerful and fast applications from the ground up.\\xa0<strong>No prior development experience needed</strong>',\n",
       "     'mobile_short_description': 'Data courses dwell in the state of the art algorithms and require good knowledge of programming fundamentals. Web development courses use modern JavaScript to build powerful and fast applications from the ground up.\\xa0<span>No prior development experience needed</span>'},\n",
       "    'is_independent': False},\n",
       "   {'id': 3,\n",
       "    'name': 'Career Track',\n",
       "    'order': 3,\n",
       "    'course_ids': [16, 35, 36, 17, 18, 19],\n",
       "    'json_data': {'color': '#C898FF',\n",
       "     'image_link': 'https://files.codingninjas.in/0000000000003845.svg',\n",
       "     'text_color': '#603CAC',\n",
       "     'short_description': 'These are courses that take you from\\xa0<strong>zero to hero</strong>. Each track is designed specifically to cater to a particular goal you can choose and\\xa0<strong>covers everything you need to learn and assumes no prior knowledge.</strong>',\n",
       "     'mobile_short_description': 'Each track is designed specifically to cater to a particular goal you can choose and\\xa0<span>covers everything you need to learn and assumes no prior knowledge.</span>'},\n",
       "    'is_independent': True},\n",
       "   {'id': 7,\n",
       "    'name': 'Premium Course',\n",
       "    'order': None,\n",
       "    'course_ids': [40, 45, 44, 43, 41, 42],\n",
       "    'json_data': None,\n",
       "    'is_independent': True}]},\n",
       " 'message': 'Courses',\n",
       " 'status': 200,\n",
       " 'error': None,\n",
       " 'disabled': False,\n",
       " 'update': False,\n",
       " 'external_rating': None}"
      ]
     },
     "execution_count": 20,
     "metadata": {},
     "output_type": "execute_result"
    }
   ],
   "source": [
    "response.json() # we can directly retriver rather than json.loads()"
   ]
  },
  {
   "cell_type": "code",
   "execution_count": 19,
   "id": "cc826d9b",
   "metadata": {},
   "outputs": [
    {
     "name": "stdout",
     "output_type": "stream",
     "text": [
      "{\"message\":{\"affenpinscher\":[],\"african\":[],\"airedale\":[],\"akita\":[],\"appenzeller\":[],\"australian\":[\"shepherd\"],\"basenji\":[],\"beagle\":[],\"bluetick\":[],\"borzoi\":[],\"bouvier\":[],\"boxer\":[],\"brabancon\":[],\"briard\":[],\"buhund\":[\"norwegian\"],\"bulldog\":[\"boston\",\"english\",\"french\"],\"bullterrier\":[\"staffordshire\"],\"cattledog\":[\"australian\"],\"chihuahua\":[],\"chow\":[],\"clumber\":[],\"cockapoo\":[],\"collie\":[\"border\"],\"coonhound\":[],\"corgi\":[\"cardigan\"],\"cotondetulear\":[],\"dachshund\":[],\"dalmatian\":[],\"dane\":[\"great\"],\"deerhound\":[\"scottish\"],\"dhole\":[],\"dingo\":[],\"doberman\":[],\"elkhound\":[\"norwegian\"],\"entlebucher\":[],\"eskimo\":[],\"finnish\":[\"lapphund\"],\"frise\":[\"bichon\"],\"germanshepherd\":[],\"greyhound\":[\"italian\"],\"groenendael\":[],\"havanese\":[],\"hound\":[\"afghan\",\"basset\",\"blood\",\"english\",\"ibizan\",\"plott\",\"walker\"],\"husky\":[],\"keeshond\":[],\"kelpie\":[],\"komondor\":[],\"kuvasz\":[],\"labradoodle\":[],\"labrador\":[],\"leonberg\":[],\"lhasa\":[],\"malamute\":[],\"malinois\":[],\"maltese\":[],\"mastiff\":[\"bull\",\"english\",\"tibetan\"],\"mexicanhairless\":[],\"mix\":[],\"mountain\":[\"bernese\",\"swiss\"],\"newfoundland\":[],\"otterhound\":[],\"ovcharka\":[\"caucasian\"],\"papillon\":[],\"pekinese\":[],\"pembroke\":[],\"pinscher\":[\"miniature\"],\"pitbull\":[],\"pointer\":[\"german\",\"germanlonghair\"],\"pomeranian\":[],\"poodle\":[\"medium\",\"miniature\",\"standard\",\"toy\"],\"pug\":[],\"puggle\":[],\"pyrenees\":[],\"redbone\":[],\"retriever\":[\"chesapeake\",\"curly\",\"flatcoated\",\"golden\"],\"ridgeback\":[\"rhodesian\"],\"rottweiler\":[],\"saluki\":[],\"samoyed\":[],\"schipperke\":[],\"schnauzer\":[\"giant\",\"miniature\"],\"setter\":[\"english\",\"gordon\",\"irish\"],\"sharpei\":[],\"sheepdog\":[\"english\",\"shetland\"],\"shiba\":[],\"shihtzu\":[],\"spaniel\":[\"blenheim\",\"brittany\",\"cocker\",\"irish\",\"japanese\",\"sussex\",\"welsh\"],\"springer\":[\"english\"],\"stbernard\":[],\"terrier\":[\"american\",\"australian\",\"bedlington\",\"border\",\"cairn\",\"dandie\",\"fox\",\"irish\",\"kerryblue\",\"lakeland\",\"norfolk\",\"norwich\",\"patterdale\",\"russell\",\"scottish\",\"sealyham\",\"silky\",\"tibetan\",\"toy\",\"welsh\",\"westhighland\",\"wheaten\",\"yorkshire\"],\"tervuren\":[],\"vizsla\":[],\"waterdog\":[\"spanish\"],\"weimaraner\":[],\"whippet\":[],\"wolfhound\":[\"irish\"]},\"status\":\"success\"}\n"
     ]
    }
   ],
   "source": [
    "p =requests.get('https://dog.ceo/api/breeds/list/all')\n",
    "print(p.text) # printing all the response"
   ]
  },
  {
   "cell_type": "code",
   "execution_count": 22,
   "id": "22254088",
   "metadata": {},
   "outputs": [
    {
     "name": "stdout",
     "output_type": "stream",
     "text": [
      "<class 'dict'>\n",
      "{'message': {'affenpinscher': [], 'african': [], 'airedale': [], 'akita': [], 'appenzeller': [], 'australian': ['shepherd'], 'basenji': [], 'beagle': [], 'bluetick': [], 'borzoi': [], 'bouvier': [], 'boxer': [], 'brabancon': [], 'briard': [], 'buhund': ['norwegian'], 'bulldog': ['boston', 'english', 'french'], 'bullterrier': ['staffordshire'], 'cattledog': ['australian'], 'chihuahua': [], 'chow': [], 'clumber': [], 'cockapoo': [], 'collie': ['border'], 'coonhound': [], 'corgi': ['cardigan'], 'cotondetulear': [], 'dachshund': [], 'dalmatian': [], 'dane': ['great'], 'deerhound': ['scottish'], 'dhole': [], 'dingo': [], 'doberman': [], 'elkhound': ['norwegian'], 'entlebucher': [], 'eskimo': [], 'finnish': ['lapphund'], 'frise': ['bichon'], 'germanshepherd': [], 'greyhound': ['italian'], 'groenendael': [], 'havanese': [], 'hound': ['afghan', 'basset', 'blood', 'english', 'ibizan', 'plott', 'walker'], 'husky': [], 'keeshond': [], 'kelpie': [], 'komondor': [], 'kuvasz': [], 'labradoodle': [], 'labrador': [], 'leonberg': [], 'lhasa': [], 'malamute': [], 'malinois': [], 'maltese': [], 'mastiff': ['bull', 'english', 'tibetan'], 'mexicanhairless': [], 'mix': [], 'mountain': ['bernese', 'swiss'], 'newfoundland': [], 'otterhound': [], 'ovcharka': ['caucasian'], 'papillon': [], 'pekinese': [], 'pembroke': [], 'pinscher': ['miniature'], 'pitbull': [], 'pointer': ['german', 'germanlonghair'], 'pomeranian': [], 'poodle': ['medium', 'miniature', 'standard', 'toy'], 'pug': [], 'puggle': [], 'pyrenees': [], 'redbone': [], 'retriever': ['chesapeake', 'curly', 'flatcoated', 'golden'], 'ridgeback': ['rhodesian'], 'rottweiler': [], 'saluki': [], 'samoyed': [], 'schipperke': [], 'schnauzer': ['giant', 'miniature'], 'setter': ['english', 'gordon', 'irish'], 'sharpei': [], 'sheepdog': ['english', 'shetland'], 'shiba': [], 'shihtzu': [], 'spaniel': ['blenheim', 'brittany', 'cocker', 'irish', 'japanese', 'sussex', 'welsh'], 'springer': ['english'], 'stbernard': [], 'terrier': ['american', 'australian', 'bedlington', 'border', 'cairn', 'dandie', 'fox', 'irish', 'kerryblue', 'lakeland', 'norfolk', 'norwich', 'patterdale', 'russell', 'scottish', 'sealyham', 'silky', 'tibetan', 'toy', 'welsh', 'westhighland', 'wheaten', 'yorkshire'], 'tervuren': [], 'vizsla': [], 'waterdog': ['spanish'], 'weimaraner': [], 'whippet': [], 'wolfhound': ['irish']}, 'status': 'success'}\n"
     ]
    }
   ],
   "source": [
    "p =requests.get('https://dog.ceo/api/breeds/list/all')\n",
    "python_data = p.json()\n",
    "print(type(python_data))\n",
    "\n",
    "print(python_data)"
   ]
  },
  {
   "cell_type": "code",
   "execution_count": 26,
   "id": "43f8d269",
   "metadata": {},
   "outputs": [
    {
     "name": "stdout",
     "output_type": "stream",
     "text": [
      "<class 'dict'>\n",
      "affenpinscher : 0\n",
      "african : 0\n",
      "airedale : 0\n",
      "akita : 0\n",
      "appenzeller : 0\n",
      "australian : 1\n",
      "basenji : 0\n",
      "beagle : 0\n",
      "bluetick : 0\n",
      "borzoi : 0\n",
      "bouvier : 0\n",
      "boxer : 0\n",
      "brabancon : 0\n",
      "briard : 0\n",
      "buhund : 1\n",
      "bulldog : 3\n",
      "bullterrier : 1\n",
      "cattledog : 1\n",
      "chihuahua : 0\n",
      "chow : 0\n",
      "clumber : 0\n",
      "cockapoo : 0\n",
      "collie : 1\n",
      "coonhound : 0\n",
      "corgi : 1\n",
      "cotondetulear : 0\n",
      "dachshund : 0\n",
      "dalmatian : 0\n",
      "dane : 1\n",
      "deerhound : 1\n",
      "dhole : 0\n",
      "dingo : 0\n",
      "doberman : 0\n",
      "elkhound : 1\n",
      "entlebucher : 0\n",
      "eskimo : 0\n",
      "finnish : 1\n",
      "frise : 1\n",
      "germanshepherd : 0\n",
      "greyhound : 1\n",
      "groenendael : 0\n",
      "havanese : 0\n",
      "hound : 7\n",
      "husky : 0\n",
      "keeshond : 0\n",
      "kelpie : 0\n",
      "komondor : 0\n",
      "kuvasz : 0\n",
      "labradoodle : 0\n",
      "labrador : 0\n",
      "leonberg : 0\n",
      "lhasa : 0\n",
      "malamute : 0\n",
      "malinois : 0\n",
      "maltese : 0\n",
      "mastiff : 3\n",
      "mexicanhairless : 0\n",
      "mix : 0\n",
      "mountain : 2\n",
      "newfoundland : 0\n",
      "otterhound : 0\n",
      "ovcharka : 1\n",
      "papillon : 0\n",
      "pekinese : 0\n",
      "pembroke : 0\n",
      "pinscher : 1\n",
      "pitbull : 0\n",
      "pointer : 2\n",
      "pomeranian : 0\n",
      "poodle : 4\n",
      "pug : 0\n",
      "puggle : 0\n",
      "pyrenees : 0\n",
      "redbone : 0\n",
      "retriever : 4\n",
      "ridgeback : 1\n",
      "rottweiler : 0\n",
      "saluki : 0\n",
      "samoyed : 0\n",
      "schipperke : 0\n",
      "schnauzer : 2\n",
      "setter : 3\n",
      "sharpei : 0\n",
      "sheepdog : 2\n",
      "shiba : 0\n",
      "shihtzu : 0\n",
      "spaniel : 7\n",
      "springer : 1\n",
      "stbernard : 0\n",
      "terrier : 23\n",
      "tervuren : 0\n",
      "vizsla : 0\n",
      "waterdog : 1\n",
      "weimaraner : 0\n",
      "whippet : 0\n",
      "wolfhound : 1\n",
      "___________________________\n",
      "blenheim\n",
      "brittany\n",
      "cocker\n",
      "irish\n",
      "japanese\n",
      "sussex\n",
      "welsh\n"
     ]
    }
   ],
   "source": [
    "p =requests.get('https://dog.ceo/api/breeds/list/all')\n",
    "python_data = p.json()\n",
    "print(type(python_data))\n",
    "for key, val in python_data['message'].items():\n",
    "    print(key,\":\",len(val))\n",
    "print('___________________________')\n",
    "for i in python_data['message']['spaniel']:\n",
    "    print(i)"
   ]
  },
  {
   "cell_type": "code",
   "execution_count": 24,
   "id": "38610f55",
   "metadata": {},
   "outputs": [
    {
     "name": "stdout",
     "output_type": "stream",
     "text": [
      "<class 'dict'>\n",
      "blenheim\n",
      "brittany\n",
      "cocker\n",
      "irish\n",
      "japanese\n",
      "sussex\n",
      "welsh\n"
     ]
    }
   ],
   "source": [
    "p =requests.get('https://dog.ceo/api/breeds/list/all')\n",
    "python_data = p.json()\n",
    "print(type(python_data))\n",
    "\n",
    "for i in python_data['message']['spaniel']:\n",
    "    print(i)"
   ]
  },
  {
   "cell_type": "markdown",
   "id": "0ca5cd86",
   "metadata": {},
   "source": [
    "#### Hound sub-breeds"
   ]
  },
  {
   "cell_type": "code",
   "execution_count": 27,
   "id": "741bc2c2",
   "metadata": {},
   "outputs": [
    {
     "name": "stdout",
     "output_type": "stream",
     "text": [
      "afghan\n",
      "basset\n",
      "blood\n",
      "english\n",
      "ibizan\n",
      "plott\n",
      "walker\n"
     ]
    }
   ],
   "source": [
    "import requests\n",
    "p = requests.get('https://dog.ceo/api/breeds/list/all')\n",
    "python_data = p.json()\n",
    "for i in python_data['message']['hound']:\n",
    "    print(i)"
   ]
  },
  {
   "cell_type": "markdown",
   "id": "d5c7b91a",
   "metadata": {},
   "source": [
    "#### Poodle sub breeds count"
   ]
  },
  {
   "cell_type": "code",
   "execution_count": 28,
   "id": "c20b2997",
   "metadata": {},
   "outputs": [
    {
     "name": "stdout",
     "output_type": "stream",
     "text": [
      "4\n"
     ]
    }
   ],
   "source": [
    "import requests\n",
    "p = requests.get('https://dog.ceo/api/breeds/list/all')\n",
    "python_data = p.json()\n",
    "count=0\n",
    "for i in python_data['message']['poodle']:\n",
    "    count=count+1\n",
    "print(count)"
   ]
  },
  {
   "cell_type": "markdown",
   "id": "50557c9f",
   "metadata": {},
   "source": [
    "#### CN Online Courses"
   ]
  },
  {
   "cell_type": "code",
   "execution_count": 30,
   "id": "58788f86",
   "metadata": {},
   "outputs": [
    {
     "name": "stdout",
     "output_type": "stream",
     "text": [
      "Machine Learning & Deep Learning Course\n",
      "Premium Data structures and Algorithms [C++/Java/Python]\n",
      "Premium Android App Development\n",
      "Premium Machine Learning Course\n",
      "Premium Data Science Course\n",
      "Ninja Competitive Programmer Track\n",
      "Premium Competitive Programming Course\n",
      "C++ Foundation with Data Structures\n",
      "Premium Full Stack Web Development\n",
      "System Design Course\n",
      "Advanced  Front-End Web Development with React\n",
      "Full Stack Web Development\n",
      "JAVA Foundation with Data Structures\n",
      "Ninja Android Developer Career Track \n",
      "Grokking the Operating Systems Interview\n",
      "Data Science & Machine Learning Complete\n",
      "Ninja  Web Developer Career Track - NodeJS & ReactJs\n",
      "Interview Preparation Course\n",
      "Ninja  Web Developer Career Track - NodeJS\n",
      "Competitive Programming Course\n",
      "Ninja Data Scientist Career Track\n",
      "Python Foundation with Data Structures\n",
      "Android Development with Kotlin\n",
      "Ninja Machine Learning Engineer Career Track\n",
      "Aptitude Preparation Course\n"
     ]
    }
   ],
   "source": [
    "import requests\n",
    "import json\n",
    "\n",
    "response = requests.get('https://api.codingninjas.com/api/v3/courses')\n",
    "python_data = response.json()\n",
    "all_courses = python_data['data']['courses']\n",
    "for i in all_courses:\n",
    "    print(i['name'])"
   ]
  },
  {
   "cell_type": "markdown",
   "id": "2a256e14",
   "metadata": {},
   "source": [
    "#### Workshop Events"
   ]
  },
  {
   "cell_type": "code",
   "execution_count": 31,
   "id": "40027a04",
   "metadata": {},
   "outputs": [
    {
     "name": "stdout",
     "output_type": "stream",
     "text": [
      "Run through the wave of codes smoothly and showcase your coding skills to stay ahead amongst your peers. \n"
     ]
    }
   ],
   "source": [
    "import requests \n",
    "import json\n",
    "response = requests.get('https://api.codingninjas.com/api/v3/events?event_category=ALL_EVENTS&event_sub_category=All%20Time%20Favorites&tag_list=&offset=0&_ga=2.136613808.1008386857.1634465963-700272370.1600960174')\n",
    "python_data = response.json()\n",
    "for i in python_data['data']['events']:\n",
    "    if i is not None:\n",
    "        print(i['short_desc'])\n",
    "    else:\n",
    "        print(\"No Events !\")\n",
    "    break\n"
   ]
  },
  {
   "cell_type": "markdown",
   "id": "cb7bb6f1",
   "metadata": {},
   "source": [
    "### Passing Parameters - 1"
   ]
  },
  {
   "cell_type": "code",
   "execution_count": 33,
   "id": "e7013db6",
   "metadata": {},
   "outputs": [
    {
     "name": "stdout",
     "output_type": "stream",
     "text": [
      "200\n",
      "{'meta': {'name': 'openaq-api', 'license': 'CC BY 4.0d', 'website': 'api.openaq.org', 'page': 1, 'limit': 1, 'found': 2}, 'results': [{'country': 'AE', 'name': 'Abu Dhabi', 'city': 'Abu Dhabi', 'count': 176728, 'locations': 1}]}\n",
      "https://api.openaq.org/v1/cities?country=AE&limit=1\n"
     ]
    }
   ],
   "source": [
    "# params =  we can pass parameter to filter api requests in the form of key and value pair\n",
    "# in this we are filtering our by country name and limit\n",
    "a = requests.get('https://api.openaq.org/v1/cities', params = {\"country\" : \"AE\", \"limit\":1})\n",
    "print(a.status_code)\n",
    "print(a.json())\n",
    "print(a.url)"
   ]
  },
  {
   "cell_type": "markdown",
   "id": "d4f4617e",
   "metadata": {},
   "source": [
    "#### Title of course"
   ]
  },
  {
   "cell_type": "raw",
   "id": "e8bf66b6",
   "metadata": {},
   "source": [
    "Print the title of course with id=19.\n",
    "URL : http://api.codingninjas.com/api/v3/courses"
   ]
  },
  {
   "cell_type": "code",
   "execution_count": 35,
   "id": "89f1d5cd",
   "metadata": {},
   "outputs": [
    {
     "name": "stdout",
     "output_type": "stream",
     "text": [
      "Machine Learning\n"
     ]
    }
   ],
   "source": [
    "import requests\n",
    "import json\n",
    "r = requests.get('http://api.codingninjas.com/api/v3/courses',params = {'id':'19'})\n",
    "python_data = r.json()\n",
    "for i in python_data['data']['courses']:\n",
    "    if i['id'] == 19:\n",
    "        print(i['title'])"
   ]
  },
  {
   "cell_type": "markdown",
   "id": "444bb0f5",
   "metadata": {},
   "source": [
    "#### Total number of cities\n",
    "Count the total number of cities of country AU from this URL : https://api.openaq.org/docs#/v2/citiesgetv2citiesget"
   ]
  },
  {
   "cell_type": "code",
   "execution_count": 40,
   "id": "92945bc7",
   "metadata": {},
   "outputs": [
    {
     "ename": "KeyError",
     "evalue": "'results'",
     "output_type": "error",
     "traceback": [
      "\u001b[1;31m---------------------------------------------------------------------------\u001b[0m",
      "\u001b[1;31mKeyError\u001b[0m                                  Traceback (most recent call last)",
      "\u001b[1;32m~\\AppData\\Local\\Temp/ipykernel_3716/3710275113.py\u001b[0m in \u001b[0;36m<module>\u001b[1;34m\u001b[0m\n\u001b[0;32m      3\u001b[0m \u001b[0mresponse\u001b[0m \u001b[1;33m=\u001b[0m \u001b[0mrequests\u001b[0m\u001b[1;33m.\u001b[0m\u001b[0mget\u001b[0m\u001b[1;33m(\u001b[0m\u001b[1;34m'https://api.openaq.org/v1/cities/'\u001b[0m\u001b[1;33m,\u001b[0m \u001b[0mparams\u001b[0m \u001b[1;33m=\u001b[0m \u001b[1;33m{\u001b[0m\u001b[1;34m'country'\u001b[0m \u001b[1;33m:\u001b[0m \u001b[1;34m\"AU\"\u001b[0m\u001b[1;33m}\u001b[0m\u001b[1;33m)\u001b[0m\u001b[1;33m\u001b[0m\u001b[1;33m\u001b[0m\u001b[0m\n\u001b[0;32m      4\u001b[0m \u001b[0mpython_data\u001b[0m \u001b[1;33m=\u001b[0m \u001b[0mresponse\u001b[0m\u001b[1;33m.\u001b[0m\u001b[0mjson\u001b[0m\u001b[1;33m(\u001b[0m\u001b[1;33m)\u001b[0m\u001b[1;33m\u001b[0m\u001b[1;33m\u001b[0m\u001b[0m\n\u001b[1;32m----> 5\u001b[1;33m \u001b[0mcity\u001b[0m \u001b[1;33m=\u001b[0m \u001b[0mpython_data\u001b[0m\u001b[1;33m[\u001b[0m\u001b[1;34m'results'\u001b[0m\u001b[1;33m]\u001b[0m\u001b[1;33m\u001b[0m\u001b[1;33m\u001b[0m\u001b[0m\n\u001b[0m\u001b[0;32m      6\u001b[0m \u001b[0mprint\u001b[0m\u001b[1;33m(\u001b[0m\u001b[0mlen\u001b[0m\u001b[1;33m(\u001b[0m\u001b[0mcity\u001b[0m\u001b[1;33m)\u001b[0m\u001b[1;33m)\u001b[0m\u001b[1;33m\u001b[0m\u001b[1;33m\u001b[0m\u001b[0m\n\u001b[0;32m      7\u001b[0m \u001b[1;31m# some time runtime error because of website\u001b[0m\u001b[1;33m\u001b[0m\u001b[1;33m\u001b[0m\u001b[0m\n",
      "\u001b[1;31mKeyError\u001b[0m: 'results'"
     ]
    }
   ],
   "source": [
    "import requests\n",
    "import json\n",
    "response = requests.get('https://api.openaq.org/v1/cities/', params = {'country' : \"AU\"})\n",
    "python_data = response.json()\n",
    "city = python_data['results']\n",
    "print(len(city))\n",
    "# some time runtime error because of website"
   ]
  },
  {
   "cell_type": "markdown",
   "id": "9ab0644b",
   "metadata": {},
   "source": [
    "#### Cities from BE\n",
    "\n",
    "Print first 5 cities from country “BE”. Fetch the result from given URL.\n",
    "Order the results by city.\n",
    "URL - https://api.openaq.org/v1/cities\n",
    "Documentation - https://docs.openaq.org/"
   ]
  },
  {
   "cell_type": "code",
   "execution_count": 39,
   "id": "011454f8",
   "metadata": {},
   "outputs": [
    {
     "name": "stdout",
     "output_type": "stream",
     "text": [
      "Antwerpen\n",
      "Brabant wallon\n",
      "Brussels-Capital Region\n",
      "Flanders\n",
      "Hainaut\n"
     ]
    }
   ],
   "source": [
    "import requests\n",
    "import json\n",
    "response = requests.get('https://api.openaq.org/v1/cities', params = {\"country\" : \"BE\"})\n",
    "python_data = response.json()\n",
    "cities = python_data['results']\n",
    "for i in cities[:5]:\n",
    "    print(i['city'])"
   ]
  },
  {
   "cell_type": "markdown",
   "id": "5174e07d",
   "metadata": {},
   "source": [
    "### Passing Parameters - 2"
   ]
  },
  {
   "cell_type": "code",
   "execution_count": 41,
   "id": "d9f00d54",
   "metadata": {},
   "outputs": [
    {
     "ename": "JSONDecodeError",
     "evalue": "Expecting value: line 2 column 1 (char 1)",
     "output_type": "error",
     "traceback": [
      "\u001b[1;31m---------------------------------------------------------------------------\u001b[0m",
      "\u001b[1;31mJSONDecodeError\u001b[0m                           Traceback (most recent call last)",
      "\u001b[1;32m~\\AppData\\Local\\Temp/ipykernel_3716/1558341146.py\u001b[0m in \u001b[0;36m<module>\u001b[1;34m\u001b[0m\n\u001b[0;32m      3\u001b[0m \u001b[1;33m\u001b[0m\u001b[0m\n\u001b[0;32m      4\u001b[0m \u001b[0mresponse\u001b[0m \u001b[1;33m=\u001b[0m \u001b[0mrequests\u001b[0m\u001b[1;33m.\u001b[0m\u001b[0mget\u001b[0m\u001b[1;33m(\u001b[0m\u001b[1;34m'https://www.metaweather.com/api/location/search/'\u001b[0m\u001b[1;33m,\u001b[0m \u001b[0mparams\u001b[0m \u001b[1;33m=\u001b[0m \u001b[1;33m{\u001b[0m\u001b[1;34m\"query\"\u001b[0m \u001b[1;33m:\u001b[0m \u001b[1;34m\"USA\"\u001b[0m\u001b[1;33m}\u001b[0m\u001b[1;33m)\u001b[0m\u001b[1;33m\u001b[0m\u001b[1;33m\u001b[0m\u001b[0m\n\u001b[1;32m----> 5\u001b[1;33m \u001b[0mpython_data\u001b[0m \u001b[1;33m=\u001b[0m \u001b[0mresponse\u001b[0m\u001b[1;33m.\u001b[0m\u001b[0mjson\u001b[0m\u001b[1;33m(\u001b[0m\u001b[1;33m)\u001b[0m\u001b[1;33m\u001b[0m\u001b[1;33m\u001b[0m\u001b[0m\n\u001b[0m\u001b[0;32m      6\u001b[0m \u001b[1;32mfor\u001b[0m \u001b[0mi\u001b[0m \u001b[1;32min\u001b[0m \u001b[0mpython_data\u001b[0m\u001b[1;33m:\u001b[0m\u001b[1;33m\u001b[0m\u001b[1;33m\u001b[0m\u001b[0m\n\u001b[0;32m      7\u001b[0m     \u001b[0mprint\u001b[0m\u001b[1;33m(\u001b[0m\u001b[0mi\u001b[0m\u001b[1;33m[\u001b[0m\u001b[1;34m'woeid'\u001b[0m\u001b[1;33m]\u001b[0m\u001b[1;33m)\u001b[0m\u001b[1;33m\u001b[0m\u001b[1;33m\u001b[0m\u001b[0m\n",
      "\u001b[1;32mC:\\ProgramData\\Anaconda3\\lib\\site-packages\\requests\\models.py\u001b[0m in \u001b[0;36mjson\u001b[1;34m(self, **kwargs)\u001b[0m\n\u001b[0;32m    908\u001b[0m                     \u001b[1;31m# used.\u001b[0m\u001b[1;33m\u001b[0m\u001b[1;33m\u001b[0m\u001b[0m\n\u001b[0;32m    909\u001b[0m                     \u001b[1;32mpass\u001b[0m\u001b[1;33m\u001b[0m\u001b[1;33m\u001b[0m\u001b[0m\n\u001b[1;32m--> 910\u001b[1;33m         \u001b[1;32mreturn\u001b[0m \u001b[0mcomplexjson\u001b[0m\u001b[1;33m.\u001b[0m\u001b[0mloads\u001b[0m\u001b[1;33m(\u001b[0m\u001b[0mself\u001b[0m\u001b[1;33m.\u001b[0m\u001b[0mtext\u001b[0m\u001b[1;33m,\u001b[0m \u001b[1;33m**\u001b[0m\u001b[0mkwargs\u001b[0m\u001b[1;33m)\u001b[0m\u001b[1;33m\u001b[0m\u001b[1;33m\u001b[0m\u001b[0m\n\u001b[0m\u001b[0;32m    911\u001b[0m \u001b[1;33m\u001b[0m\u001b[0m\n\u001b[0;32m    912\u001b[0m     \u001b[1;33m@\u001b[0m\u001b[0mproperty\u001b[0m\u001b[1;33m\u001b[0m\u001b[1;33m\u001b[0m\u001b[0m\n",
      "\u001b[1;32mC:\\ProgramData\\Anaconda3\\lib\\json\\__init__.py\u001b[0m in \u001b[0;36mloads\u001b[1;34m(s, cls, object_hook, parse_float, parse_int, parse_constant, object_pairs_hook, **kw)\u001b[0m\n\u001b[0;32m    344\u001b[0m             \u001b[0mparse_int\u001b[0m \u001b[1;32mis\u001b[0m \u001b[1;32mNone\u001b[0m \u001b[1;32mand\u001b[0m \u001b[0mparse_float\u001b[0m \u001b[1;32mis\u001b[0m \u001b[1;32mNone\u001b[0m \u001b[1;32mand\u001b[0m\u001b[1;33m\u001b[0m\u001b[1;33m\u001b[0m\u001b[0m\n\u001b[0;32m    345\u001b[0m             parse_constant is None and object_pairs_hook is None and not kw):\n\u001b[1;32m--> 346\u001b[1;33m         \u001b[1;32mreturn\u001b[0m \u001b[0m_default_decoder\u001b[0m\u001b[1;33m.\u001b[0m\u001b[0mdecode\u001b[0m\u001b[1;33m(\u001b[0m\u001b[0ms\u001b[0m\u001b[1;33m)\u001b[0m\u001b[1;33m\u001b[0m\u001b[1;33m\u001b[0m\u001b[0m\n\u001b[0m\u001b[0;32m    347\u001b[0m     \u001b[1;32mif\u001b[0m \u001b[0mcls\u001b[0m \u001b[1;32mis\u001b[0m \u001b[1;32mNone\u001b[0m\u001b[1;33m:\u001b[0m\u001b[1;33m\u001b[0m\u001b[1;33m\u001b[0m\u001b[0m\n\u001b[0;32m    348\u001b[0m         \u001b[0mcls\u001b[0m \u001b[1;33m=\u001b[0m \u001b[0mJSONDecoder\u001b[0m\u001b[1;33m\u001b[0m\u001b[1;33m\u001b[0m\u001b[0m\n",
      "\u001b[1;32mC:\\ProgramData\\Anaconda3\\lib\\json\\decoder.py\u001b[0m in \u001b[0;36mdecode\u001b[1;34m(self, s, _w)\u001b[0m\n\u001b[0;32m    335\u001b[0m \u001b[1;33m\u001b[0m\u001b[0m\n\u001b[0;32m    336\u001b[0m         \"\"\"\n\u001b[1;32m--> 337\u001b[1;33m         \u001b[0mobj\u001b[0m\u001b[1;33m,\u001b[0m \u001b[0mend\u001b[0m \u001b[1;33m=\u001b[0m \u001b[0mself\u001b[0m\u001b[1;33m.\u001b[0m\u001b[0mraw_decode\u001b[0m\u001b[1;33m(\u001b[0m\u001b[0ms\u001b[0m\u001b[1;33m,\u001b[0m \u001b[0midx\u001b[0m\u001b[1;33m=\u001b[0m\u001b[0m_w\u001b[0m\u001b[1;33m(\u001b[0m\u001b[0ms\u001b[0m\u001b[1;33m,\u001b[0m \u001b[1;36m0\u001b[0m\u001b[1;33m)\u001b[0m\u001b[1;33m.\u001b[0m\u001b[0mend\u001b[0m\u001b[1;33m(\u001b[0m\u001b[1;33m)\u001b[0m\u001b[1;33m)\u001b[0m\u001b[1;33m\u001b[0m\u001b[1;33m\u001b[0m\u001b[0m\n\u001b[0m\u001b[0;32m    338\u001b[0m         \u001b[0mend\u001b[0m \u001b[1;33m=\u001b[0m \u001b[0m_w\u001b[0m\u001b[1;33m(\u001b[0m\u001b[0ms\u001b[0m\u001b[1;33m,\u001b[0m \u001b[0mend\u001b[0m\u001b[1;33m)\u001b[0m\u001b[1;33m.\u001b[0m\u001b[0mend\u001b[0m\u001b[1;33m(\u001b[0m\u001b[1;33m)\u001b[0m\u001b[1;33m\u001b[0m\u001b[1;33m\u001b[0m\u001b[0m\n\u001b[0;32m    339\u001b[0m         \u001b[1;32mif\u001b[0m \u001b[0mend\u001b[0m \u001b[1;33m!=\u001b[0m \u001b[0mlen\u001b[0m\u001b[1;33m(\u001b[0m\u001b[0ms\u001b[0m\u001b[1;33m)\u001b[0m\u001b[1;33m:\u001b[0m\u001b[1;33m\u001b[0m\u001b[1;33m\u001b[0m\u001b[0m\n",
      "\u001b[1;32mC:\\ProgramData\\Anaconda3\\lib\\json\\decoder.py\u001b[0m in \u001b[0;36mraw_decode\u001b[1;34m(self, s, idx)\u001b[0m\n\u001b[0;32m    353\u001b[0m             \u001b[0mobj\u001b[0m\u001b[1;33m,\u001b[0m \u001b[0mend\u001b[0m \u001b[1;33m=\u001b[0m \u001b[0mself\u001b[0m\u001b[1;33m.\u001b[0m\u001b[0mscan_once\u001b[0m\u001b[1;33m(\u001b[0m\u001b[0ms\u001b[0m\u001b[1;33m,\u001b[0m \u001b[0midx\u001b[0m\u001b[1;33m)\u001b[0m\u001b[1;33m\u001b[0m\u001b[1;33m\u001b[0m\u001b[0m\n\u001b[0;32m    354\u001b[0m         \u001b[1;32mexcept\u001b[0m \u001b[0mStopIteration\u001b[0m \u001b[1;32mas\u001b[0m \u001b[0merr\u001b[0m\u001b[1;33m:\u001b[0m\u001b[1;33m\u001b[0m\u001b[1;33m\u001b[0m\u001b[0m\n\u001b[1;32m--> 355\u001b[1;33m             \u001b[1;32mraise\u001b[0m \u001b[0mJSONDecodeError\u001b[0m\u001b[1;33m(\u001b[0m\u001b[1;34m\"Expecting value\"\u001b[0m\u001b[1;33m,\u001b[0m \u001b[0ms\u001b[0m\u001b[1;33m,\u001b[0m \u001b[0merr\u001b[0m\u001b[1;33m.\u001b[0m\u001b[0mvalue\u001b[0m\u001b[1;33m)\u001b[0m \u001b[1;32mfrom\u001b[0m \u001b[1;32mNone\u001b[0m\u001b[1;33m\u001b[0m\u001b[1;33m\u001b[0m\u001b[0m\n\u001b[0m\u001b[0;32m    356\u001b[0m         \u001b[1;32mreturn\u001b[0m \u001b[0mobj\u001b[0m\u001b[1;33m,\u001b[0m \u001b[0mend\u001b[0m\u001b[1;33m\u001b[0m\u001b[1;33m\u001b[0m\u001b[0m\n",
      "\u001b[1;31mJSONDecodeError\u001b[0m: Expecting value: line 2 column 1 (char 1)"
     ]
    }
   ],
   "source": [
    "import requests\n",
    "import json\n",
    "\n",
    "response = requests.get('https://www.metaweather.com/api/location/search/', params = {\"query\" : \"USA\"})\n",
    "python_data = response.json()\n",
    "for i in python_data:\n",
    "    print(i['woeid'])\n",
    "\n",
    "# website has closed, so we are facing error."
   ]
  },
  {
   "cell_type": "code",
   "execution_count": 42,
   "id": "15b16bee",
   "metadata": {},
   "outputs": [
    {
     "name": "stdout",
     "output_type": "stream",
     "text": [
      "404\n",
      "https://www.metaweather.com/api/location/search/\n"
     ]
    }
   ],
   "source": [
    "a = requests.get('https://www.metaweather.com/api/location/search/')\n",
    "print(a.status_code)\n",
    "print(a.url) # error\n"
   ]
  },
  {
   "cell_type": "code",
   "execution_count": 43,
   "id": "0835436d",
   "metadata": {},
   "outputs": [
    {
     "name": "stdout",
     "output_type": "stream",
     "text": [
      "200\n",
      "https://api.nasa.gov/planetary/apod?api_key=DEMO_KEY\n"
     ]
    }
   ],
   "source": [
    "a = requests.get('https://api.nasa.gov/planetary/apod', params = {'api_key' : 'DEMO_KEY'})\n",
    "print(a.status_code)\n",
    "print(a.url)\n",
    "# api key used to determine the source of request and identity of user."
   ]
  },
  {
   "cell_type": "markdown",
   "id": "e7f2729e",
   "metadata": {},
   "source": [
    "#### Holiday\n",
    "\n",
    "Find name of holiday on 2nd October 2021 in country India.\n",
    "You can read the documentation here : https://holidayapi.com/\n",
    "API Link to be used -\n",
    "https://holidayapi.com/v1/holidays"
   ]
  },
  {
   "cell_type": "code",
   "execution_count": 44,
   "id": "f08a7d51",
   "metadata": {},
   "outputs": [
    {
     "name": "stdout",
     "output_type": "stream",
     "text": [
      "Mahatma Gandhi's Birthday\n"
     ]
    }
   ],
   "source": [
    "import requests\n",
    "response = requests.get(\"https://holidayapi.com/v1/holidays\",params = {\"key\":\"8d168fb1-1e8a-4dcb-8e9b-b508b84db48c\",\"country\":\"IN\",\"day\":2,\"month\":10,\"year\":2021})\n",
    "python_data = response.json()\n",
    "print(python_data['holidays'][0]['name'])"
   ]
  },
  {
   "cell_type": "markdown",
   "id": "b4b42f8e",
   "metadata": {},
   "source": [
    "### POST Request"
   ]
  },
  {
   "cell_type": "code",
   "execution_count": 45,
   "id": "f17896d2",
   "metadata": {},
   "outputs": [
    {
     "name": "stdout",
     "output_type": "stream",
     "text": [
      "<Response [200]>\n",
      "{\n",
      "  \"args\": {}, \n",
      "  \"data\": \"\", \n",
      "  \"files\": {}, \n",
      "  \"form\": {}, \n",
      "  \"headers\": {\n",
      "    \"Accept\": \"*/*\", \n",
      "    \"Accept-Encoding\": \"gzip, deflate, br\", \n",
      "    \"Content-Length\": \"0\", \n",
      "    \"Host\": \"httpbin.org\", \n",
      "    \"User-Agent\": \"python-requests/2.26.0\", \n",
      "    \"X-Amzn-Trace-Id\": \"Root=1-62abe1bc-6d0e702009a6aa3847ec2102\"\n",
      "  }, \n",
      "  \"json\": null, \n",
      "  \"origin\": \"223.228.227.173\", \n",
      "  \"url\": \"http://httpbin.org/post\"\n",
      "}\n",
      "\n"
     ]
    }
   ],
   "source": [
    "# post can be use to update data in api\n",
    "# for this no parameters need to pass\n",
    "import requests\n",
    "response = requests.post('http://httpbin.org/post')\n",
    "print(response)\n",
    "print(response.text)"
   ]
  },
  {
   "cell_type": "code",
   "execution_count": 46,
   "id": "59b722d1",
   "metadata": {},
   "outputs": [
    {
     "name": "stdout",
     "output_type": "stream",
     "text": [
      "<Response [200]>\n",
      "{\n",
      "  \"args\": {}, \n",
      "  \"data\": \"\", \n",
      "  \"files\": {}, \n",
      "  \"form\": {\n",
      "    \"Key1\": [\n",
      "      \"val1\", \n",
      "      \"val3\"\n",
      "    ], \n",
      "    \"Key2\": \"val2\"\n",
      "  }, \n",
      "  \"headers\": {\n",
      "    \"Accept\": \"*/*\", \n",
      "    \"Accept-Encoding\": \"gzip, deflate, br\", \n",
      "    \"Content-Length\": \"29\", \n",
      "    \"Content-Type\": \"application/x-www-form-urlencoded\", \n",
      "    \"Host\": \"httpbin.org\", \n",
      "    \"User-Agent\": \"python-requests/2.26.0\", \n",
      "    \"X-Amzn-Trace-Id\": \"Root=1-62abe208-5a388a422335123a25c9479d\"\n",
      "  }, \n",
      "  \"json\": null, \n",
      "  \"origin\": \"223.228.227.173\", \n",
      "  \"url\": \"http://httpbin.org/post\"\n",
      "}\n",
      "\n"
     ]
    }
   ],
   "source": [
    "# lets try to pass data and update api\n",
    "response = requests.post('http://httpbin.org/post', data = {'Key1': ['val1','val3'], 'Key2': 'val2'})\n",
    "print(response)\n",
    "print(response.text)"
   ]
  },
  {
   "cell_type": "code",
   "execution_count": 47,
   "id": "0d80a5fb",
   "metadata": {},
   "outputs": [
    {
     "name": "stdout",
     "output_type": "stream",
     "text": [
      "<Response [200]>\n",
      "{\n",
      "  \"args\": {}, \n",
      "  \"data\": \"\", \n",
      "  \"files\": {}, \n",
      "  \"form\": {\n",
      "    \"key1\": [\n",
      "      \"val1\", \n",
      "      \"val2\"\n",
      "    ], \n",
      "    \"key2\": \"val3\"\n",
      "  }, \n",
      "  \"headers\": {\n",
      "    \"Accept\": \"*/*\", \n",
      "    \"Accept-Encoding\": \"gzip, deflate, br\", \n",
      "    \"Content-Length\": \"29\", \n",
      "    \"Content-Type\": \"application/x-www-form-urlencoded\", \n",
      "    \"Host\": \"httpbin.org\", \n",
      "    \"User-Agent\": \"python-requests/2.26.0\", \n",
      "    \"X-Amzn-Trace-Id\": \"Root=1-62abe23f-18d22ca04329808e4584eb7f\"\n",
      "  }, \n",
      "  \"json\": null, \n",
      "  \"origin\": \"223.228.227.173\", \n",
      "  \"url\": \"http://httpbin.org/post\"\n",
      "}\n",
      "\n"
     ]
    }
   ],
   "source": [
    "response = requests.post('http://httpbin.org/post', data = [('key1','val1'),('key1','val2'),('key2','val3')])\n",
    "print(response)\n",
    "print(response.text)"
   ]
  },
  {
   "cell_type": "code",
   "execution_count": 48,
   "id": "91daa2db",
   "metadata": {},
   "outputs": [
    {
     "name": "stdout",
     "output_type": "stream",
     "text": [
      "<Response [201]>\n",
      "{\n",
      "  \"id\": 101\n",
      "}\n"
     ]
    }
   ],
   "source": [
    "response = requests.post('https://jsonplaceholder.typicode.com/posts')\n",
    "print(response)\n",
    "print(response.text)"
   ]
  },
  {
   "cell_type": "code",
   "execution_count": 49,
   "id": "dab804a0",
   "metadata": {},
   "outputs": [
    {
     "name": "stdout",
     "output_type": "stream",
     "text": [
      "<Response [201]>\n",
      "{\n",
      "  \"userID\": \"2\",\n",
      "  \"<built-in function id>\": \"200\",\n",
      "  \"title\": \"test\",\n",
      "  \"id\": 101\n",
      "}\n"
     ]
    }
   ],
   "source": [
    "response = requests.post('https://jsonplaceholder.typicode.com/posts', data = {'userID':2, id:200, 'title': 'test'})\n",
    "print(response)\n",
    "print(response.text)"
   ]
  },
  {
   "cell_type": "markdown",
   "id": "fc412295",
   "metadata": {},
   "source": [
    "### Thanks"
   ]
  }
 ],
 "metadata": {
  "kernelspec": {
   "display_name": "Python 3 (ipykernel)",
   "language": "python",
   "name": "python3"
  },
  "language_info": {
   "codemirror_mode": {
    "name": "ipython",
    "version": 3
   },
   "file_extension": ".py",
   "mimetype": "text/x-python",
   "name": "python",
   "nbconvert_exporter": "python",
   "pygments_lexer": "ipython3",
   "version": "3.9.7"
  }
 },
 "nbformat": 4,
 "nbformat_minor": 5
}
