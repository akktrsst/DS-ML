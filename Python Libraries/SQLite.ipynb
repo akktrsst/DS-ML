{
 "cells": [
  {
   "cell_type": "markdown",
   "id": "a0a6496d",
   "metadata": {},
   "source": [
    "# SQLite"
   ]
  },
  {
   "cell_type": "markdown",
   "id": "411e73fb",
   "metadata": {},
   "source": [
    "- relational database management system based on SQL language.\n",
    "- self contained, serverless and zero-confrigation.\n",
    "- very fast and lightweight, and entire database is stored in a single disk file.\n",
    "- SQLite means light weight in terms of setup, database administration, and required resources.\n",
    "- used in a lot of applications as internal data storage."
   ]
  },
  {
   "cell_type": "raw",
   "id": "d6f3e51a",
   "metadata": {},
   "source": [
    "Two SQLite Libraries:\n",
    "    - mysqlalchemy\n",
    "    - sqlite3"
   ]
  },
  {
   "cell_type": "markdown",
   "id": "cc82dc1d",
   "metadata": {},
   "source": [
    "#### Connect with database"
   ]
  },
  {
   "cell_type": "code",
   "execution_count": null,
   "id": "cf1ecd9e",
   "metadata": {},
   "outputs": [],
   "source": [
    "import sqlite3\n",
    "# path of file\n",
    "db=sqlite3.connect('IMDB.sqlite')\n",
    "db # to check the connection"
   ]
  },
  {
   "cell_type": "code",
   "execution_count": null,
   "id": "d7008d7d",
   "metadata": {},
   "outputs": [],
   "source": [
    "db=sqlite3.connect('IMDB_2.sqlite') #it check if not connected then it will create new file with this name.\n",
    "db"
   ]
  },
  {
   "cell_type": "code",
   "execution_count": null,
   "id": "ba44a941",
   "metadata": {},
   "outputs": [],
   "source": [
    "import sqlite3\n",
    "db = sqlite3.connect('School.sqlite')\n",
    "db"
   ]
  },
  {
   "cell_type": "code",
   "execution_count": null,
   "id": "6672335f",
   "metadata": {},
   "outputs": [],
   "source": [
    "db.cursor()"
   ]
  },
  {
   "cell_type": "code",
   "execution_count": null,
   "id": "55783e85",
   "metadata": {},
   "outputs": [],
   "source": [
    "cur = db.cursor()\n",
    "cur"
   ]
  },
  {
   "cell_type": "code",
   "execution_count": null,
   "id": "d5d74f8d",
   "metadata": {},
   "outputs": [],
   "source": [
    "sql_query = 'Create table School2(RollNumber int Primary key, Name Text, Age int)'\n",
    "cur.execute(sql_query)"
   ]
  },
  {
   "cell_type": "code",
   "execution_count": null,
   "id": "d8044f8c",
   "metadata": {},
   "outputs": [],
   "source": [
    "cur.execute('Insert into School2 values (101, \"Aman\", 20)')"
   ]
  },
  {
   "cell_type": "code",
   "execution_count": null,
   "id": "c7d26fad",
   "metadata": {},
   "outputs": [],
   "source": [
    "db.commit()"
   ]
  },
  {
   "cell_type": "code",
   "execution_count": null,
   "id": "d8f3bd5c",
   "metadata": {},
   "outputs": [],
   "source": [
    "cur = db.cursor()\n",
    "cur"
   ]
  },
  {
   "cell_type": "code",
   "execution_count": null,
   "id": "185e44ca",
   "metadata": {},
   "outputs": [],
   "source": [
    "cur.execute('Insert into Student2 values (103, \"Mohit\", 20)')"
   ]
  },
  {
   "cell_type": "code",
   "execution_count": null,
   "id": "de00e49c",
   "metadata": {},
   "outputs": [],
   "source": [
    "cur.execute('Select * from Student2')"
   ]
  },
  {
   "cell_type": "markdown",
   "id": "2bc24d7f",
   "metadata": {},
   "source": [
    "### SQLite with Pandas"
   ]
  },
  {
   "cell_type": "code",
   "execution_count": null,
   "id": "e0b1a975",
   "metadata": {},
   "outputs": [],
   "source": [
    "import sqlite3\n",
    "import pandas as pd\n",
    "\n",
    "db = sqlite3.connect('School.sqlite')"
   ]
  },
  {
   "cell_type": "code",
   "execution_count": null,
   "id": "5fac514a",
   "metadata": {},
   "outputs": [],
   "source": [
    "data = pd.read_sql_query(\"Select * from Student\",db)\n",
    "data"
   ]
  },
  {
   "cell_type": "code",
   "execution_count": null,
   "id": "b2a8409c",
   "metadata": {},
   "outputs": [],
   "source": [
    "data['Age']== 30 # which row is satifying condition"
   ]
  },
  {
   "cell_type": "code",
   "execution_count": null,
   "id": "55b019cf",
   "metadata": {},
   "outputs": [],
   "source": [
    "data[data['Age']== 30] # print only that row which is satisfying condition"
   ]
  },
  {
   "cell_type": "code",
   "execution_count": null,
   "id": "a6744892",
   "metadata": {},
   "outputs": [],
   "source": [
    "data = pd.DataFrame([[201, \"Aman\", \"English\", 20000],[202, \"Komal\", \"Maths\", 22000],[203, \"Mahesh\", \"Science\", 23000]],\n",
    "                   columns=[\"ID\",\"Name\",\"Course\",\"Salary\"])\n",
    "data"
   ]
  },
  {
   "cell_type": "raw",
   "id": "fd3c5753",
   "metadata": {},
   "source": [
    "data.to_sql(\"Faculty\",db) # in dataframe db"
   ]
  },
  {
   "cell_type": "raw",
   "id": "4e782361",
   "metadata": {},
   "source": [
    "data = pd.read_sql_query(\"Select * from Student\", db)\n",
    "data[\"Address\"]=\"Test\"\n",
    "data.to_sql(\"Student\", db, if_exists = \"replace\")"
   ]
  },
  {
   "cell_type": "markdown",
   "id": "6765ee0f",
   "metadata": {},
   "source": [
    "### Finance Employee SQLite\n",
    "\n",
    "Find the employee_id of employee whose is working in Finance Department in Investment firm from Employee SQLite Database.\n",
    "Print the employee_id as integer value"
   ]
  },
  {
   "cell_type": "code",
   "execution_count": null,
   "id": "ef43b8e2",
   "metadata": {},
   "outputs": [],
   "source": [
    "import sqlite3\n",
    "db = sqlite3.connect('Employee.sqlite')\n",
    "cur = db.cursor()\n",
    "cur.execute('create table Employee_Details3(employeeid int primary key, name varchar(100),age int,department varchar(100),salary int)')\n",
    "values = [(100,\"Rishav\",25,\"Marketing\",50000),(101,\"Adarsh\",25,\"Marketing\",50000),(102,\"Aarti\",27,\"Operations\",6000),(103,\"Siddharth\",25,\"Finance\",85000),\n",
    "         (104,\"Aman\",24,\"Human Resource\",75000),(105,\"Amit\",30,\"Marketing\",50000),(106,\"Shivansh\",26,\"IT\",90000),\n",
    "          (107,\"Vaibhav\",23,\"Finance\",85000),(108,\"Himanshu\",26,\"IT\",90000),(109,\"Raman\",25,\"Operations\",60000),\n",
    "          (110,\"Kunal\",26,\"Marketing\",50000),(111,\"Adhira\",29,\"Human Resources\",75000),(112,\"Tanya\",24,\"Marketing\",50000)]\n",
    "\n",
    "cur.executemany('insert into Employee_Details3 values(?,?,?,?,?)',(values))\n",
    "db.commit()\n",
    "\n",
    "cur.execute('select employeeid from Employee_Details3 where department = \"Finance\"')\n",
    "a = cur.fetchall()\n",
    "for i in a:\n",
    "    for j in i:\n",
    "        print(j)"
   ]
  },
  {
   "cell_type": "markdown",
   "id": "e586cf8b",
   "metadata": {},
   "source": [
    "### Find Employee\n",
    "\n",
    "Find the number of employee working in different department in an investment firm from Employee SQLite Database.\n",
    "Print the department and number of employee"
   ]
  },
  {
   "cell_type": "code",
   "execution_count": null,
   "id": "95f64787",
   "metadata": {},
   "outputs": [],
   "source": [
    "import sqlite3\n",
    "db = sqlite3.connect('Employee.sqlite')\n",
    "cur = db.cursor()\n",
    "cur.execute('create table Employee_Details(employeeid int primary key, name varchar(100),age int,department varchar(100),salary int)')\n",
    "values = [(101,\"Adarsh\",25,\"Marketing\",50000),(102,\"Aarti\",27,\"Operations\",6000),(103,\"Siddharth\",25,\"Finance\",85000),\n",
    "         (104,\"Aman\",24,\"Human Resource\",75000),(105,\"Amit\",30,\"Marketing\",50000),(106,\"Shivansh\",26,\"IT\",90000),\n",
    "          (107,\"Vaibhav\",23,\"Finance\",85000),(108,\"Himanshu\",26,\"IT\",90000),(109,\"Raman\",25,\"Operations\",60000),\n",
    "          (110,\"Kunal\",26,\"Marketing\",50000),(111,\"Adhira\",29,\"Human Resource\",75000),(112,\"Tanya\",24,\"Marketing\",50000)]\n",
    "\n",
    "cur.executemany('insert into employee_Details values(?,?,?,?,?)',(values))\n",
    "db.commit()\n",
    "\n",
    "cur.execute('select distinct department,count(*) from employee_Details group by department')\n",
    "a = cur.fetchall()\n",
    "\n",
    "for i in a:\n",
    "    for j in i:\n",
    "        print(j,end=\" \")\n",
    "    print()"
   ]
  },
  {
   "cell_type": "markdown",
   "id": "35ccdb26",
   "metadata": {},
   "source": [
    "### Count Genre\n",
    "\n",
    "IMDB.sqlite' database contains all details of movies and has three tables with name IMDB, genre and earning.\n",
    "Find the count of each genre present in IMDB movie dataset?\n",
    "Print the Genre and number of movies present in that genre.\n",
    "Note: Ignore the empty value present in genre."
   ]
  },
  {
   "cell_type": "code",
   "execution_count": null,
   "id": "6a993b26",
   "metadata": {},
   "outputs": [],
   "source": [
    "import sqlite3\n",
    "import pandas as pd\n",
    "\n",
    "db = sqlite3.connect('IMDB.sqlite')\n",
    "data = pd.read_sql_query('select * from genre',db)\n",
    "\n",
    "data = data['genre'].value_counts()\n",
    "genre = data.index\n",
    "count = data.values\n",
    "for i in range(len(genre)):\n",
    "    if(genre[i]==\"\"):\n",
    "        continue;\n",
    "    print(genre[i],count[i],end = \"\")\n",
    "    print()"
   ]
  },
  {
   "cell_type": "markdown",
   "id": "73ad38e0",
   "metadata": {},
   "source": [
    "### IMDB Movie\n",
    "\n",
    "IMDB.sqlite' database contains all details of movies and has three tables with name IMDB, genre and earning.\n",
    "Find the highest-grossing movie (i.e domestic earning + worldwide earning) in IMDB database.\n",
    "Print the rating of that movie."
   ]
  },
  {
   "cell_type": "code",
   "execution_count": null,
   "id": "b457feae",
   "metadata": {},
   "outputs": [],
   "source": [
    "import sqlite3\n",
    "import pandas as pd\n",
    "db = sqlite3.connect('IMDB.sqlite')\n",
    "\n",
    "imdb = pd.read_sql_query(\"Select * from imdb\", db)\n",
    "genre = pd.read_sql_query(\"Select * from genre\", db)\n",
    "earning = pd.read_sql_query(\"Select * from earning\", db)\n",
    "# print(imdb)\n",
    "# print(earning)\n",
    "earning[\"Total\"] = earning.Domestic+earning.Worldwide\n",
    "max = max(list(earning.Total.values))\n",
    "max_id = earning[earning.Total==max].Movie_id.iloc[0]\n",
    "rating = imdb[imdb.Movie_id==max_id].Rating.iloc[0]\n",
    "print(rating)"
   ]
  },
  {
   "cell_type": "markdown",
   "id": "27cf0e72",
   "metadata": {},
   "source": [
    "### IMDB Voted\n",
    "\n",
    "IMDB.sqlite' database contains all details of movies and has three tables with name IMDB, genre and earning.\n",
    "Find the most voted movie in IMDB Movie Database.\n",
    "Print the movie name and the rating of that movie."
   ]
  },
  {
   "cell_type": "code",
   "execution_count": null,
   "id": "04b2c8ee",
   "metadata": {},
   "outputs": [],
   "source": [
    "import pandas as pd\n",
    "import sqlite3\n",
    "import numpy as np\n",
    "db=sqlite3.connect('IMDB.sqlite')\n",
    "imdb=pd.read_sql_query(\"Select * from IMDB\",db)\n",
    "earning=pd.read_sql_query(\"Select * from earning\",db)\n",
    "genre=pd.read_sql_query(\"Select * from genre\",db)\n",
    "max_vote=max(imdb['TotalVotes'].values)\n",
    "movie_name=imdb[imdb['TotalVotes']==max_vote].values\n",
    "print(movie_name[0][1],movie_name[0][2])"
   ]
  },
  {
   "cell_type": "markdown",
   "id": "a8da95ac",
   "metadata": {},
   "source": [
    "### IMDB running time\n",
    "\n",
    "IMDB.sqlite database contains all details of movies and has three tables with name IMDB, genre and earning.\n",
    "Find the Movie with Longest-Running Time from IMDB Movie database.\n",
    "Print the name of movie and running time as integer value.\n",
    "Note: Don't print 'min' in running time."
   ]
  },
  {
   "cell_type": "code",
   "execution_count": 2,
   "id": "ab9f212f",
   "metadata": {},
   "outputs": [
    {
     "name": "stdout",
     "output_type": "stream",
     "text": [
      "The Wolf of Wall Street (2013) 180\n"
     ]
    }
   ],
   "source": [
    "import pandas as pd \n",
    "import sqlite3 \n",
    "db=sqlite3.connect('IMDB.sqlite') \n",
    "imdb=pd.read_sql_query(\"Select * from IMDB\",db) \n",
    "earning=pd.read_sql_query(\"Select * from earning\",db) \n",
    "genre=pd.read_sql_query(\"Select * from genre\",db) \n",
    "def getTime(time): \n",
    "    return int(time.split(' ')[0]) \n",
    "imdb['Runtime'].replace('','0',inplace=True) \n",
    "imdb['Runtime']=imdb['Runtime'].apply(getTime) \n",
    "long_runtime=imdb[imdb['Runtime']==max(imdb['Runtime'])] \n",
    "print(long_runtime['Title'].values[0],long_runtime['Runtime'].values[0])"
   ]
  },
  {
   "cell_type": "markdown",
   "id": "a3bc6a3c",
   "metadata": {},
   "source": [
    "### IMDB profit\n",
    "\n",
    "IMDB.sqlite database contains all details of movies and has three tables with name IMDB, genre and earning.\n",
    "Find the movie which has maximum net profit in IMDB Movie Database.\n",
    "Print the movie name.\n",
    "Note: Net Profit= Total Earning(Domestic+WorldWide earning) - budget"
   ]
  },
  {
   "cell_type": "code",
   "execution_count": 3,
   "id": "3f46213c",
   "metadata": {},
   "outputs": [
    {
     "name": "stdout",
     "output_type": "stream",
     "text": [
      "Star Wars: The Force Awakens (2015)\n"
     ]
    }
   ],
   "source": [
    "import pandas as pd\n",
    "import sqlite3\n",
    "import numpy as np\n",
    "db=sqlite3.connect('IMDB.sqlite')\n",
    "imdb=pd.read_sql_query(\"Select * from IMDB\",db)\n",
    "earning=pd.read_sql_query(\"Select * from earning\",db)\n",
    "genre=pd.read_sql_query(\"Select * from genre\",db)\n",
    "index=imdb[imdb['Budget']==''].index\n",
    "imdb.drop(index,inplace=True)\n",
    "earning['Total Earning']=earning['Domestic']+earning['Worldwide']\n",
    "result = pd.merge(imdb,earning,on='Movie_id')\n",
    "result['Profit']=result['Total Earning']-result['Budget']\n",
    "movie_name=result[result['Profit']==max(result['Profit'])].values[0]\n",
    "print(movie_name[1])"
   ]
  },
  {
   "cell_type": "markdown",
   "id": "ec0d54eb",
   "metadata": {},
   "source": [
    "### IMDB least budget\n",
    "\n",
    "IMDB.sqlite database contains all details of movies and has three tables with name IMDB, genre and earning.\n",
    "Find the least budgeted movie in IMDB Movie Database.\n",
    "If there is more than one least budgeted movies then print the movie which has maximum net profit.\n",
    "Note: Net Profit= Total Earning(Domestic+WorldWide earning) - budget"
   ]
  },
  {
   "cell_type": "code",
   "execution_count": 4,
   "id": "e73b93e8",
   "metadata": {},
   "outputs": [
    {
     "name": "stdout",
     "output_type": "stream",
     "text": [
      "Short Term 12 (2013)\n"
     ]
    }
   ],
   "source": [
    "import pandas as pd\n",
    "import sqlite3\n",
    "import numpy as np\n",
    "db=sqlite3.connect('IMDB.sqlite')\n",
    "imdb=pd.read_sql_query(\"Select * from IMDB\",db)\n",
    "earning=pd.read_sql_query(\"Select * from earning\",db)\n",
    "genre=pd.read_sql_query(\"Select * from genre\",db)\n",
    "imdb_earning=pd.merge(imdb,earning,on='Movie_id')\n",
    "imdb_earning['Domestic'].replace('',0,inplace=True)\n",
    "imdb_earning['Worldwide'].replace('',0,inplace=True)\n",
    "imdb_earning['Total Earning']=imdb_earning['Domestic']+imdb_earning['Worldwide']\n",
    "imdb_earning['Budget'].replace('',0,inplace=True)\n",
    "least_budget=imdb_earning[imdb_earning['Budget']==sorted(imdb_earning['Budget'].values)[3]].values\n",
    "profit_1_movie=least_budget[0][54]-least_budget[0][5]\n",
    "profit_2_movie=least_budget[1][54]-least_budget[1][5]\n",
    "if profit_1_movie > profit_2_movie:\n",
    "    print(least_budget[0][1])\n",
    "else:\n",
    "    print(least_budget[1][1])"
   ]
  },
  {
   "cell_type": "markdown",
   "id": "0dce95d5",
   "metadata": {},
   "source": [
    "### IMDB Year Top\n",
    "\n",
    "IMDB.sqlite' database contains all details of movies and has three tables with name IMDB, genre and earning.\n",
    "Find the highest-grossing movie (i.e domestic earning + worldwide earning) in IMDB database year wise.\n",
    "Print the Year and name of the movie which was the highest grosser in that year.\n",
    "Note:Print the year in ascending order."
   ]
  },
  {
   "cell_type": "code",
   "execution_count": 6,
   "id": "76a983dc",
   "metadata": {},
   "outputs": [
    {
     "name": "stdout",
     "output_type": "stream",
     "text": [
      "2010 Toy Story 3 (2010)\n",
      "2011 Rise of the Planet of the Apes (2011)\n",
      "2012 The Avengers (2012)\n",
      "2013 The Hunger Games: Catching Fire (2013)\n",
      "2014 Guardians of the Galaxy (2014)\n",
      "2015 Star Wars: The Force Awakens (2015)\n",
      "2016 Rogue One (2016)\n"
     ]
    }
   ],
   "source": [
    "import pandas as pd\n",
    "import sqlite3\n",
    "import numpy as np\n",
    "db=sqlite3.connect('IMDB.sqlite')\n",
    "imdb=pd.read_sql_query(\"Select * from IMDB\",db)\n",
    "earning=pd.read_sql_query(\"Select * from earning\",db)\n",
    "genre=pd.read_sql_query(\"Select * from genre\",db)\n",
    "imdb_earning=pd.merge(imdb,earning,on='Movie_id')\n",
    "imdb_earning['Domestic'].replace('',0,inplace=True)\n",
    "imdb_earning['Worldwide'].replace('',0,inplace=True)\n",
    "imdb_earning['Total Earning']=imdb_earning['Domestic']+imdb_earning['Worldwide']\n",
    "def findYear(title):\n",
    "    return int(title.split('(')[-1][:-1])\n",
    "imdb_earning['Year']=imdb_earning['Title'].apply(findYear)\n",
    "year=sorted(imdb_earning['Year'].value_counts().index)\n",
    "for i in range(len(year)):\n",
    "    earning=max(imdb_earning[imdb_earning['Year']==year[i]]['Total Earning'])\n",
    "    print(year[i],imdb_earning[imdb_earning['Total Earning']==earning]['Title'].values[0])"
   ]
  },
  {
   "cell_type": "markdown",
   "id": "dda2d754",
   "metadata": {},
   "source": [
    "### IMDB genre budget\n",
    "\n",
    "IMDB.sqlite' database contains all details of movies and has three tables with name IMDB, genre and earning.\n",
    "Find out the percentage of the budget for each genre in IMDB Movie Dataset?Plot the pie chart.\n",
    "Print the genre and percentage of movies budget present in that genre with 2 decimal place after rounding off..\n",
    "Note: Movies has multiple genres, so calculate the percentage for each genre.Replace empty budget column to zero."
   ]
  },
  {
   "cell_type": "code",
   "execution_count": 8,
   "id": "99f096e5",
   "metadata": {},
   "outputs": [
    {
     "name": "stdout",
     "output_type": "stream",
     "text": [
      "Action 17.98\n",
      "Adventure 25.10\n",
      "Animation 7.66\n",
      "Biography 2.59\n",
      "Comedy 7.22\n",
      "Crime 1.77\n",
      "Drama 10.85\n",
      "Mystery 1.95\n",
      "Family 1.91\n",
      "Fantasy 4.54\n",
      "History 0.72\n",
      "Horror 0.03\n",
      "Music 0.15\n",
      "Musical 0.25\n",
      "Romance 1.12\n",
      "Sci-Fi 10.77\n",
      "Sport 0.46\n",
      "Thriller 3.99\n",
      "War 0.36\n",
      "Western 0.57\n"
     ]
    }
   ],
   "source": [
    "import pandas as pd \n",
    "import sqlite3 \n",
    "import numpy as np \n",
    "db=sqlite3.connect('IMDB.sqlite') \n",
    "imdb=pd.read_sql_query(\"Select * from IMDB\",db) \n",
    "earning=pd.read_sql_query(\"Select * from earning\",db) \n",
    "genre=pd.read_sql_query(\"Select * from genre\",db) \n",
    "movie_id=genre['Movie_id'].value_counts().index \n",
    "genre_array=[] \n",
    "for i in range(len(movie_id)): \n",
    "    single_genre=[] \n",
    "    single=genre[genre['Movie_id']==movie_id[i]]['genre'].values \n",
    "    single_genre.append(movie_id[i]) \n",
    "    for i in single: \n",
    "        single_genre.append(i) \n",
    "    genre_array.append(single_genre) \n",
    "new_genre=pd.DataFrame(genre_array,columns=['Movie_id','genre_1','genre_2','genre_3']) \n",
    "result = pd.merge(imdb,new_genre,on='Movie_id')\n",
    "result['Budget'].replace('',0,inplace=True) \n",
    "genre_1_name=result.groupby('genre_1')['Budget'].sum().index \n",
    "genre_1_amount=result.groupby('genre_1')['Budget'].sum().values \n",
    "genre_2_name=result.groupby('genre_2')['Budget'].sum().index \n",
    "genre_2_amount=result.groupby('genre_2')['Budget'].sum().values \n",
    "genre_3_name=result.groupby('genre_3')['Budget'].sum().index \n",
    "genre_3_amount=result.groupby('genre_3')['Budget'].sum().values \n",
    "genre_name={} \n",
    "for i in range(len(genre_1_name)): \n",
    "    genre_name[genre_1_name[i]]=genre_1_amount[i] \n",
    "for i in range(len(genre_2_name)): \n",
    "    if genre_2_name[i] in genre_name: \n",
    "        genre_name[genre_2_name[i]]=genre_name.get(genre_2_name[i])+genre_2_amount[i] \n",
    "    else: genre_name[genre_2_name[i]]=genre_2_amount[i] \n",
    "\n",
    "for i in range(len(genre_3_name)): \n",
    "    if genre_3_name[i] in genre_name: \n",
    "        genre_name[genre_3_name[i]]=genre_name.get(genre_3_name[i])+genre_3_amount[i] \n",
    "    else: genre_name[genre_3_name[i]]=genre_3_amount[i] \n",
    "\n",
    "del genre_name[''] \n",
    "genre_names=np.array(list(genre_name.keys())) \n",
    "genre_amount=np.array(list(genre_name.values())) \n",
    "perAmount=np.true_divide(genre_amount, genre_amount.sum())*100 \n",
    "for i in range(len(genre_names)): \n",
    "    print(genre_names[i],format(perAmount[i],'.2f'))"
   ]
  },
  {
   "cell_type": "markdown",
   "id": "36e3963a",
   "metadata": {},
   "source": [
    "### IMDB genre earning\n",
    "\n",
    "IMDB.sqlite' database contains all details of movies and has three tables with name IMDB, genre and earning.\n",
    "Find out the percentage of the total earning for each genre in IMDB Movie Dataset?Plot the pie chart.\n",
    "Print the genre and percentage of movies total earning present in that genre with 2 decimal place after rounding off.\n",
    "Note: Movies has multiple genres, so calculate the percentage for each genre.Total Earning=Domestic earning + WorldWide earning."
   ]
  },
  {
   "cell_type": "code",
   "execution_count": 9,
   "id": "7483badf",
   "metadata": {},
   "outputs": [
    {
     "name": "stdout",
     "output_type": "stream",
     "text": [
      "Action 17.91\n",
      "Adventure 23.57\n",
      "Animation 6.77\n",
      "Biography 3.42\n",
      "Comedy 7.69\n",
      "Crime 1.55\n",
      "Drama 11.96\n",
      "Mystery 2.01\n",
      "Family 1.05\n",
      "Fantasy 5.15\n",
      "History 1.04\n",
      "Horror 0.01\n",
      "Music 0.43\n",
      "Musical 0.38\n",
      "Romance 1.45\n",
      "Sci-Fi 9.95\n",
      "Sport 0.32\n",
      "Thriller 4.42\n",
      "War 0.25\n",
      "Western 0.65\n"
     ]
    }
   ],
   "source": [
    "import pandas as pd\n",
    "import sqlite3\n",
    "import numpy as np\n",
    "db=sqlite3.connect('IMDB.sqlite')\n",
    "imdb=pd.read_sql_query(\"Select * from IMDB\",db)\n",
    "earning=pd.read_sql_query(\"Select * from earning\",db)\n",
    "genre=pd.read_sql_query(\"Select * from genre\",db)\n",
    "movie_id=genre['Movie_id'].value_counts().index\n",
    "genre_array=[]\n",
    "for i in range(len(movie_id)):\n",
    "    single_genre=[]\n",
    "    single=genre[genre['Movie_id']==movie_id[i]]['genre'].values\n",
    "    single_genre.append(movie_id[i])\n",
    "    for i in single:\n",
    "        single_genre.append(i)\n",
    "    genre_array.append(single_genre)\n",
    "new_genre=pd.DataFrame(genre_array,columns=['Movie_id','genre_1','genre_2','genre_3'])\n",
    "result = pd.merge(imdb,new_genre,on='Movie_id')\n",
    "imdb_earning_genre=pd.merge(result,earning,on='Movie_id')\n",
    "imdb_earning_genre['Domestic'].replace('',0,inplace=True)\n",
    "imdb_earning_genre['Worldwide'].replace('',0,inplace=True)\n",
    "imdb_earning_genre['Total Earning']=imdb_earning_genre['Domestic']+imdb_earning_genre['Worldwide']\n",
    "genre_1_name=imdb_earning_genre.groupby('genre_1')['Total Earning'].sum().index\n",
    "genre_1_amount=imdb_earning_genre.groupby('genre_1')['Total Earning'].sum().values\n",
    "genre_2_name=imdb_earning_genre.groupby('genre_2')['Total Earning'].sum().index\n",
    "genre_2_amount=imdb_earning_genre.groupby('genre_2')['Total Earning'].sum().values\n",
    "genre_3_name=imdb_earning_genre.groupby('genre_3')['Total Earning'].sum().index\n",
    "genre_3_amount=imdb_earning_genre.groupby('genre_3')['Total Earning'].sum().values\n",
    "genre_name={}\n",
    "for i in range(len(genre_1_name)):\n",
    "    genre_name[genre_1_name[i]]=genre_1_amount[i]\n",
    "for i in range(len(genre_2_name)):\n",
    "    if genre_2_name[i] in genre_name:\n",
    "        genre_name[genre_2_name[i]]=genre_name.get(genre_2_name[i])+genre_2_amount[i]\n",
    "    else:\n",
    "        genre_name[genre_2_name[i]]=genre_2_amount[i]\n",
    "for i in range(len(genre_3_name)):\n",
    "    if genre_3_name[i] in genre_name:\n",
    "        genre_name[genre_3_name[i]]=genre_name.get(genre_3_name[i])+genre_3_amount[i]\n",
    "    else:\n",
    "        genre_name[genre_3_name[i]]=genre_3_amount[i]\n",
    "del genre_name['']\n",
    "genre_names=np.array(list(genre_name.keys()))\n",
    "genre_amount=np.array(list(genre_name.values()))\n",
    "perAmount=np.true_divide(genre_amount, genre_amount.sum())*100\n",
    "for i in range(len(genre_names)):\n",
    "    print(genre_names[i],format(perAmount[i],'.2f'))"
   ]
  },
  {
   "cell_type": "markdown",
   "id": "432ca4b0",
   "metadata": {},
   "source": [
    "### IMDB Specific Genre\n",
    "\n",
    "IMDB.sqlite' database contains all details of movies and has three tables with name IMDB, genre and earning.\n",
    "Find the movie which has genre of 'Sci-Fi' and 'Mystery' and movie rating is greater or equal to 8 from IMDB Movie Database.\n",
    "Print the movie name.\n",
    "Movies has multiple genre."
   ]
  },
  {
   "cell_type": "code",
   "execution_count": 10,
   "id": "cdabab0b",
   "metadata": {},
   "outputs": [
    {
     "name": "stdout",
     "output_type": "stream",
     "text": [
      "Arrival (2016)\n"
     ]
    }
   ],
   "source": [
    "import pandas as pd\n",
    "import sqlite3\n",
    "import numpy as np\n",
    "db=sqlite3.connect('IMDB.sqlite')\n",
    "imdb=pd.read_sql_query(\"Select * from IMDB\",db)\n",
    "earning=pd.read_sql_query(\"Select * from earning\",db)\n",
    "genre=pd.read_sql_query(\"Select * from genre\",db)\n",
    "movie_id=genre['Movie_id'].value_counts().index\n",
    "genre_array=[]\n",
    "for i in range(len(movie_id)):\n",
    "    single_genre=[]\n",
    "    single=genre[genre['Movie_id']==movie_id[i]]['genre'].values\n",
    "    single_genre.append(movie_id[i])\n",
    "    for i in single:\n",
    "        single_genre.append(i)\n",
    "    genre_array.append(single_genre)\n",
    "new_genre=pd.DataFrame(genre_array,columns=['Movie_id','genre_1','genre_2','genre_3'])\n",
    "result = pd.merge(imdb,new_genre,on='Movie_id')\n",
    "imdb_earning_genre=pd.merge(result,earning,on='Movie_id')\n",
    "imdb_earning_genre['Domestic'].replace('',0,inplace=True)\n",
    "imdb_earning_genre['Worldwide'].replace('',0,inplace=True)\n",
    "imdb_earning_genre['Total Earning']=imdb_earning_genre['Domestic']+imdb_earning_genre['Worldwide']\n",
    "imdb_earning_genre['Budget'].replace('',0,inplace=True)\n",
    "genre_sci=imdb_earning_genre[(imdb_earning_genre['genre_1']=='Sci-Fi')\n",
    "                             | (imdb_earning_genre['genre_2']=='Sci-Fi')\n",
    "                             | (imdb_earning_genre['genre_3']=='Sci-Fi')]\n",
    "genre_sci_mystery=genre_sci[(genre_sci['genre_1']=='Mystery')|\n",
    "                                     (genre_sci['genre_2']=='Mystery')|\n",
    "                                     (genre_sci['genre_3']=='Mystery')]\n",
    "movie_name=genre_sci_mystery[genre_sci_mystery['Rating']>=8].values[0]\n",
    "print(movie_name[1])"
   ]
  },
  {
   "cell_type": "markdown",
   "id": "c3028a05",
   "metadata": {},
   "source": [
    "#### Thank You"
   ]
  }
 ],
 "metadata": {
  "kernelspec": {
   "display_name": "Python 3 (ipykernel)",
   "language": "python",
   "name": "python3"
  },
  "language_info": {
   "codemirror_mode": {
    "name": "ipython",
    "version": 3
   },
   "file_extension": ".py",
   "mimetype": "text/x-python",
   "name": "python",
   "nbconvert_exporter": "python",
   "pygments_lexer": "ipython3",
   "version": "3.9.7"
  }
 },
 "nbformat": 4,
 "nbformat_minor": 5
}
