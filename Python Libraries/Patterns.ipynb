{
 "cells": [
  {
   "cell_type": "markdown",
   "id": "dfec71c8",
   "metadata": {},
   "source": [
    "# Patterns"
   ]
  },
  {
   "cell_type": "markdown",
   "id": "79989f57",
   "metadata": {},
   "source": [
    "### Introduction to Patterns"
   ]
  },
  {
   "cell_type": "markdown",
   "id": "65580bfb",
   "metadata": {},
   "source": [
    "How to approach problems to make easy writting of code. If user input is 4 (N=4), and we want output:\n",
    "<br> * * * * </br>\n",
    "<br> * * * * </br>\n",
    "<br> * * * * </br>\n",
    "<br> * * * * </br>\n",
    "<br> 4 row and 4 column. </br>\n",
    "<br> Pattern can be square, triangle, rectangle.</br>\n",
    "<br> We have to give answer of 4 question: </br>\n",
    "<br>(1) How many rows, we need to print?</br>\n",
    "<br>(2) How many columns, we need to print....X..... For generic ith row, How many column we need to print, that should be the answer?</br>\n",
    "<br>(3) What do we need to print? For every ith row and jth column, character can be different. It can be function(N,i,j)</br>"
   ]
  },
  {
   "cell_type": "markdown",
   "id": "9c58a890",
   "metadata": {},
   "source": [
    "* * * *\n",
    "* * * *\n",
    "* * * *\n",
    "* * * *"
   ]
  },
  {
   "cell_type": "code",
   "execution_count": 2,
   "id": "a41bbef1",
   "metadata": {},
   "outputs": [
    {
     "name": "stdout",
     "output_type": "stream",
     "text": [
      "4\n",
      "*\n",
      "*\n",
      "*\n",
      "*\n",
      "\n",
      "*\n",
      "*\n",
      "*\n",
      "*\n",
      "\n",
      "*\n",
      "*\n",
      "*\n",
      "*\n",
      "\n",
      "*\n",
      "*\n",
      "*\n",
      "*\n",
      "\n"
     ]
    }
   ],
   "source": [
    "n=int(input())\n",
    "i=1\n",
    "while i<=n:\n",
    "    j=1\n",
    "    while j<=n:\n",
    "        #print jth column\n",
    "        print(\"*\")\n",
    "        j+=1\n",
    "    print() \n",
    "    i+=1"
   ]
  },
  {
   "cell_type": "raw",
   "id": "08f790cd",
   "metadata": {},
   "source": [
    "We don't want to print enter. To make it correct, we need to end with the empty string."
   ]
  },
  {
   "cell_type": "code",
   "execution_count": 4,
   "id": "f68093ff",
   "metadata": {},
   "outputs": [
    {
     "name": "stdout",
     "output_type": "stream",
     "text": [
      "6\n",
      "******\n",
      "******\n",
      "******\n",
      "******\n",
      "******\n",
      "******\n"
     ]
    }
   ],
   "source": [
    "n=int(input())\n",
    "i=1\n",
    "while i<=n:\n",
    "    j=1\n",
    "    while j<=n:\n",
    "        #print jth column\n",
    "        print(\"*\", end='')\n",
    "        j+=1\n",
    "    print() \n",
    "    i+=1"
   ]
  },
  {
   "cell_type": "markdown",
   "id": "92d44504",
   "metadata": {},
   "source": [
    "### Code: Square Pattern"
   ]
  },
  {
   "cell_type": "code",
   "execution_count": 8,
   "id": "3a9d366e",
   "metadata": {},
   "outputs": [
    {
     "name": "stdout",
     "output_type": "stream",
     "text": [
      "4\n",
      "4444\n",
      "4444\n",
      "4444\n",
      "4444\n"
     ]
    }
   ],
   "source": [
    "n=int(input())\n",
    "i=1\n",
    "while i<=n:\n",
    "    j=1\n",
    "    while j<=n:\n",
    "        #print jth column\n",
    "        print(n, end='')\n",
    "        j+=1\n",
    "    print() \n",
    "    i+=1"
   ]
  },
  {
   "cell_type": "raw",
   "id": "6f2cb6cc",
   "metadata": {},
   "source": [
    "Square Patterns\n",
    "\n",
    "1st Pattern: (1) N (2) N (3) i\n",
    "1111\n",
    "2222\n",
    "3333\n",
    "4444\n",
    "\n",
    "2nd Pattern: (1) N (2) N (3) j\n",
    "1234\n",
    "1234\n",
    "1234\n",
    "1234\n",
    "\n",
    "3rd Pattern: (1) N (2) N (3) N-j+1\n",
    "4321\n",
    "4321\n",
    "4321\n",
    "4321"
   ]
  },
  {
   "cell_type": "code",
   "execution_count": 10,
   "id": "8f5dc6df",
   "metadata": {},
   "outputs": [
    {
     "name": "stdout",
     "output_type": "stream",
     "text": [
      "4\n",
      "1111\n",
      "2222\n",
      "3333\n",
      "4444\n"
     ]
    }
   ],
   "source": [
    "# 1st Pattern: \n",
    "n=int(input())\n",
    "i=1\n",
    "while i<=n:\n",
    "    j=1\n",
    "    while j<=n:\n",
    "        #print jth column\n",
    "        print(i, end='')\n",
    "        j+=1\n",
    "    print() \n",
    "    i+=1"
   ]
  },
  {
   "cell_type": "code",
   "execution_count": 12,
   "id": "44d92bd3",
   "metadata": {},
   "outputs": [
    {
     "name": "stdout",
     "output_type": "stream",
     "text": [
      "4\n",
      "1234\n",
      "1234\n",
      "1234\n",
      "1234\n"
     ]
    }
   ],
   "source": [
    "# 2nd Pattern:\n",
    "n=int(input())\n",
    "i=1\n",
    "while i<=n:\n",
    "    j=1\n",
    "    while j<=n:\n",
    "        #print jth column\n",
    "        print(j, end='')\n",
    "        j+=1\n",
    "    print() \n",
    "    i+=1"
   ]
  },
  {
   "cell_type": "code",
   "execution_count": 14,
   "id": "6ece7be5",
   "metadata": {},
   "outputs": [
    {
     "name": "stdout",
     "output_type": "stream",
     "text": [
      "4\n",
      "4321\n",
      "4321\n",
      "4321\n",
      "4321\n"
     ]
    }
   ],
   "source": [
    "# 3rd Pattern:\n",
    "n=int(input())\n",
    "i=1\n",
    "while i<=n:\n",
    "    j=1\n",
    "    while j<=n:\n",
    "        #print jth column\n",
    "        print(n-j+1, end='')\n",
    "        j+=1\n",
    "    print() \n",
    "    i+=1"
   ]
  },
  {
   "cell_type": "markdown",
   "id": "bf1f08c5",
   "metadata": {},
   "source": [
    "### Triangular Patterns"
   ]
  },
  {
   "cell_type": "raw",
   "id": "3c665a9a",
   "metadata": {},
   "source": [
    "1st Pattern: (1) N (2) i (3) j\n",
    "1\n",
    "12\n",
    "123\n",
    "1234\n",
    "\n",
    "2nd Pattern: (1) N (2) i (3) ith row, k=i\n",
    "1\n",
    "23\n",
    "345\n",
    "4567\n",
    "\n",
    "3rd Pattern: (1) N (2) i (3)\n",
    "1\n",
    "23\n",
    "456\n",
    "78910"
   ]
  },
  {
   "cell_type": "code",
   "execution_count": 17,
   "id": "482ac73d",
   "metadata": {},
   "outputs": [
    {
     "name": "stdout",
     "output_type": "stream",
     "text": [
      "3\n",
      "1\n",
      "12\n",
      "123\n"
     ]
    }
   ],
   "source": [
    "# 1st Pattern\n",
    "n=int(input())\n",
    "i=1\n",
    "while i<=n:\n",
    "    j=1\n",
    "    while j<=i:\n",
    "        #print jth column\n",
    "        print(j, end='')\n",
    "        j+=1\n",
    "    print() \n",
    "    i+=1"
   ]
  },
  {
   "cell_type": "code",
   "execution_count": 19,
   "id": "207f735c",
   "metadata": {},
   "outputs": [
    {
     "name": "stdout",
     "output_type": "stream",
     "text": [
      "4\n",
      "1\n",
      "23\n",
      "345\n",
      "4567\n"
     ]
    }
   ],
   "source": [
    "# 2st Pattern\n",
    "n=int(input())\n",
    "i=1\n",
    "while i<=n:\n",
    "    j=1\n",
    "    p=i # here we are resetting p for every row\n",
    "    while j<=i:\n",
    "        #print jth column\n",
    "        print(p, end='')\n",
    "        j+=1\n",
    "        p+=1\n",
    "    print() \n",
    "    i+=1"
   ]
  },
  {
   "cell_type": "code",
   "execution_count": 1,
   "id": "0bc5a9fd",
   "metadata": {},
   "outputs": [
    {
     "name": "stdout",
     "output_type": "stream",
     "text": [
      "5\n",
      "1\n",
      "23\n",
      "456\n",
      "78910\n",
      "1112131415\n"
     ]
    }
   ],
   "source": [
    "# 3rd Pattern\n",
    "n=int(input())\n",
    "i=1\n",
    "p=1 # here we are not resetting p\n",
    "while i<=n:\n",
    "    j=1\n",
    "    while j<=i:\n",
    "        #print jth column\n",
    "        print(p, end='')\n",
    "        j+=1\n",
    "        p+=1\n",
    "    print() \n",
    "    i+=1"
   ]
  },
  {
   "cell_type": "markdown",
   "id": "517f8801",
   "metadata": {},
   "source": [
    "###### Code: Triangular Star Pattern"
   ]
  },
  {
   "cell_type": "code",
   "execution_count": 3,
   "id": "f9630b48",
   "metadata": {},
   "outputs": [
    {
     "name": "stdout",
     "output_type": "stream",
     "text": [
      "5\n",
      "*\n",
      "**\n",
      "***\n",
      "****\n",
      "*****\n"
     ]
    }
   ],
   "source": [
    "n=int(input())\n",
    "i=1\n",
    "while i<=n:\n",
    "    j=1\n",
    "    while j<=i:\n",
    "        #print jth column\n",
    "        print('*', end='')\n",
    "        j+=1\n",
    "    print() \n",
    "    i+=1"
   ]
  },
  {
   "cell_type": "markdown",
   "id": "abf61ae4",
   "metadata": {},
   "source": [
    "###### Code: Triangle Number Pattern"
   ]
  },
  {
   "cell_type": "code",
   "execution_count": 7,
   "id": "45c9a68e",
   "metadata": {},
   "outputs": [
    {
     "name": "stdout",
     "output_type": "stream",
     "text": [
      "4\n",
      "1\n",
      "22\n",
      "333\n",
      "4444\n"
     ]
    }
   ],
   "source": [
    "n=int(input())\n",
    "i=1\n",
    "while i<=n:\n",
    "    j=1\n",
    "    while j<=i:\n",
    "        #print jth column\n",
    "        print(i, end='')\n",
    "        j+=1\n",
    "    print() \n",
    "    i+=1"
   ]
  },
  {
   "cell_type": "markdown",
   "id": "5cddc4e4",
   "metadata": {},
   "source": [
    "###### Code: Reverse Number Pattern"
   ]
  },
  {
   "cell_type": "code",
   "execution_count": 10,
   "id": "c3ad2403",
   "metadata": {},
   "outputs": [
    {
     "name": "stdout",
     "output_type": "stream",
     "text": [
      "4\n",
      "1\n",
      "21\n",
      "321\n",
      "4321\n"
     ]
    }
   ],
   "source": [
    "n=int(input())\n",
    "i=1\n",
    "while i<=n:\n",
    "    j=i\n",
    "    while j>=1:\n",
    "        #print jth column\n",
    "        print(j, end='')\n",
    "        j-=1\n",
    "    print() \n",
    "    i+=1"
   ]
  },
  {
   "cell_type": "markdown",
   "id": "3909da46",
   "metadata": {},
   "source": [
    "### Character Patterns"
   ]
  },
  {
   "cell_type": "raw",
   "id": "661c7a27",
   "metadata": {},
   "source": [
    "1st Pattern: (1) N (2) N (3) 'A'+i-1\n",
    "ABCD\n",
    "ABCD\n",
    "ABCD\n",
    "ABCD\n",
    "\n",
    "To get B, we need to print 'A'+1\n",
    "\n",
    "2nd Pattern: (1) N (2) N (3) \n",
    "ABCD\n",
    "BCDE\n",
    "CDEF\n",
    "DEFG"
   ]
  },
  {
   "cell_type": "raw",
   "id": "dde156de",
   "metadata": {},
   "source": [
    "k=int(input())\n",
    "'A'+k-1\n",
    "when we store 'A', it means we store ASCII value. So, the characters are represented by ASCII Value. \n",
    "(1) 1st find the ASCII value of 'A'\n",
    "(2) Add k-1 in it.\n",
    "(3) Find Char corresponding to number in (2)."
   ]
  },
  {
   "cell_type": "code",
   "execution_count": 14,
   "id": "0971f675",
   "metadata": {},
   "outputs": [
    {
     "data": {
      "text/plain": [
       "66"
      ]
     },
     "execution_count": 14,
     "metadata": {},
     "output_type": "execute_result"
    }
   ],
   "source": [
    "# 1st Method: ord gives the ASCII value of a character.\n",
    "# 2nd Method: chr gives the character corresponding to ASCII value.\n",
    "ord('B')\n",
    "#chr(66)"
   ]
  },
  {
   "cell_type": "code",
   "execution_count": 16,
   "id": "5b39fc05",
   "metadata": {},
   "outputs": [
    {
     "name": "stdout",
     "output_type": "stream",
     "text": [
      "2\n"
     ]
    },
    {
     "data": {
      "text/plain": [
       "'B'"
      ]
     },
     "execution_count": 16,
     "metadata": {},
     "output_type": "execute_result"
    }
   ],
   "source": [
    "# print kth alphabet\n",
    "k=int(input())\n",
    "x=ord('A')\n",
    "asciiTarget=x+k-1\n",
    "targetChar=chr(asciiTarget)\n",
    "targetChar"
   ]
  },
  {
   "cell_type": "code",
   "execution_count": 18,
   "id": "7d2065da",
   "metadata": {},
   "outputs": [
    {
     "name": "stdout",
     "output_type": "stream",
     "text": [
      "4\n",
      "ABCD\n",
      "ABCD\n",
      "ABCD\n",
      "ABCD\n"
     ]
    }
   ],
   "source": [
    "# 1st Pattern: \n",
    "n=int(input())\n",
    "i=1\n",
    "while i<=n:\n",
    "    j=1\n",
    "    while j<=n:\n",
    "        #print jth column\n",
    "        charP=chr(ord('A')+j-1)\n",
    "        print(charP, end='')\n",
    "        j+=1\n",
    "    print() \n",
    "    i+=1"
   ]
  },
  {
   "cell_type": "code",
   "execution_count": 24,
   "id": "169028f3",
   "metadata": {},
   "outputs": [
    {
     "name": "stdout",
     "output_type": "stream",
     "text": [
      "4\n",
      "ABCD\n",
      "BCDE\n",
      "CDEF\n",
      "DEFG\n"
     ]
    }
   ],
   "source": [
    "# 2nd Pattern: \n",
    "n=int(input())\n",
    "i=1\n",
    "while i<=n:\n",
    "    j=1\n",
    "    start_char=chr(ord('A')+i-1)\n",
    "    while j<=n:\n",
    "        #print jth column\n",
    "        charP=chr(ord(start_char)+j-1)\n",
    "        print(charP, end='')\n",
    "        j+=1\n",
    "    print() \n",
    "    i+=1"
   ]
  },
  {
   "cell_type": "markdown",
   "id": "4d3828b9",
   "metadata": {},
   "source": [
    "###### Code: Alpha Pattern"
   ]
  },
  {
   "cell_type": "code",
   "execution_count": 26,
   "id": "90fe9216",
   "metadata": {},
   "outputs": [
    {
     "name": "stdout",
     "output_type": "stream",
     "text": [
      "4\n",
      "A\n",
      "BB\n",
      "CCC\n",
      "DDDD\n"
     ]
    }
   ],
   "source": [
    "n=int(input())\n",
    "i=1\n",
    "while i<=n:\n",
    "    j=1\n",
    "    while j<=i:\n",
    "        #print jth column\n",
    "        charP=chr(ord('A')+i-1)\n",
    "        print(charP, end='')\n",
    "        j+=1\n",
    "    print() \n",
    "    i+=1"
   ]
  },
  {
   "cell_type": "markdown",
   "id": "ea41a98c",
   "metadata": {},
   "source": [
    "###### Code : Character Pattern"
   ]
  },
  {
   "cell_type": "code",
   "execution_count": 29,
   "id": "6d6fab8b",
   "metadata": {},
   "outputs": [
    {
     "name": "stdout",
     "output_type": "stream",
     "text": [
      "4\n",
      "A\n",
      "BC\n",
      "CDE\n",
      "DEFG\n"
     ]
    }
   ],
   "source": [
    "n=int(input())\n",
    "i=1\n",
    "while i<=n:\n",
    "    j=1\n",
    "    start_char=chr(ord('A')+i-1)\n",
    "    while j<=i:\n",
    "        #print jth column\n",
    "        charP=chr(ord(start_char)+j-1)\n",
    "        print(charP, end='')\n",
    "        j+=1\n",
    "    print() \n",
    "    i+=1"
   ]
  },
  {
   "cell_type": "markdown",
   "id": "745b9da7",
   "metadata": {},
   "source": [
    "###### Code: Interesting Alphabets"
   ]
  },
  {
   "cell_type": "code",
   "execution_count": 36,
   "id": "42611656",
   "metadata": {},
   "outputs": [
    {
     "name": "stdout",
     "output_type": "stream",
     "text": [
      "5\n",
      "E\n",
      "DE\n",
      "CDE\n",
      "BCDE\n",
      "ABCDE\n"
     ]
    }
   ],
   "source": [
    "n=int(input())\n",
    "i=1\n",
    "while i<=n:\n",
    "    j=1\n",
    "    start_char=chr(ord('A')+n-i)\n",
    "    while j<=i:\n",
    "        #print jth column\n",
    "        charP=chr(ord(start_char)+j-1)\n",
    "        print(charP, end='')\n",
    "        j+=1\n",
    "    print() \n",
    "    i+=1"
   ]
  },
  {
   "cell_type": "markdown",
   "id": "deb67617",
   "metadata": {},
   "source": [
    "### Inverted Pattern"
   ]
  },
  {
   "cell_type": "raw",
   "id": "61a76858",
   "metadata": {},
   "source": [
    "1st Pattern: (1) N (2) N-i+1 (3) *\n",
    "****\n",
    "***\n",
    "**\n",
    "*"
   ]
  },
  {
   "cell_type": "code",
   "execution_count": 38,
   "id": "aafbe085",
   "metadata": {},
   "outputs": [
    {
     "name": "stdout",
     "output_type": "stream",
     "text": [
      "4\n",
      "****\n",
      "***\n",
      "**\n",
      "*\n"
     ]
    }
   ],
   "source": [
    "n=int(input())\n",
    "i=1\n",
    "while i<=n:\n",
    "    j=1\n",
    "    while j<=n-i+1:\n",
    "        print('*', end=\"\")\n",
    "        j+=1\n",
    "    print()\n",
    "    i+=1"
   ]
  },
  {
   "cell_type": "markdown",
   "id": "e1f21fd7",
   "metadata": {},
   "source": [
    "###### Code : Inverted Number Pattern"
   ]
  },
  {
   "cell_type": "code",
   "execution_count": 39,
   "id": "efbeabdc",
   "metadata": {},
   "outputs": [
    {
     "name": "stdout",
     "output_type": "stream",
     "text": [
      "4\n",
      "4444\n",
      "333\n",
      "22\n",
      "1\n"
     ]
    }
   ],
   "source": [
    "n=int(input())\n",
    "i=1\n",
    "while i<=n:\n",
    "    j=1\n",
    "    while j<=n-i+1:\n",
    "        print(n-i+1, end=\"\")\n",
    "        j+=1\n",
    "    print()\n",
    "    i+=1"
   ]
  },
  {
   "cell_type": "markdown",
   "id": "5fb66d41",
   "metadata": {},
   "source": [
    "### Reversed Pattern"
   ]
  },
  {
   "cell_type": "raw",
   "id": "22b2d095",
   "metadata": {},
   "source": [
    "Pattern : (1) N (2) N\n",
    "    *  1st row has 3 spaces\n",
    "   **  2nd row has 2 spaces\n",
    "  ***  3rd row has 1 spaces\n",
    " ****  4th row has 0 spaces\n",
    " Once we have done printing spaces, then we need to print *."
   ]
  },
  {
   "cell_type": "code",
   "execution_count": 2,
   "id": "e34c2f55",
   "metadata": {},
   "outputs": [
    {
     "name": "stdout",
     "output_type": "stream",
     "text": [
      "4\n",
      "   *\n",
      "  **\n",
      " ***\n",
      "****\n"
     ]
    }
   ],
   "source": [
    "n=int(input())\n",
    "i=1\n",
    "while i<=n:\n",
    "    spaces=1\n",
    "    while spaces<=n-i:\n",
    "        print(' ',end=\"\")\n",
    "        spaces+=1\n",
    "    stars=1\n",
    "    while stars<=i:\n",
    "        print('*',end=\"\")\n",
    "        stars=stars+1\n",
    "    print()\n",
    "    i+=1"
   ]
  },
  {
   "cell_type": "markdown",
   "id": "1a29d1c0",
   "metadata": {},
   "source": [
    "###### Code: Mirror Number Pattern"
   ]
  },
  {
   "cell_type": "code",
   "execution_count": 6,
   "id": "a60b0f79",
   "metadata": {},
   "outputs": [
    {
     "name": "stdout",
     "output_type": "stream",
     "text": [
      "4\n",
      "   1\n",
      "  12\n",
      " 123\n",
      "1234\n"
     ]
    }
   ],
   "source": [
    "n=int(input())\n",
    "i=1\n",
    "while i<=n:\n",
    "    spaces=1\n",
    "    while spaces<=n-i:\n",
    "        print(' ',end=\"\")\n",
    "        spaces+=1\n",
    "    j=1\n",
    "    while j<=i:\n",
    "        print(j,end=\"\")\n",
    "        j=j+1\n",
    "    print()\n",
    "    i+=1"
   ]
  },
  {
   "cell_type": "markdown",
   "id": "b785f36d",
   "metadata": {},
   "source": [
    "### Isosceles Pattern"
   ]
  },
  {
   "cell_type": "raw",
   "id": "a82f4bfd",
   "metadata": {},
   "source": [
    "N=4\n",
    "    1\n",
    "   121\n",
    "  12321\n",
    " 1234321\n",
    "We can break the problem in 3 part: spaces, increasing number, decreasing number."
   ]
  },
  {
   "cell_type": "code",
   "execution_count": 1,
   "id": "b8cf92cd",
   "metadata": {},
   "outputs": [
    {
     "name": "stdout",
     "output_type": "stream",
     "text": [
      "5\n",
      "    1\n",
      "   121\n",
      "  12321\n",
      " 1234321\n",
      "123454321\n"
     ]
    }
   ],
   "source": [
    "n=int(input())\n",
    "i=1\n",
    "while i<=n:\n",
    "    spaces=1\n",
    "    # spaces\n",
    "    while spaces<=n-i:\n",
    "        print(' ',end=\"\")\n",
    "        spaces+=1\n",
    "    p=1\n",
    "    j=1\n",
    "    while j<=i:\n",
    "        print(p,end=\"\")\n",
    "        j+=1\n",
    "        p+=1\n",
    "    # decreasing seq\n",
    "    p=i-1\n",
    "    while p>=1:\n",
    "        print(p,end='')\n",
    "        p=p-1\n",
    "    print() # for next line\n",
    "    i+=1"
   ]
  },
  {
   "cell_type": "markdown",
   "id": "da23d9e3",
   "metadata": {},
   "source": [
    "### Code: Star Pattern"
   ]
  },
  {
   "cell_type": "code",
   "execution_count": 2,
   "id": "36344014",
   "metadata": {},
   "outputs": [
    {
     "name": "stdout",
     "output_type": "stream",
     "text": [
      "4\n",
      "   *\n",
      "  ***\n",
      " *****\n",
      "*******\n"
     ]
    }
   ],
   "source": [
    "n=int(input())\n",
    "i=1\n",
    "while i<=n:\n",
    "    spaces=1\n",
    "    # spaces\n",
    "    while spaces<=n-i:\n",
    "        print(' ',end=\"\")\n",
    "        spaces+=1\n",
    "    p=1\n",
    "    j=1\n",
    "    while j<=i:\n",
    "        print(\"*\",end=\"\")\n",
    "        j+=1\n",
    "        p+=1\n",
    "    # decreasing seq\n",
    "    p=i-1\n",
    "    while p>=1:\n",
    "        print(\"*\",end='')\n",
    "        p=p-1\n",
    "    print() # for next line\n",
    "    i+=1"
   ]
  },
  {
   "cell_type": "markdown",
   "id": "31960dba",
   "metadata": {},
   "source": [
    "### Code: Triangle of Numbers"
   ]
  },
  {
   "cell_type": "code",
   "execution_count": 4,
   "id": "1f9a2822",
   "metadata": {},
   "outputs": [
    {
     "name": "stdout",
     "output_type": "stream",
     "text": [
      "4\n",
      "   1\n",
      "  232\n",
      " 34543\n",
      "4567654\n"
     ]
    }
   ],
   "source": [
    "n=int(input())\n",
    "i=1\n",
    "while i<=n:\n",
    "    spaces=1\n",
    "    # spaces\n",
    "    while spaces<=n-i:\n",
    "        print(' ',end=\"\")\n",
    "        spaces+=1\n",
    "    p=i\n",
    "    j=1\n",
    "    while j<=i:\n",
    "        print(p,end=\"\")\n",
    "        j+=1\n",
    "        p+=1\n",
    "    # decreasing seq\n",
    "    p=2*(i-1)\n",
    "    while p>=i:\n",
    "        print(p,end='')\n",
    "        p=p-1\n",
    "    print() # for next line\n",
    "    i+=1"
   ]
  },
  {
   "cell_type": "markdown",
   "id": "37782c47",
   "metadata": {},
   "source": [
    "### Code : Diamond of stars"
   ]
  },
  {
   "cell_type": "code",
   "execution_count": 8,
   "id": "4ca7b28c",
   "metadata": {},
   "outputs": [
    {
     "name": "stdout",
     "output_type": "stream",
     "text": [
      "4\n",
      " *\n",
      "***\n",
      " ***\n"
     ]
    }
   ],
   "source": [
    "n = int(input())\n",
    "i = 1\n",
    "n1 = (n+1)/2\n",
    "n2 = n/2\n",
    "while i<n1:\n",
    "    spaces = 1\n",
    "    while spaces <= n1-i:\n",
    "        print(' ',end=\"\")\n",
    "        spaces+=1\n",
    "    j = 1\n",
    "    while j<=i:\n",
    "        print(\"*\",end=\"\")\n",
    "        j+=1\n",
    "    j-=2\n",
    "    while j>=1:\n",
    "        print(\"*\",end=\"\")\n",
    "        j-=1\n",
    "    print()\n",
    "    i+=1\n",
    "m = 1\n",
    "while m<n2:\n",
    "    mspaces = 1\n",
    "    while mspaces <= m:\n",
    "        print(' ',end=\"\")\n",
    "        mspaces+=1\n",
    "    mj = 1\n",
    "    while mj<=n2-m+1:\n",
    "        print(\"*\",end=\"\")\n",
    "        mj+=1\n",
    "    mj-=2\n",
    "    while mj>=1:\n",
    "        print(\"*\",end=\"\")\n",
    "        mj-=1\n",
    "    print()\n",
    "    m+=1"
   ]
  },
  {
   "cell_type": "code",
   "execution_count": null,
   "id": "d9f539f5",
   "metadata": {},
   "outputs": [],
   "source": []
  }
 ],
 "metadata": {
  "kernelspec": {
   "display_name": "Python 3 (ipykernel)",
   "language": "python",
   "name": "python3"
  },
  "language_info": {
   "codemirror_mode": {
    "name": "ipython",
    "version": 3
   },
   "file_extension": ".py",
   "mimetype": "text/x-python",
   "name": "python",
   "nbconvert_exporter": "python",
   "pygments_lexer": "ipython3",
   "version": "3.9.7"
  }
 },
 "nbformat": 4,
 "nbformat_minor": 5
}
