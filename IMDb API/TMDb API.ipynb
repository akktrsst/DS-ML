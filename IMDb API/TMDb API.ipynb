{
 "cells": [
  {
   "cell_type": "markdown",
   "id": "b4b06033",
   "metadata": {},
   "source": [
    "# Project: TMDb API"
   ]
  },
  {
   "cell_type": "markdown",
   "id": "499d5491",
   "metadata": {},
   "source": [
    "### For this project, I am using the TMDb (The Movie Database) API.\n",
    "TMDb API enables to find out the latest information about TV Shows, Movies and the biggest names in entertainment sector for a marvelous and fun TV/Movie watching experience.\n",
    "TMDb documentation link: https://developers.themoviedb.org/3/getting-started/introduction\n",
    "After joining TMDb, we can easily generate a new developer API key using this link: https://www.themoviedb.org/settings/api/request\n",
    "### My Motivation for using TMDb API\n",
    "By collecting the data using TMDb API one can recommend TV Shows, Movies and all sorts of entertainment on the basis of user’s affinity to specific genres, actors, likes and dislikes.\n",
    "We can find details about upcoming TV Shows and Movies.\n",
    "We can find what is the most popular and/ or exclusive/new content at a given time."
   ]
  },
  {
   "cell_type": "markdown",
   "id": "ee4f1799",
   "metadata": {},
   "source": [
    "## Finding the 'id' of the movie \"Andhadhun\" using TMDb API."
   ]
  },
  {
   "cell_type": "code",
   "execution_count": 1,
   "id": "74feb9b7",
   "metadata": {},
   "outputs": [
    {
     "name": "stdout",
     "output_type": "stream",
     "text": [
      "534780\n"
     ]
    }
   ],
   "source": [
    "import requests\n",
    "api_key = \"e226f4a5f5bace766952aa0d17182959\" \n",
    "api_link = \"https://api.themoviedb.org/3\" \n",
    "params = {'query':\"Andhadhun\", 'api_key':api_key}\n",
    "header = {'Accept': 'application/json'} \n",
    "# we are passing the parameters and header to get this request\n",
    "response = requests.get(api_link + \"/search/movie\", headers = header, params=params) \n",
    "#convert json to python data\n",
    "data = response.json()\n",
    "# Out of data we are storing results attribute values\n",
    "results = data.get('results') \n",
    "# In results we are finding id for the particular movie title\n",
    "for result in results: \n",
    "    if result.get('title') == 'Andhadhun': \n",
    "        print(result.get('id'))"
   ]
  },
  {
   "cell_type": "markdown",
   "id": "b7e882e7",
   "metadata": {},
   "source": [
    "## Fetching the company id company 'Marvel Studios' using TMDb. Printing the id."
   ]
  },
  {
   "cell_type": "code",
   "execution_count": 2,
   "id": "cb032159",
   "metadata": {},
   "outputs": [
    {
     "name": "stdout",
     "output_type": "stream",
     "text": [
      "420\n"
     ]
    }
   ],
   "source": [
    "import requests\n",
    "api_key = \"e226f4a5f5bace766952aa0d17182959\" \n",
    "api_link = \"https://api.themoviedb.org/3\" \n",
    "params = {'query':\"Marvel Studios\", 'api_key':api_key}\n",
    "header = {'Accept': 'application/json'} \n",
    "# we are passing the parameters and header to get this request\n",
    "response = requests.get(api_link + \"/search/company\", headers = header, params=params) \n",
    "data = response.json() # convert json to python data\n",
    "results = data.get('results') \n",
    "for result in results: \n",
    "    if result.get('name') == 'Marvel Studios': \n",
    "        print(result.get('id'))"
   ]
  },
  {
   "cell_type": "markdown",
   "id": "d1622bd4",
   "metadata": {},
   "source": [
    "## Finding the vote count and vote average of the movie \"3 Idiots\" using the TMDb API"
   ]
  },
  {
   "cell_type": "code",
   "execution_count": 7,
   "id": "b8fc2a7f",
   "metadata": {},
   "outputs": [
    {
     "name": "stdout",
     "output_type": "stream",
     "text": [
      "1852 8\n"
     ]
    }
   ],
   "source": [
    "import requests\n",
    "## Write your code here\n",
    "api_key = \"e226f4a5f5bace766952aa0d17182959\" \n",
    "api_link = \"https://api.themoviedb.org/3\" \n",
    "params = {'query':\"3 Idiots\", 'api_key':api_key}\n",
    "header = {'Accept': 'application/json'} \n",
    "response = requests.get(api_link + \"/search/movie\", headers = header, params=params) \n",
    "data = response.json()\n",
    "results = data.get('results') \n",
    "for result in results: \n",
    "    if result.get('title') == '3 Idiots': \n",
    "        print(result.get('vote_count'),end=\" \")\n",
    "        print(result.get('vote_average'))"
   ]
  },
  {
   "cell_type": "markdown",
   "id": "0f1b8724",
   "metadata": {},
   "source": [
    "## Fetching the names of top 5 similar movies to 'Inception' from the TMDb API."
   ]
  },
  {
   "cell_type": "code",
   "execution_count": 8,
   "id": "4a7ef2f2",
   "metadata": {},
   "outputs": [
    {
     "name": "stdout",
     "output_type": "stream",
     "text": [
      "Inception\n",
      "Cool Hand Luke\n",
      "Doctor Zhivago\n",
      "Mulholland Drive\n",
      "Lolita\n"
     ]
    }
   ],
   "source": [
    "import requests \n",
    "api_key = \"e226f4a5f5bace766952aa0d17182959\" \n",
    "api_link = \"https://api.themoviedb.org/3\" \n",
    "params = {'query':\"Inception\", 'api_key':api_key} \n",
    "header = {'Accept': 'application/json'} \n",
    "response = requests.get(api_link + \"/search/movie\", headers = header, params=params)\n",
    "data = response.json() \n",
    "results = data.get('results') \n",
    "for result in results: \n",
    "    if result.get('title') == 'Inception': \n",
    "        id = result.get('id') \n",
    "        \n",
    "params2 = {'api_key':api_key} \n",
    "# response requests for each id which is similar to Inception\n",
    "response2 = requests.get(api_link + \"/movie/\" + str(id) + \"/similar\", headers = header, params=params) \n",
    "data2 = response2.json() # convert into python data\n",
    "results2 = data2.get('results') \n",
    "# print top 5 movie name like inception\n",
    "for result in results2[:5]: \n",
    "    print(result.get(\"title\"))"
   ]
  },
  {
   "cell_type": "markdown",
   "id": "67f466b5",
   "metadata": {},
   "source": [
    "## Fetching the top rated english movies in the US region using the TMDb API. From the result, print the first 10 movies which have original language as english. Also print their genres.\n",
    "Note: We are not using the search/movies API for finding genres."
   ]
  },
  {
   "cell_type": "code",
   "execution_count": 9,
   "id": "b4506ed0",
   "metadata": {},
   "outputs": [
    {
     "name": "stdout",
     "output_type": "stream",
     "text": [
      "The Shawshank Redemption - Drama, Crime, \n",
      "The Godfather - Drama, Crime, \n",
      "Schindler's List - Drama, History, War, \n",
      "The Godfather: Part II - Drama, Crime, \n",
      "Gabriel's Inferno - Romance, \n",
      "12 Angry Men - Drama, \n",
      "Gabriel's Inferno: Part II - Romance, \n",
      "The Green Mile - Fantasy, Drama, Crime, \n",
      "The Dark Knight - Drama, Action, Crime, Thriller, \n",
      "Gabriel's Inferno: Part III - Romance, Comedy, \n"
     ]
    }
   ],
   "source": [
    "import requests\n",
    "api_key = \"e226f4a5f5bace766952aa0d17182959\" \n",
    "api_link = \"https://api.themoviedb.org/3\" #/movie/top_rated/apikey = \n",
    "header = {'Accept': 'application/json'} \n",
    "params = {'api_key':api_key, 'region':'US'} \n",
    "response = requests.get(api_link + \"/movie/top_rated\", headers = header, params = params) \n",
    "\n",
    "\n",
    "data = response.json() \n",
    "results = data.get('results') \n",
    "title_array = [] \n",
    "genre_id_array = [] \n",
    "for result in results: \n",
    "    if result.get('original_language') == 'en': \n",
    "        # append data in these two array\n",
    "        title_array.append(result.get('title')) \n",
    "        genre_id_array.append(result.get('genre_ids')) \n",
    "        \n",
    "# To get the genre name corresponding to genre_id \n",
    "response2 = requests.get(api_link + \"/genre/movie/list\", headers = header, params = params) \n",
    "data2 = response2.json() \n",
    "genres = data2.get('genres') \n",
    "mapping = {} \n",
    "for genre in genres: \n",
    "    mapping[genre.get('id')] = genre.get('name') \n",
    "    \n",
    "for i in range(10): \n",
    "    print(title_array[i], \"-\", end=\" \") \n",
    "    for id in genre_id_array[i]: \n",
    "        print(mapping.get(id), end = \", \") \n",
    "    print()"
   ]
  },
  {
   "cell_type": "markdown",
   "id": "c24612b1",
   "metadata": {},
   "source": [
    "## Finding the name and birthplace of the present most popular person according to TMDb API."
   ]
  },
  {
   "cell_type": "code",
   "execution_count": 10,
   "id": "4a927653",
   "metadata": {},
   "outputs": [
    {
     "name": "stdout",
     "output_type": "stream",
     "text": [
      "6161\n",
      "Jennifer Connelly - Cairo, New York, USA\n"
     ]
    }
   ],
   "source": [
    "import requests\n",
    "## Write your code here\n",
    "api_key = \"e226f4a5f5bace766952aa0d17182959\" \n",
    "api_link = \"https://api.themoviedb.org/3\" #/movie/top_rated/apikey = \n",
    "header = {'Accept': 'application/json'} \n",
    "params = {'api_key':api_key} \n",
    "response = requests.get(api_link + \"/person/popular\", headers = header, params = params) \n",
    "data=response.json()\n",
    "id=data.get('results')[0].get('id')\n",
    "print(id)\n",
    "# getting popular person\n",
    "popular=data.get('results')[0].get('name')\n",
    "a=requests.get(api_link + \"/person/\" + str(id), headers = header, params = params)\n",
    "b=a.json()\n",
    "print(popular,\"-\",b.get('place_of_birth'))"
   ]
  },
  {
   "cell_type": "markdown",
   "id": "d3bc8809",
   "metadata": {},
   "source": [
    "## Fetching the names of the character played by Tom Cruise in the movies:"
   ]
  },
  {
   "cell_type": "raw",
   "id": "933bc075",
   "metadata": {},
   "source": [
    "Top Gun\n",
    "Mission: Impossible - Fallout\n",
    "Minority Report\n",
    "Edge of Tomorrow"
   ]
  },
  {
   "cell_type": "code",
   "execution_count": 14,
   "id": "9b07bbfd",
   "metadata": {},
   "outputs": [
    {
     "ename": "TypeError",
     "evalue": "'NoneType' object is not iterable",
     "output_type": "error",
     "traceback": [
      "\u001b[1;31m---------------------------------------------------------------------------\u001b[0m",
      "\u001b[1;31mTypeError\u001b[0m                                 Traceback (most recent call last)",
      "\u001b[1;32m~\\AppData\\Local\\Temp/ipykernel_19300/4241409321.py\u001b[0m in \u001b[0;36m<module>\u001b[1;34m\u001b[0m\n\u001b[0;32m     12\u001b[0m \u001b[0mdata2\u001b[0m \u001b[1;33m=\u001b[0m \u001b[0mresponse2\u001b[0m\u001b[1;33m.\u001b[0m\u001b[0mjson\u001b[0m\u001b[1;33m(\u001b[0m\u001b[1;33m)\u001b[0m\u001b[1;33m\u001b[0m\u001b[1;33m\u001b[0m\u001b[0m\n\u001b[0;32m     13\u001b[0m \u001b[0mcast_result\u001b[0m \u001b[1;33m=\u001b[0m \u001b[0mdata2\u001b[0m\u001b[1;33m.\u001b[0m\u001b[0mget\u001b[0m\u001b[1;33m(\u001b[0m\u001b[1;34m'cast'\u001b[0m\u001b[1;33m)\u001b[0m\u001b[1;33m\u001b[0m\u001b[1;33m\u001b[0m\u001b[0m\n\u001b[1;32m---> 14\u001b[1;33m \u001b[1;32mfor\u001b[0m \u001b[0mcast\u001b[0m \u001b[1;32min\u001b[0m \u001b[0mcast_result\u001b[0m\u001b[1;33m:\u001b[0m\u001b[1;33m\u001b[0m\u001b[1;33m\u001b[0m\u001b[0m\n\u001b[0m\u001b[0;32m     15\u001b[0m     \u001b[1;32mif\u001b[0m \u001b[0mcast\u001b[0m\u001b[1;33m.\u001b[0m\u001b[0mget\u001b[0m\u001b[1;33m(\u001b[0m\u001b[1;34m'original_title'\u001b[0m\u001b[1;33m)\u001b[0m\u001b[1;33m==\u001b[0m\u001b[1;34m'Top Gun'\u001b[0m\u001b[1;33m:\u001b[0m\u001b[1;33m\u001b[0m\u001b[1;33m\u001b[0m\u001b[0m\n\u001b[0;32m     16\u001b[0m         \u001b[0mprint\u001b[0m\u001b[1;33m(\u001b[0m\u001b[0mcast\u001b[0m\u001b[1;33m.\u001b[0m\u001b[0mget\u001b[0m\u001b[1;33m(\u001b[0m\u001b[1;34m'character'\u001b[0m\u001b[1;33m)\u001b[0m\u001b[1;33m)\u001b[0m\u001b[1;33m\u001b[0m\u001b[1;33m\u001b[0m\u001b[0m\n",
      "\u001b[1;31mTypeError\u001b[0m: 'NoneType' object is not iterable"
     ]
    }
   ],
   "source": [
    "import requests\n",
    "api_key = \"e226f4a5f5bace766952aa0d17182959\" \n",
    "api_link = \"https://api.themoviedb.org/3\" #/movie/top_rated/apikey = \n",
    "header = {'Accept': 'application/json'} \n",
    "params = {'query':'Tom Cruise','api_key':api_key} \n",
    "response = requests.get(api_link + \"/search/person\", headers = header, params = params) \n",
    "data=response.json()\n",
    "results =data.get('results')\n",
    "id = results[0]['id']\n",
    "params2 = {'api_key':api_key} \n",
    "response2 = requests.get(api_link + '/person'+str(id)+'/movie_credits', headers = header, params = params2) \n",
    "data2 = response2.json()\n",
    "cast_result = data2.get('cast')\n",
    "for cast in cast_result:\n",
    "    if cast.get('original_title')=='Top Gun':\n",
    "        print(cast.get('character'))\n",
    "for cast in cast_result:\n",
    "    if cast.get('original_title')=='Mission: Impossible - Fallout':\n",
    "        print(cast.get('character'))\n",
    "for cast in cast_result:\n",
    "    if cast.get('original_title')=='Minority Report':\n",
    "        print(cast.get('character'))\n",
    "for cast in cast_result:\n",
    "    if cast.get('original_title')=='Edge of Tomorrow':\n",
    "        print(cast.get('character'))"
   ]
  },
  {
   "cell_type": "markdown",
   "id": "aeca3143",
   "metadata": {},
   "source": [
    "## Did James McAvoy play a role in the movie Deadpool 2. Print Yes or No."
   ]
  },
  {
   "cell_type": "code",
   "execution_count": 9,
   "id": "60a0bda1",
   "metadata": {},
   "outputs": [
    {
     "name": "stdout",
     "output_type": "stream",
     "text": [
      "Yes\n"
     ]
    }
   ],
   "source": [
    "import requests\n",
    "## Write your code here\n",
    "api_key = \"e226f4a5f5bace766952aa0d17182959\" \n",
    "api_link = \"https://api.themoviedb.org/3\" \n",
    "params = {'query':\"Deadpool 2\" , 'api_key':api_key}\n",
    "header = {'Accept': 'application/json'}\n",
    "response = requests.get(api_link + \"/search/movie\", headers = header, params = params) \n",
    "data = response.json() \n",
    "results = data.get('results')\n",
    "for result in results:\n",
    "    if result.get('original_title') == 'Deadpool 2': \n",
    "        id = result.get('id')\n",
    "        \n",
    "params2 = {'api_key':api_key}\n",
    "response2 = requests.get(api_link + \"/movie/\" + str(id) + \"/credits\" , headers = header, params = params2) \n",
    "data2 = response2.json()\n",
    "cast_result = data2.get('cast') \n",
    "for cast in cast_result: \n",
    "    if cast.get('name') == \"James McAvoy\": \n",
    "        print('Yes')\n",
    "        flag = True\n",
    "if not flag:\n",
    "    print('No')"
   ]
  },
  {
   "cell_type": "markdown",
   "id": "3a1be924",
   "metadata": {},
   "source": [
    "## Using the result obtained in previous question, find out if James McAvoy was credited for his role in movie Deadpool 2. Print Yes or No."
   ]
  },
  {
   "cell_type": "code",
   "execution_count": 10,
   "id": "b7c005ac",
   "metadata": {},
   "outputs": [
    {
     "name": "stdout",
     "output_type": "stream",
     "text": [
      "No\n"
     ]
    }
   ],
   "source": [
    "import requests\n",
    "\n",
    "api_key = \"e226f4a5f5bace766952aa0d17182959\" \n",
    "api_link = \"https://api.themoviedb.org/3\" \n",
    "params = {'query':\"Deadpool 2\" , 'api_key':api_key}\n",
    "header = {'Accept': 'application/json'}\n",
    "response = requests.get(api_link + \"/search/movie\", headers = header, params = params) \n",
    "data = response.json() \n",
    "results = data.get('results')\n",
    "for result in results:\n",
    "    if result.get('original_title') == 'Deadpool 2': \n",
    "        id = result.get('id')\n",
    "        \n",
    "params2 = {'api_key':api_key}\n",
    "response2 = requests.get(api_link + \"/movie/\" + str(id) + \"/credits\" , headers = header, params = params2) \n",
    "data2 = response2.json()\n",
    "cast_result = data2.get('cast') \n",
    "for cast in cast_result: \n",
    "    if cast.get('name') == \"James McAvoy\": \n",
    "        james_info=cast\n",
    "        break\n",
    "if 'uncredited' in james_info.get('character'):\n",
    "    print('No')\n",
    "else:\n",
    "    print('Yes')"
   ]
  },
  {
   "cell_type": "markdown",
   "id": "a131c320",
   "metadata": {},
   "source": [
    "## Fetching the overview of the TV Show \"FRIENDS\" using TMDb API."
   ]
  },
  {
   "cell_type": "code",
   "execution_count": 11,
   "id": "5f24b7fe",
   "metadata": {},
   "outputs": [
    {
     "name": "stdout",
     "output_type": "stream",
     "text": [
      "Friends is an American television sitcom created by David Crane and Marta Kauffman, which aired on NBC from September 22, 1994, to May 6, 2004, lasting ten seasons. With an ensemble cast starring Jennifer Aniston, Courteney Cox, Lisa Kudrow, Matt LeBlanc, Matthew Perry and David Schwimmer, the show revolves around six friends in their 20s and 30s who live in Manhattan, New York City. The series was produced by Bright/Kauffman/Crane Productions, in association with Warner Bros. Television. The original executive producers were Kevin S. Bright, Kauffman, and Crane.\n"
     ]
    }
   ],
   "source": [
    "import requests \n",
    "api_key = \"e226f4a5f5bace766952aa0d17182959\" \n",
    "api_link = \"https://api.themoviedb.org/3\" \n",
    "params = {'query':\"FRIENDS\" , 'api_key':api_key} \n",
    "header = {'Accept': 'application/json'} \n",
    "response = requests.get(api_link + \"/search/tv/\", headers = header, params = params) \n",
    "data = response.json() \n",
    "results = data.get('results') \n",
    "\n",
    "for i in results: \n",
    "    if i.get('name') == 'Friends': \n",
    "        print(i.get('overview'))"
   ]
  },
  {
   "cell_type": "markdown",
   "id": "e17c08cb",
   "metadata": {},
   "source": [
    "## Fetching the name and air date of S06E05 of the TV Show 'The Big Bang Theory' from TMDb API."
   ]
  },
  {
   "cell_type": "code",
   "execution_count": 13,
   "id": "0dc2f7d1",
   "metadata": {},
   "outputs": [
    {
     "name": "stdout",
     "output_type": "stream",
     "text": [
      "The Holographic Excitation - 2012-10-25\n"
     ]
    }
   ],
   "source": [
    "import requests \n",
    "api_key = \"e226f4a5f5bace766952aa0d17182959\" \n",
    "api_link = \"https://api.themoviedb.org/3\" \n",
    "params = {'query':\"The Big Bang Theory\" , 'api_key':api_key} \n",
    "header = {'Accept': 'application/json'} \n",
    "response = requests.get(api_link + \"/search/tv/\", headers = header, params = params) \n",
    "data = response.json() \n",
    "results = data.get('results') \n",
    "\n",
    "for i in results: \n",
    "    if i.get('name') == 'The Big Bang Theory': \n",
    "        id = i.get('id')\n",
    "\n",
    "params2 = {'api_key':api_key} \n",
    "response2 = requests.get(api_link + \"/tv/\"+str(id) + '/season/6/episode/5', headers = header, params = params2)\n",
    "data2 = response2.json()\n",
    "print(data2.get('name'),'-',data2.get('air_date'))"
   ]
  },
  {
   "cell_type": "markdown",
   "id": "e9dfbae3",
   "metadata": {},
   "source": [
    "## Fetching the trending TV Shows for the week from the TMDb API and print the taglines of the top 5 shows. If there is no tagline, print 'Empty' instead"
   ]
  },
  {
   "cell_type": "code",
   "execution_count": 17,
   "id": "5aaf3468",
   "metadata": {},
   "outputs": [
    {
     "name": "stdout",
     "output_type": "stream",
     "text": [
      "The future is in her hands.\n",
      "Between darkness and defeat, hope survives.\n",
      "Every ending has a beginning.\n",
      "Never meet your heroes.\n",
      "You never forget your first.\n"
     ]
    }
   ],
   "source": [
    "import requests \n",
    "api_key = \"e226f4a5f5bace766952aa0d17182959\" \n",
    "api_link = \"https://api.themoviedb.org/3\" \n",
    "params = {'api_key':api_key} \n",
    "header = {'Accept': 'application/json'} \n",
    "response = requests.get(api_link + \"/trending/tv/week\", headers = header, params= params) \n",
    "data = response.json() \n",
    "results = data.get('results') \n",
    "data\n",
    "ids = []\n",
    "for result in results[:5]: \n",
    "    ids.append(result.get('id'))\n",
    "\n",
    "for id in ids:\n",
    "    response2 = requests.get(api_link + \"/tv/\"+str(id), headers = header,params= params)\n",
    "    data2 = response2.json()\n",
    "    if (data2.get('tagline'))!=\"\":\n",
    "        print(data2.get('tagline'))\n",
    "    else:\n",
    "        print('Empty')"
   ]
  },
  {
   "cell_type": "markdown",
   "id": "cd0934c4",
   "metadata": {},
   "source": [
    "## Printing the names of all the TV shows to be aired today whose original language is english."
   ]
  },
  {
   "cell_type": "code",
   "execution_count": 18,
   "id": "1e750163",
   "metadata": {},
   "outputs": [
    {
     "name": "stdout",
     "output_type": "stream",
     "text": [
      "The Boys\n",
      "Star Trek: Strange New Worlds\n",
      "LIVE with Kelly and Ryan\n",
      "The Daily Show with Trevor Noah\n",
      "Pointless\n",
      "My Little Pony: Make Your Mark\n",
      "Emmerdale\n",
      "PBS NewsHour\n",
      "The Tonight Show Starring Jimmy Fallon\n",
      "The Kardashians\n",
      "Legacies\n",
      "Late Night with Seth Meyers\n",
      "EastEnders\n",
      "The Late Show with Stephen Colbert\n",
      "Hollyoaks\n",
      "The Bold and the Beautiful\n",
      "Home and Away\n",
      "Jeopardy!\n",
      "Shortland Street\n",
      "MasterChef Australia\n",
      "Doctors\n",
      "The Orville\n",
      "The Deep\n",
      "Bluey\n",
      "Question Time\n",
      "Walker\n",
      "Wheel of Fortune\n",
      "Chateau DIY\n",
      "Tamron Hall\n",
      "The Kelly Clarkson Show\n",
      "BBC World News America\n",
      "Love Island\n",
      "The View\n",
      "The Offer\n",
      "Impractical Jokers\n",
      "Taskmaster\n",
      "House Hunters\n",
      "Full Frontal with Samantha Bee\n",
      "Good Mythical Morning\n",
      "Alone\n",
      "Hot Ones\n",
      "The Summer I Turned Pretty\n",
      "Jimmy Kimmel Live!\n",
      "Let's Make a Deal\n",
      "The Old Man\n",
      "The Ready Room\n",
      "The Midwich Cuckoos\n",
      "Restaurant: Impossible\n",
      "Danger Force\n",
      "Beat Bobby Flay\n",
      "Rutherford Falls\n",
      "WWE NXT UK\n",
      "WWE Main Event\n",
      "The Lazarus Project\n",
      "Paranormal Caught on Camera\n",
      "Grand Designs Australia\n",
      "Southern Charm\n",
      "The Lake\n",
      "VICE News Tonight\n",
      "Dead End: Paranormal Park\n",
      "Ghost Adventures: House Calls\n",
      "Exandria Unlimited\n",
      "Crimes Gone Viral\n",
      "Players\n",
      "Below Deck Down Under\n",
      "Accused: Guilty or Innocent?\n",
      "Gutfeld!\n",
      "Secrets of the London Underground\n",
      "Impact Wrestling\n",
      "PRU\n",
      "Kings of Pain\n",
      "Bandon Mein Tha Dum!\n",
      "Fight or Flight\n",
      "Devil in the Web\n",
      "Rat in the Kitchen\n",
      "Dimension 20's Adventuring Party\n",
      "Ex on the Beach\n",
      "Japanology Plus\n",
      "re:View\n",
      "Japan Railway Journal\n",
      "New Japan Pro Wrestling\n",
      "Courtney Act's One Plus One\n",
      "Rafik Moyo: To the Rescue!\n",
      "Vanjie: 24 Hours of Love\n",
      "A La Carte\n",
      "Jimmy Kimmel Live! NBA Finals Game Night\n",
      "-真天地開闢集団-ジグザグ 解体新書\n",
      "Karma's World Music Videos\n",
      "Follow the food\n",
      "Pizza Classics\n"
     ]
    }
   ],
   "source": [
    "import requests\n",
    "\n",
    "api_key = \"e226f4a5f5bace766952aa0d17182959\" \n",
    "api_link = \"https://api.themoviedb.org/3\" \n",
    "params = {'language':'en','api_key':api_key} \n",
    "header = {'Accept': 'application/json'} \n",
    "response = requests.get(api_link + \"/tv/airing_today/\", headers = header, params = params) \n",
    "data = response.json() \n",
    "page_number = data.get(\"total_pages\") \n",
    "for i in range(1,page_number + 1):\n",
    "    params = {'api_key':api_key,'language':'en','page':i}\n",
    "    response = requests.get(api_link + \"/tv/airing_today/\", headers = header, params = params) \n",
    "    data = response.json() \n",
    "    results=data.get('results')\n",
    "    for i in results:\n",
    "        if i.get('original_language')=='en':\n",
    "            print(i.get('name'))"
   ]
  },
  {
   "cell_type": "markdown",
   "id": "6550343d",
   "metadata": {},
   "source": [
    "## Counting the number of males and females in the cast of \"Money Heist\" using the TMDb API."
   ]
  },
  {
   "cell_type": "code",
   "execution_count": 19,
   "id": "21fc6a13",
   "metadata": {},
   "outputs": [
    {
     "name": "stdout",
     "output_type": "stream",
     "text": [
      "10 5\n"
     ]
    }
   ],
   "source": [
    "import requests\n",
    "\n",
    "api_key = \"e226f4a5f5bace766952aa0d17182959\" \n",
    "api_link = \"https://api.themoviedb.org/3\" \n",
    "params = {'query':'Money Heist','api_key':api_key} \n",
    "header = {'Accept': 'application/json'} \n",
    "response = requests.get(api_link + '/search/tv/', headers = header, params = params) \n",
    "data = response.json() \n",
    "result=data.get('results')\n",
    "for i in result:\n",
    "    if i.get('name')=='Money Heist':\n",
    "        id=i.get('id')    \n",
    "params1={'id':id,'api_key':api_key}\n",
    "response1 = requests.get(api_link + '/tv/' + str(id) + '/credits', headers = header, params = params1) \n",
    "data1 = response1.json() \n",
    "cast=data1.get('cast')\n",
    "count_male=0\n",
    "count_female=0\n",
    "for c in cast:\n",
    "    if c.get('gender')==1:\n",
    "        count_female+=1\n",
    "    if c.get('gender')==2:\n",
    "        count_male+=1\n",
    "print(count_male,count_female)"
   ]
  }
 ],
 "metadata": {
  "kernelspec": {
   "display_name": "Python 3 (ipykernel)",
   "language": "python",
   "name": "python3"
  },
  "language_info": {
   "codemirror_mode": {
    "name": "ipython",
    "version": 3
   },
   "file_extension": ".py",
   "mimetype": "text/x-python",
   "name": "python",
   "nbconvert_exporter": "python",
   "pygments_lexer": "ipython3",
   "version": "3.9.7"
  }
 },
 "nbformat": 4,
 "nbformat_minor": 5
}
