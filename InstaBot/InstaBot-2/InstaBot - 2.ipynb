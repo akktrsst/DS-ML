{
 "cells": [
  {
   "cell_type": "markdown",
   "id": "db165bbc",
   "metadata": {},
   "source": [
    "# Project: InstaBot - 2"
   ]
  },
  {
   "cell_type": "markdown",
   "id": "af33390e",
   "metadata": {},
   "source": [
    "## Libraries"
   ]
  },
  {
   "cell_type": "code",
   "execution_count": 1,
   "id": "a1737a46",
   "metadata": {},
   "outputs": [],
   "source": [
    "from selenium import webdriver\n",
    "from selenium.webdriver.support.ui import WebDriverWait\n",
    "from selenium.webdriver.support import expected_conditions as EC\n",
    "from selenium.webdriver.common.by import By\n",
    "from selenium.webdriver.support.select import Select\n",
    "from time import sleep\n",
    "from bs4 import BeautifulSoup\n",
    "import requests\n",
    "from selenium.webdriver.common.keys import Keys\n",
    "from selenium.common.exceptions import NoSuchElementException\n",
    "\n",
    "import pandas as pd\n",
    "import numpy as np\n",
    "import matplotlib.pyplot as plt\n",
    "%matplotlib inline"
   ]
  },
  {
   "cell_type": "code",
   "execution_count": 2,
   "id": "3b446e43",
   "metadata": {},
   "outputs": [],
   "source": [
    "driver = webdriver.Chrome()\n",
    "driver.get('https://www.instagram.com/')\n",
    "#driver.maximize_window()"
   ]
  },
  {
   "cell_type": "code",
   "execution_count": 3,
   "id": "777747a8",
   "metadata": {},
   "outputs": [
    {
     "name": "stderr",
     "output_type": "stream",
     "text": [
      "C:\\Users\\abhis\\AppData\\Local\\Temp/ipykernel_10008/2574680492.py:3: DeprecationWarning: find_element_by_name is deprecated. Please use find_element(by=By.NAME, value=name) instead\n",
      "  username = driver.find_element_by_name('username')\n",
      "C:\\Users\\abhis\\AppData\\Local\\Temp/ipykernel_10008/2574680492.py:4: DeprecationWarning: find_element_by_name is deprecated. Please use find_element(by=By.NAME, value=name) instead\n",
      "  password = driver.find_element_by_name('password')\n"
     ]
    }
   ],
   "source": [
    "#login\n",
    "wait = WebDriverWait(driver,10).until(EC.presence_of_element_located((By.CLASS_NAME,'f0n8F ')))\n",
    "username = driver.find_element_by_name('username')\n",
    "password = driver.find_element_by_name('password')\n",
    "username.send_keys('USERNAME')\n",
    "password.send_keys('PASSWORD')\n",
    "password.submit()"
   ]
  },
  {
   "cell_type": "code",
   "execution_count": 5,
   "id": "75152377",
   "metadata": {},
   "outputs": [],
   "source": [
    "#click on save info\n",
    "save_info = WebDriverWait(driver,10).until(EC.presence_of_element_located((By.CLASS_NAME,\"L3NKy\")))\n",
    "save_info.click()"
   ]
  },
  {
   "cell_type": "code",
   "execution_count": 6,
   "id": "78784629",
   "metadata": {},
   "outputs": [],
   "source": [
    "#click on notification (Not Now)\n",
    "notification = WebDriverWait(driver,10).until(EC.presence_of_element_located((By.CLASS_NAME,\"_a9_1\")))\n",
    "notification.click()"
   ]
  },
  {
   "cell_type": "code",
   "execution_count": 7,
   "id": "35fe43a4",
   "metadata": {},
   "outputs": [],
   "source": [
    "##search_open_profile() function is same as part-I. All the functionality is same as before.\n",
    "def search_open_profile(s):\n",
    "    try:\n",
    "        driver.refresh()\n",
    "        #locatong search box bar and sending text \n",
    "        wait = WebDriverWait(driver, 10)\n",
    "        search_box = wait.until(EC.presence_of_element_located((By.XPATH, '//input[contains(@class, \"_aawh\")]')))\n",
    "\n",
    "        #clear search box\n",
    "        search_box.clear()\n",
    "        search_box.send_keys(s)\n",
    "    \n",
    "        #locating serched result\n",
    "        pro = wait.until(EC.element_to_be_clickable((By.XPATH, '//a[contains(@class,\"oajrlxb2\")]//div[contains(@class,\"_aacl\")]/div/div')))\n",
    "        pro.click()\n",
    "        \n",
    "    except TimeoutException :\n",
    "        print('No Search Found!')"
   ]
  },
  {
   "cell_type": "markdown",
   "id": "6ae37721",
   "metadata": {},
   "source": [
    "## Problem 1 : Analyse The Habits of Bloggers"
   ]
  },
  {
   "cell_type": "raw",
   "id": "978de338",
   "metadata": {},
   "source": [
    "After following a lot of different food bloggers, analyse the habits of these bloggers."
   ]
  },
  {
   "cell_type": "markdown",
   "id": "565fddd7",
   "metadata": {},
   "source": [
    "### [1.1] From the list of obtained instagram handles, when I searched ‘food’ in previous project. Open the first 10 handles and find the top 5 which have the highest number of followers."
   ]
  },
  {
   "cell_type": "code",
   "execution_count": 8,
   "id": "12778640",
   "metadata": {},
   "outputs": [
    {
     "name": "stderr",
     "output_type": "stream",
     "text": [
      "C:\\Users\\abhis\\AppData\\Local\\Temp/ipykernel_10008/2560847043.py:2: DeprecationWarning: find_element_by_xpath is deprecated. Please use find_element(by=By.XPATH, value=xpath) instead\n",
      "  search_box=driver.find_element_by_xpath('//input[@placeholder = \"Search\"]')\n",
      "C:\\Users\\abhis\\AppData\\Local\\Temp/ipykernel_10008/2560847043.py:9: DeprecationWarning: find_elements_by_xpath is deprecated. Please use find_elements(by=By.XPATH, value=xpath) instead\n",
      "  for i in driver.find_elements_by_xpath('//div[@class= \"_aacl _aaco _aacw _aacx _aad6\"]'):\n",
      "C:\\Users\\abhis\\AppData\\Local\\Temp/ipykernel_10008/2560847043.py:15: DeprecationWarning: find_element_by_xpath is deprecated. Please use find_element(by=By.XPATH, value=xpath) instead\n",
      "  close = driver.find_element_by_xpath('//div/div[1]/div/div[1]/div/div/div[1]/div[1]/section/nav/div[2]/div/div/div[2]/div[2]')\n",
      "C:\\Users\\abhis\\AppData\\Local\\Temp/ipykernel_10008/2560847043.py:31: DeprecationWarning: find_element_by_xpath is deprecated. Please use find_element(by=By.XPATH, value=xpath) instead\n",
      "  followers = driver.find_element_by_xpath('//div/div[1]/div/div[1]/div/div/div[1]/div[1]/section/main/div/header/section/ul/li[2]/a/div/span')\n"
     ]
    },
    {
     "name": "stdout",
     "output_type": "stream",
     "text": [
      "yourfoodlab 1986500\n",
      "foodie_incarnate 1357453\n",
      "food 180892\n",
      "foodzpah 132472\n",
      "foodranchi 121676\n"
     ]
    }
   ],
   "source": [
    "#search food\n",
    "search_box=driver.find_element_by_xpath('//input[@placeholder = \"Search\"]')\n",
    "search_box.send_keys('food')\n",
    "waiter=WebDriverWait(driver, 10).until(EC.presence_of_element_located((By.XPATH, '//div[@class= \"_aacl _aaco _aacw _aacx _aad6\"]')))\n",
    "\n",
    "#append 10 foodhandles in the list\n",
    "foodhandles = []\n",
    "count=0\n",
    "for i in driver.find_elements_by_xpath('//div[@class= \"_aacl _aaco _aacw _aacx _aad6\"]'):\n",
    "    if count==10:\n",
    "        break\n",
    "    foodhandles.append(i.text)\n",
    "    count+=1\n",
    "        \n",
    "close = driver.find_element_by_xpath('//div/div[1]/div/div[1]/div/div/div[1]/div[1]/section/nav/div[2]/div/div/div[2]/div[2]')\n",
    "close.click()\n",
    "sleep(2)\n",
    "\n",
    "# append the followers in dictionary\n",
    "dic={}\n",
    "base_url = 'https://www.instagram.com/'\n",
    "\n",
    "\n",
    "for i in range(len(foodhandles)):\n",
    "    # we will use this method for every foodhandle\n",
    "    curr_url = base_url + foodhandles[i]\n",
    "    driver.get(curr_url)\n",
    "    sleep(5)\n",
    "    \n",
    "    #find number of followers & add them in dictionary\n",
    "    followers = driver.find_element_by_xpath('//div/div[1]/div/div[1]/div/div/div[1]/div[1]/section/main/div/header/section/ul/li[2]/a/div/span')\n",
    "    f = followers.get_attribute('title')\n",
    "    fn = int(\"\".join(f.split(',')))\n",
    "    dic[foodhandles[i]] = fn\n",
    "    \n",
    "    \n",
    "#sort dictionary in reverse order   \n",
    "sorted_dic = dict(sorted(dic.items(), key=lambda x:x[1], reverse=True))\n",
    "count=0\n",
    "#print top 5 foodhandles along with their followers\n",
    "for i in sorted_dic:\n",
    "    if count==5:\n",
    "        break\n",
    "    print(i, sorted_dic[i]) \n",
    "    count+=1\n"
   ]
  },
  {
   "cell_type": "markdown",
   "id": "0c0f4fdd",
   "metadata": {},
   "source": [
    "### [1.2] Now Find the number of posts out of these handles have done in the previous 3 days"
   ]
  },
  {
   "cell_type": "code",
   "execution_count": 9,
   "id": "20a04c5d",
   "metadata": {},
   "outputs": [
    {
     "name": "stderr",
     "output_type": "stream",
     "text": [
      "C:\\Users\\abhis\\AppData\\Local\\Temp/ipykernel_10008/2518801656.py:27: DeprecationWarning: find_elements_by_xpath is deprecated. Please use find_elements(by=By.XPATH, value=xpath) instead\n",
      "  posts = driver.find_elements_by_xpath('//div[@class = \"_aabd _aa8k _aanf\"]')\n",
      "C:\\Users\\abhis\\AppData\\Local\\Temp/ipykernel_10008/2518801656.py:34: DeprecationWarning: find_element_by_xpath is deprecated. Please use find_element(by=By.XPATH, value=xpath) instead\n",
      "  post_date =  driver.find_element_by_xpath('//div/div[1]/div/div[2]/div/div/div[1]/div/div[3]/div/div/div/div/div[2]/div/article/div/div[2]/div/div/div[2]/div[2]/div/div/a/div/time')\n"
     ]
    },
    {
     "name": "stdout",
     "output_type": "stream",
     "text": [
      "{'yourfoodlab': 2, 'foodie_incarnate': 1, 'food': 1, 'foodzpah': 0, 'foodranchi': 0}\n"
     ]
    }
   ],
   "source": [
    "#create dictionary for post past three days\n",
    "post_three_days = {}   \n",
    "count = 0\n",
    "#create list for top5 food handles\n",
    "foodhandles_top5 = []     \n",
    "\n",
    "#adding top5 food handles in list\n",
    "for i in sorted_dic:\n",
    "    if count==5:\n",
    "        break\n",
    "    foodhandles_top5.append(i)\n",
    "    count+=1\n",
    "    \n",
    "\n",
    "base_url = 'https://www.instagram.com/'\n",
    "\n",
    "for i in range(len(foodhandles_top5)):\n",
    "    \n",
    "    no_of_posts = 0\n",
    "    \n",
    "    #for per food handle page\n",
    "    curr_url = base_url + foodhandles_top5[i]\n",
    "    driver.get(curr_url)\n",
    "    sleep(3)\n",
    "    \n",
    "    #for all posts in that food handle\n",
    "    posts = driver.find_elements_by_xpath('//div[@class = \"_aabd _aa8k _aanf\"]')\n",
    "    for j in posts:\n",
    "        sleep(3)\n",
    "        j.click()\n",
    "        sleep(3)\n",
    "        \n",
    "        #find date\n",
    "        post_date =  driver.find_element_by_xpath('//div/div[1]/div/div[2]/div/div/div[1]/div/div[3]/div/div/div/div/div[2]/div/article/div/div[2]/div/div/div[2]/div[2]/div/div/a/div/time')\n",
    "        date = post_date.get_attribute('title').split(' ')[1].split(',')[0]\n",
    "        date_int = int(date)\n",
    "        \n",
    "        #check if date is before three days\n",
    "        if date_int<16:\n",
    "            break\n",
    "        else:\n",
    "            no_of_posts+=1 \n",
    "            \n",
    "        driver.back()\n",
    "        sleep(3)\n",
    "        driver.execute_script('window.scrollBy(0,100);')\n",
    "        sleep(2)\n",
    "    \n",
    "    post_three_days[foodhandles_top5[i]] = no_of_posts\n",
    "    \n",
    "\n",
    "print(post_three_days)        "
   ]
  },
  {
   "cell_type": "markdown",
   "id": "004a71e6",
   "metadata": {},
   "source": [
    "### [1.3] Depict this information using a suitable graph."
   ]
  },
  {
   "cell_type": "code",
   "execution_count": 10,
   "id": "2ad18edc",
   "metadata": {},
   "outputs": [
    {
     "data": {
      "image/png": "[encoded data removed]",
      "text/plain": [
       "<Figure size 432x288 with 1 Axes>"
      ]
     },
     "metadata": {
      "needs_background": "light"
     },
     "output_type": "display_data"
    }
   ],
   "source": [
    "foodhandles_followers = []\n",
    "foodhandles=[]\n",
    "count=0\n",
    "for i in sorted_dic:\n",
    "    if count==5:\n",
    "        break\n",
    "    foodhandles_followers.append(sorted_dic[i])\n",
    "    foodhandles.append(i)\n",
    "    count+=1\n",
    "\n",
    "plt.bar(foodhandles, foodhandles_followers, color='green')\n",
    "plt.xlabel('Fodhandles', fontsize=14)\n",
    "plt.ylabel('Number of Followers in 10^6', fontsize=14)\n",
    "plt.xticks(rotation = 40, fontsize =12)\n",
    "plt.title('Top 5 Foodhandles',fontsize = 18, color='Red')\n",
    "plt.show()"
   ]
  },
  {
   "cell_type": "markdown",
   "id": "5e7aedd4",
   "metadata": {},
   "source": [
    "## Problem 2 : Requirement of Hashtags For His Posts"
   ]
  },
  {
   "cell_type": "raw",
   "id": "5e44bc31",
   "metadata": {},
   "source": [
    "A list of hashtags to use in posts."
   ]
  },
  {
   "cell_type": "markdown",
   "id": "f298e6fc",
   "metadata": {},
   "source": [
    "### [2.1] Open the 5 handles that I obtained in the last question, and scrape the content of the first 10 posts of each handle."
   ]
  },
  {
   "cell_type": "code",
   "execution_count": 36,
   "id": "8ecc657f",
   "metadata": {},
   "outputs": [
    {
     "name": "stdout",
     "output_type": "stream",
     "text": [
      "yourfoodlab\n"
     ]
    },
    {
     "name": "stderr",
     "output_type": "stream",
     "text": [
      "C:\\Users\\abhis\\AppData\\Local\\Temp/ipykernel_10008/1871411683.py:19: DeprecationWarning: find_elements_by_xpath is deprecated. Please use find_elements(by=By.XPATH, value=xpath) instead\n",
      "  posts = driver.find_elements_by_xpath('//div[@class = \"_aabd _aa8k _aanf\"]')\n"
     ]
    },
    {
     "name": "stdout",
     "output_type": "stream",
     "text": [
      "Post -  1\n"
     ]
    },
    {
     "name": "stderr",
     "output_type": "stream",
     "text": [
      "C:\\Users\\abhis\\AppData\\Local\\Temp/ipykernel_10008/1871411683.py:30: DeprecationWarning: find_element_by_xpath is deprecated. Please use find_element(by=By.XPATH, value=xpath) instead\n",
      "  post_details = driver.find_element_by_xpath('//div/div[1]/div/div[2]/div/div/div[1]/div/div[3]/div/div/div/div/div[2]/div/article/div/div[2]/div/div/div[2]/div[1]/ul/div/li/div/div/div[2]/div[1]/span')\n"
     ]
    },
    {
     "name": "stdout",
     "output_type": "stream",
     "text": [
      "['I', 'am', 'at', '@Your', 'Food', 'Lab', 'kitchen', 'with', 'Sanjyot', 'Keer.', \"He's\", 'cooking', 'up', 'a', 'riot', 'for', 'me', 'and', 'what', 'I', 'am', 'most', 'excited', 'about', 'is', 'tasting', 'his', 'special', 'Kala', 'Mutton.', 'I', 'have', 'seen', 'him', 'cook', 'this', 'Black', 'mutton', 'on', 'his', 'channel,', 'and', 'I', \"couldn't\", 'keep', 'my', 'excitement', 'at', 'bay!\\n\\n#kalamutton', '#sanjotkheer', '#khaanemeinkyahai', '#kunalvijayakar', '#nonveg', '#muttonrecipes', '#recipes', '#reelsfood', '#reels']\n",
      "Post -  2\n",
      "['Are', 'you', 'craving', 'for', 'this', 'tempting', 'Chicken', 'Dum', 'Biryani', '🥰', 'My', 'dinner', 'scene', 'is', 'all', 'set', 'and', 'what', 'about', 'yours?\\nFull', 'video', 'is', 'now', 'up', 'on', 'our', 'YouTube', 'Channel!', 'Cheers', '🥂\\n.\\n.\\n.\\n.\\n#recipe', '#foodie', '#indiancuisine', '#streetfood', '#biryani', '#egglover', '#eggrecipes', '#eggetarian', '#sanjyotkeer', '#foodporn', '#sanjyotkeer']\n",
      "Post -  3\n",
      "['Chalo', 'aaj', 'kuch', 'chatpata', 'hojaye!!', '😉', 'With', 'each', 'bite', 'of', 'Tokri', 'Chaat', 'there’s', 'is', 'a', 'burst', 'of', 'all', 'kind', 'of', 'flavours', '💯\\nFull', 'video', 'is', 'now', 'out', 'on', 'our', 'YouTube', 'channel!', 'Cheers', '🥂\\n.\\n.\\n.\\n#recipe', '#foodporn', '#indiancuisine', '#streetfood', '#yourfoodlab', '#indianfood']\n",
      "Post -  4\n",
      "['Mango', 'season', 'feels', 'incomplete', 'without', 'this', 'sweet', 'dessert!!', '🥭💯\\nAre', 'you', 'a', 'sweet', 'lover?\\n\\nMango', 'phirni', 'reels', 'text\\n\\nCut', 'the', 'RIPE', 'MANGOES', '2-3', 'NOS.', 'To', 'scoop', 'out', 'the', 'flesh\\n\\nTransfer', 'in', 'a', 'grinding', 'jar', 'to', 'make', 'fine', 'puree\\n\\nWash', 'BASMATI', 'RICE', '100', 'GM', 'thoroughly', '&', 'soak', 'for', '45', 'minutes\\n\\nStrain', '&', 'air', 'dry\\nFurther', 'transfer', 'in', 'a', 'grinding', 'jar', '&', 'grind', 'to', 'make', 'semi', 'coarse', 'powder\\n\\nAdd', '200', 'ML', 'MILK', 'mix', 'well', 'to', 'avoid', 'any', 'lumps\\n\\nHeat', '800ML', 'FULL', 'FAT', 'MILK\\n\\nBring', 'it', 'to', 'a', 'simmer', '&', 'now', 'add', 'the', 'milk', 'and', 'rice', 'mixture\\n\\nStir', 'continuously\\n\\nCook', 'for', '10', 'minutes', 'on', 'medium', 'flame', 'while', 'stirring', 'in', 'short', 'intervals\\n\\nAs', 'it', 'thickens,', 'lower', 'the', 'flame', '&', 'stir', 'continuously\\n\\nNow', 'add', 'the', 'mango', 'puree\\nSlivered', 'Nuts', '(ALMONDS', '1', 'TBSP,', 'CASHEW', 'NUTS', '1', 'TBSP,', 'PISTACHIOS', '1', 'TBSP)\\n\\nStir', 'well\\n\\nAdd', '100', 'GM', 'SUGAR\\nA', 'PINCH', 'OF', 'ELAICHI', 'POWDER\\n\\nStir', 'well', 'and', 'cook', 'for', '5-7', 'minutes\\n\\nAdd', 'a', 'pinch', 'of', 'salt', '&', 'stir', 'well\\n\\nAs', 'you', 'can', 'it', 'has', 'thickened\\n\\nSet', 'the', 'phirni', 'in', 'earthen', 'bowl\\nCover', 'with', 'a', 'cling', '&', 'set', 'in', 'the', 'fridge', 'overnight', 'or', '3-4', 'hours\\n\\nGarnish', 'with', 'some', 'mango', 'slices', 'and', 'serve', 'cold\\n\\n.\\n.\\n.\\n#mango', '#mangoseason', '#mangophirni', '#indiancuisine', '#sanjyotkeer', '#foodporn', '#indianfood', '#yourfoodlab']\n",
      "Post -  5\n",
      "['Enjoy', 'the', 'goodness', 'of', '🥭', 'with', 'this', 'Mango', 'Jam', '💯', '&', 'make', 'the', 'most', 'out', 'of', 'the', 'last', 'mangoes', 'of', 'this', 'season', '🥰\\n\\n*Mango', 'jam*\\n\\nTake', 'about', '6-7', 'NO.', 'of', 'ALPHONSO', 'MANGO\\n\\nnow', 'cut', 'a', 'large', 'slice', 'from', 'the', 'side', 'of', 'the', 'seed\\n\\nThen', 'make', 'vertical', 'cuts', 'over', 'the', 'mango', 'using', 'a', 'knife,', 'followed', 'by', 'horizontal', 'cuts', 'to', 'create', 'a', 'square', 'pattern\\n\\nNow', 'using', 'a', 'spoon,', 'scoop', 'out', 'the', 'mango', 'cubes', 'and', 'place', 'them', 'into', 'a', 'bowl\\n\\nSqueez', 'out', 'all', 'the', 'remaining', 'mango', 'pulp', 'around', 'the', 'seeds', 'and', 'add', 'it', 'into', 'the', 'same', 'bowl', 'as', 'the', 'mango', 'cubes\\n\\nAdd', 'the', 'chopped', 'mangoes', 'into', 'a', 'kadhai', 'or', 'a', 'pan', 'followed', 'by\\n\\nSUGAR', '250', 'GRAMS\\nSALT', 'A', 'PINCH\\nLEMON', 'JUICE', '1', 'TBSP\\n\\nThen', 'switch', 'on', 'the', 'flame', 'and', 'start', 'cooking', 'the', 'mangoes', 'over', 'medium', 'heat', 'while', 'stirring', 'at', 'regular', \"intervals\\n\\nYou'll\", 'need', 'to', 'cook', 'it', 'for', 'about', '30-40', 'minutes\\n\\nThe', 'mango', 'pieces', 'will', 'slowly', 'start', 'breaking', 'down', 'and', 'give', 'the', 'jam', 'a', 'really', 'good', 'texture\\n\\nThe', 'jam', 'will', 'start', 'spluttering', 'once', 'the', 'sugar', 'added', 'into', 'it', 'starts', 'boiling\\n\\nHold', 'the', 'kid', 'over', 'the', 'pan', 'like', 'this', 'to', 'be', 'safe', 'while', 'stirring', 'it\\n\\nOnce', 'you', 'have', 'cooked', 'the', 'jam', 'for', '30-40', 'minutes', \"it's\", 'consistency', 'will', 'look', 'something', 'like', 'this,', 'it', 'will', 'be', 'a', 'little', 'runny', 'but', 'it', 'will', 'thicken', 'up', 'nicely', 'once', 'it', 'cools', 'down\\n\\nTo', 'check', 'if', 'your', 'jam', 'is', 'ready,', 'take', 'out', 'a', 'small', 'bit', 'of', 'it', 'out', 'onto', 'a', 'plate', 'and', 'let', 'it', 'cool', 'for', '30', 'seconds\\n\\nNow', 'tilt', 'the', 'plate', 'like', 'this,', 'if', 'the', 'jam', \"doesn't\", 'start', 'dripping,', \"it's\", 'ready\\n\\nSterelize', 'the', 'glass', 'jar', 'and', 'lid', 'in', 'which', \"you'll\", 'be', 'storing', 'your', 'jam', 'in', 'by', 'immersing', 'them', 'into', 'boiling', 'water', 'for', '1-2', 'minutes\\n\\nAlso', 'add', 'the', 'spoon', '&', 'the', 'tongs\\n\\nSet', 'the', 'jar', 'aside', 'and', 'let', 'it', 'cool', 'down\\n\\nThen', 'add', 'the', 'jam', 'into', 'the', 'jar', 'while', \"it's\", 'still', 'hot\\n\\nCover', 'the', 'jar', 'with', 'the', 'lid', 'only', 'after', 'the', 'jam', 'has', 'cooled', 'down,', 'you', 'can', 'store', 'in', 'the', 'fridge', 'and', 'it', 'lasts', 'for', 'over', '6', 'months.\\n\\n.\\n.\\n.\\n#recipe', '#foodie', '#mango', '#mangojam', '#mangoes', '#sanjyotkeer', '#foodporn', '#indianfood', '#homemade']\n",
      "Post -  6\n",
      "['The', 'Cheesier,', 'the', 'better', '🧀🍞\\nWhich', 'dish', 'do', 'you', 'enjoy', 'having', 'along', 'Garlic', 'Bread?\\nFull', 'video', 'is', 'now', 'out', 'on', 'our', 'YouTube', 'channel!', 'Cheers', '🥂\\n\\n#garlicbread', '#instagram', '#sanjyotkeer', '#yourfoodlab', '#foodporn']\n",
      "Post -  7\n",
      "['This', 'is', 'your', 'weekly', 'reminder', 'to', 'go', 'and', 'watch', 'all', 'our', 'previous', 'videos!!', '☺️\\nAlso', \"don't\", 'forget', 'to', 'try', 'and', 'share', 'our', 'recipes', '🤝', 'Cheers', '🥂\\n.\\n.\\n.\\n.\\n\\n1.', 'Mutton', 'Curry\\n2.', 'Rasgulla\\n3.', 'Tawa', 'Paneer\\n4.', 'Stuffed', 'Mango', 'Kulfi\\n.\\n.\\n#recipe', '#foodporn', '#streetfood', '#rewind', '#foodism', '#yourfoodlab', '#sanjyotkeer', '#homemade']\n",
      "Post -  8\n",
      "['Rains', 'are', 'finally', 'here', 'and', 'monsoon', 'cravings', 'have', 'begun!!', '🌧🤤']\n",
      "Post -  9\n",
      "['Sanjyot', 'Keer', 'Style', 'Sunday', 'Mutton', 'Curry', 'itt', 'iss', '🔥🔥\\nTag', 'your', 'friends', 'with', 'whom', 'you', 'would', 'love', 'to', 'have', 'this', 'Mutton', 'Curry', '💯\\nFull', 'video', 'is', 'now', 'out', 'on', 'our', 'YouTube', 'channel!', 'Cheers', '🥂\\n.\\n.\\n.\\n.\\n#muttoncurry', '#weekendvibes', '#muttonlover', '#muttonrecipes', '#sanjyotkeer', '#homemade', '#foodporn', '#foodie', '#indianfood', '#foodblogger']\n",
      "Post -  10\n",
      "['Prepare', 'this', 'stuffed', 'Mango', 'Kulfi', 'recipe', 'to', 'savour', 'mangoes', 'in', 'this', 'refreshing', 'way', 'this', 'season', '❤️🥭\\n\\nThis', 'is', 'one', 'of', 'my', 'favorite', 'Indian', 'summer', 'refreshing', 'desserts', '&', 'you', 'should', 'prepare', 'this', 'before', 'the', 'mango', 'season', 'ends!', '#IndiaILove', '#indiaat75\\n\\n*Mango', 'Kulfi*\\n\\nCut', 'ripe', 'mangoes', '&', 'scoop', 'out', 'the', 'flesh\\nAdd', 'in', 'the', 'jar', 'and', 'grind', 'to', 'make', 'fine', 'puree\\n\\nHeat', '2', 'LITRES', 'WHOLE', 'FAT', 'MILK\\nOnce', 'comes', 'to', 'simmer', 'add', '500', 'GM', 'of', 'KHOYA\\nELAICHI', '2-3', 'PODS', '(CRUSHED)\\n\\nStir', '&', 'cook', 'until', 'the', 'khoya', 'melts', 'and', 'to', 'avoid', 'it', 'from', 'sticking', 'from', 'the', 'bottom\\n\\nAdd', '100', 'GM', 'of', 'SUGAR\\n\\nStir', '&', 'cook', 'until', \"it's\", 'reduced', 'to', '1/3', 'rd', 'and', 'becomes', 'thick', '&', 'pouring', 'consistency\\n\\nRemove', 'half', '&', 'Allow', 'it', 'to', 'cool', 'down\\n\\nAdd', 'the', 'prepared', 'mango', 'puree', 'to', 'remaining', 'half', 'of', 'the', 'rabari\\n\\nStir', '&', 'cook', 'for', '5', 'minutes\\n\\nAllow', 'it', 'to', 'cool', 'down', 'to', 'room', 'temperature\\n\\nTo', 'set', 'the', 'kulfi:\\nTrim', 'of', 'the', 'head', 'of', 'the', 'mango\\n\\nRemove', 'the', 'seed', 'keeping', 'the', 'Mango', 'flesh', 'intact\\n\\nFill', 'the', 'mango', 'cavity', 'with', 'the', 'rabri', 'of', 'your', 'choice\\nClose', 'it', 'keeping', 'the', 'trimmed', 'head', 'and', 'freeze', 'it', 'until', 'the', 'kulfi', 'is', 'set', 'firmly\\n\\nOnce', 'set,', 'use', 'a', 'peeler', 'and', 'peel', 'the', 'skin', 'of', 'the', 'mangoes\\n\\nUse', 'a', 'sharp', 'knife', 'and', 'cut', 'them', 'into', 'slices']\n",
      "foodie_incarnate\n",
      "Post -  1\n",
      "[\"India's\", 'Biggest', 'Ice', 'Gola😱😱\\n.\\nWatch', 'the', 'full', 'video', 'on', 'my', 'YouTube', 'channel.', 'Link', 'is', 'in', 'my', 'bio🤗🤗\\n.\\n#foodieincarnate', '#Reelitfeelit', '#reelkarofeelkaro', '#reelsinstagram', '#reels', '#icegola', '#icecream', '#streetfood', '#viralfood', '#explore']\n",
      "Post -  2\n",
      "['EXTREME', 'Punch', 'Shake', 'of', 'Firozabad😱😱', 'पीने', 'वाले', 'को', '500Rs/-', 'का', 'ईनाम😳😳\\n.\\nKindly', 'watch', 'the', 'full', 'video', 'for', 'location,', 'price', 'and', 'other', 'details🤗🤗\\n.\\n#foodieincarnate', '#sodelhi', '#newdelhi', '#foodtalkindia', '#delhigram', '#indianfood', '#delhifoodblogger', '#foodgasm', '#foodporn', '#foodpornshare', '#foodlover', '#foodgram', '#foodiesofinstagram', '#foodie', '#indianstreetfood', '#streetfood', '#delhistreetfood', '#streetfoodindia', '#mumbaistreetfood', '#delhifoodie', '#foodblogger', '#indianfoodie', '#desikhana', '#indianfoodblogger', '#indianfoodbloggers', '#delhifood', '#mumbai', '#delhi', '#firozabad', '#milkshake']\n",
      "Post -  3\n",
      "['These', 'Parathas', 'has', 'shelf', 'life', 'of', '2', 'years😳😳', 'Frozen', 'Paratha', 'Making😋😋\\n.\\nWatch', 'the', 'full', 'video', 'on', 'my', 'YouTube', 'channel.', 'Link', 'is', 'in', 'my', 'bio🤗🤗\\n.\\n#foodieincarnate', '#Reelitfeelit', '#reelkarofeelkaro', '#reelsinstagram', '#reels', '#paratha', '#indianfood', '#viralfood', '#explore', '#foodfactory']\n",
      "Post -  4\n",
      "['Crossed', '3', 'Million', 'subscribers', 'on', 'YouTube.🤩🤩\\nIt', \"wouldn't\", 'have', 'been', 'possible', 'without', 'the', 'love', '&', 'support', 'of', 'you', 'guys.', 'Thank', 'you', 'every', 'single', 'one', 'of', 'you❤️🤗\\n.\\n#foodieincarnate', '#amarsirohi']\n",
      "Post -  5\n",
      "['Thick', '&', 'Creamy', 'Red', 'Velvet', 'Shake', 'from', '@shakesjunctionsaket', '🤩🤩\\n.\\nMust', 'visit', 'this', 'place', 'for', 'good', 'quality', 'thick', 'shakes', 'in', 'pocket', 'friendly', 'prices.', 'Address:', 'Shakes', 'Junction,', 'PVR', 'Anupam,', 'Saket\\n.\\n#foodieincarnate', '#Reelitfeelit', '#reelkarofeelkaro', '#reelsinstagram', '#reels', '#redvelvet', '#milkshake', '#newdelhi', '#trending', '#explore', '#milkshakes']\n",
      "Post -  6\n",
      "['Now', 'enjoy', 'the', 'best', 'of', 'delightful', 'Indian', 'food', 'in', 'just', '3', 'simple', 'steps', '-', 'Open,', 'Heat', '&', 'Eat.\\nQuikShef', 'offers', 'ready-to-eat', 'meals', 'that', 'taste', 'like', 'they', 'were', 'prepared', 'at', 'home.\\n\\nBe', 'part', 'of', \"India's\", 'fastest-growing', 'food', 'business.\\nFor', 'Quikshef', 'Franchise', 'Enquiry\\n📞', '18002032411\\nKnow', 'more:', 'www.quikshef.com\\n.\\n@quikshef\\n#Foodieincarnate', '#QuikShef', '#QuikFood\\n#Franchise', '#FranchiseOpportunities\\n#Instantfood', '#EasyToCookMeals', '#InstantMeals', '#EasyMeals', '#ReadyToEat\\n#Jainfood', '#FastFood', '#DeliciousBites\\n#AuthenticTaste', '#MadeinIndia']\n",
      "Post -  7\n",
      "['20', 'Lakh', 'Rs/-', 'Kg', 'Gulabjal', 'Making', 'in', 'Uttar', 'Pradesh😱😱\\n.\\nWatch', 'the', 'full', 'video', 'on', 'my', 'YouTube', 'channel.', 'Link', 'is', 'in', 'my', 'bio🤗🤗\\n.\\n#foodieincarnate', '#reelitfeelit', '#reelkarofeelkaro', '#reelsinstagram', '#reels', '#gulabjal', '#rosewater', '#indianfood', '#streetfood', '#tasteofUP', '#swadUPka', '#cuisineofuttarpradesh']\n",
      "Post -  8\n",
      "['Have', 'you', 'ever', 'seen', 'Yellow', 'Watermelon??😳😳\\n.\\nKindly', 'watch', 'the', 'full', 'video', 'for', 'location,', 'price', 'and', 'other', 'details🤗🤗\\n.\\n#foodieincarnate', '#sodelhi', '#newdelhi', '#foodtalkindia', '#delhigram', '#indianfood', '#delhifoodblogger', '#foodgasm', '#foodporn', '#foodpornshare', '#foodlover', '#foodgram', '#foodiesofinstagram', '#foodie', '#indianstreetfood', '#streetfood', '#delhistreetfood', '#streetfoodindia', '#mumbaistreetfood', '#delhifoodie', '#foodblogger', '#indianfoodie', '#desikhana', '#indianfoodblogger', '#indianfoodbloggers', '#delhifood', '#mumbai', '#delhi', '#golgappa', '#panipuri']\n",
      "Post -  9\n",
      "['Tag', 'someone', 'who', 'can', 'finish', 'this', \"INDIA'S\", 'BIGGEST', 'PARATHA😱😱\\n.\\nWatch', 'the', 'full', 'video', 'on', 'my', 'Fb', 'page🤗🤗\\n.\\n#foodieincarnate', '#Reelitfeelit', '#reelkarofeelkaro', '#reelsinstagram', '#reels', '#streetfood', '#paratha', '#indianfood', '#viralfood', '#trending']\n",
      "Post -  10\n",
      "['If', 'you', 'are', 'searching', 'for', 'the', 'best', 'place', 'to', 'stay', 'in', 'Haridwar,', 'look', 'no', 'further', 'than', '@pilibhithouseharidwar\\n\\nSitting', 'charmingly', 'by', 'the', 'Ganges', 'overlooking', 'the', 'glorious', 'Shivalik', 'Himalayas,', 'it', 'is', 'a', 'century', 'old', 'aristocratic', 'noble', 'house,', 'which', 'has', 'been', 'meticulously', 'restored', 'to', 'provide', 'you', 'the', 'best', 'experiences', 'of', 'Haridwar.', 'Housing', 'the', 'largest', 'private', 'bathing', 'ghat', 'of', 'the', 'region,', 'it', 'also', 'offers', 'mersmerising', 'view', 'of', 'the', 'Ganges', 'from', 'artfully', 'designed', 'rooms', 'and', 'suites', 'across', '3', 'levels.', 'Highly', 'recommended', 'place.👍🏻👍🏻\\n.\\n#Foodieincarnate', '#PilibhitHouseRituals', '#UntoldHaridwar', '#SoulStirringHaridwar', '#staycation', '#haridwar', '#amarsirohi', '#foodblogger', '#hotelblogger']\n",
      "food\n",
      "Post -  1\n",
      "['The', 'ultimate', 'Dad', 'joke', 'or', 'the', 'ultimate', 'dad', 'dessert?', '@goldbelly', 'is', 'now', 'shipping', 'the', 'legendary', '“Polo', 'Cake”', 'from', 'renowned', 'Ft.', 'Lauderdale,', 'FL', 'bakery', '@wetakethecake', '.', 'What', 'do', 'you', 'think?', 'Does', 'this', 'dessert', 'take', 'the', 'cake?', '😜', '#dadjoke', '#fathersday', '#cakes', '#baking\\n🎥', 'Credit:', '@paradigmdigitalgroup', '@wetakethecake']\n",
      "Post -  2\n",
      "['@thecocacolaco', 'and', '@brownforman', 'finally', '“make', 'it', 'official”', 'by', 'creating', 'a', 'canned', 'cocktail', 'out', 'of', 'the', 'classic', '“Jack', '&', 'Coke”', 'cocktail', 'with', '5%', 'alcohol', 'per', 'can.', 'Tag', 'a', 'friend', 'you’d', 'share', 'a', 'Jack', '&', 'Coke', 'with👇', '#foodnews', '#cocacola', '#whiskey']\n",
      "Post -  3\n",
      "['@milkbarstore', 'has', 'released', 'their', 'latest', 'creation,', '“The', 'Waffle', 'Cone', 'Pie.”', 'Inspired', 'by', 'the', 'classic', '@drumstick', 'cone,', 'The', 'Waffle', 'Cone', 'Pie', 'features', 'a', 'crispy,', 'waffle', 'cone', 'crust', 'with', 'a', 'layer', 'of', 'brownie,', 'ice-cream', 'flavored', 'pudding,', 'peanut', 'chocolate', 'magic', 'shell', 'and', 'peanut', 'clusters.', 'Get', 'yours', 'at', 'milkbarstore.com', '🥧🍦', '#foodnews', '#pies', '#icecream', '#dessert', '#baking']\n",
      "Post -  4\n",
      "['Take', 'a', 'trip', 'north', 'of', 'NYC', 'to', 'Westchester', 'to', 'find', 'some', 'serious', 'eats!\\n\\n@hayfieldsmarket\\n\\nHint:', 'Stop', 'here', 'Sunday', 'morning', 'to', 'see', 'some', 'exotic', 'cars', '🏎', 'while', 'sipping', 'coffee', 'in', 'horse', 'country\\n\\n@_southerntable_\\n\\nWinner', 'of', 'an', 'esteemed', 'Michelin', 'Award,', 'this', 'is', 'a', 'must', 'try', 'for', 'southern', 'cuisine…north', 'of', 'the', 'City.\\n\\nTip:', 'get', 'the', 'burger…same', 'one', 'that', 'WON', 'best', 'burger', 'at', '@westchestermagazine', 'Burger', '&', 'Beer', 'Blast', 'last', 'night!\\n\\n@woodandfirepizza\\n\\nWhat', 'can', 'we', 'say,', 'some', 'of', 'the', 'best', 'most', 'creative', 'pizza', '🍕', 'in', 'Westchester', 'and', 'right', 'down', 'the', 'street', 'from', 'Southern', 'Table.\\n\\n@bartacolife\\n\\nHang', 'out', 'waterfront', 'in', 'Port', 'Chester', 'w', 'an', 'off', 'the', 'charts', 'Margarita', 'and', 'equally', 'amazing', 'tacos\\n\\nBe', 'on', 'the', 'lookout', 'for', '#bartacosecret', 'menu', 'filled', 'with', 'off-menu', 'tacos.']\n",
      "Post -  5\n",
      "['The', 'viral', 'Dessert', 'Trash', 'Can', 'Nachos', 'from', '@guyfieri', ',', 'are', 'billed', 'as', '\"the', 'ultimate', 'sweet', 'spin', 'on', 'his', 'classic', 'trash', 'can', 'nachos”', 'are', 'available', 'via', '@goldbelly\\n\\nThe', '\"pile', 'of', 'sweet', '&', 'savory', 'goodness\"', 'is', 'built', 'from', 'crispy', 'cannoli', 'chips', 'which', 'are', 'then', 'stacked', 'with', 'mini', 'pretzels,', 'chocolate', 'toffee', 'pieces,', 'and', 'brownie', 'pieces', 'before', 'being', 'layered', 'with', 'whiskey', 'dark', 'chocolate', 'and', 'whiskey', 'salted', 'caramel.', '#foodnews', '#dessert', '#nachos', '#goldbelly', '#guyfieri', '#foodnewtwork']\n",
      "Post -  6\n",
      "['@timhortons', 'and', '@justinbieber', 'are', 'teaming', 'up', 'once', 'again', 'for', '“Biebs', 'Brew”', 'iced', 'coffee', 'after', 'co-creating', 'his', 'own', 'Timbits', 'doughnuts.', 'Tag', 'a', 'Belieber', 'who', 'needs', 'to', 'try', 'one', '👇', '#foodnews', '#foodcollabs', '#timhortons', '#justinbieber', '#icedcoffee', '#coldbrew']\n",
      "Post -  7\n",
      "['@eatsnacklins', 'has', 'quickly', 'become', 'our', 'latest', 'snack-obsession!', 'Snacklins,', 'the', '@sharktankabc', 'darling,', 'was', 'first', 'born', 'in', 'a', 'Washington', 'D.C', 'barbeque', 'joint', 'by', 'Chef', 'Samy', 'Kobrosly', 'who', 'became', 'obsessed', 'with', 'the', 'idea', 'of', 'a', 'meat-free', 'pork', 'rind', 'after', 'joking', 'with', 'a', 'friend', 'about', 'his', 'inability', 'to', 'eat', 'the', 'classic', 'snack', 'given', 'his', 'Muslim', 'upbringing.', 'Snacklins', 'are', 'made', 'with', 'simple', 'ingredients--yuca,', 'mushrooms,', 'and', 'onions--which', 'make', 'them', '100%', 'vegan', 'and', 'plant-based.', 'They', 'have', 'a', 'crunchy,', 'airy', 'texture', 'and', 'an', 'entire', 'snack', 'size', 'bag', 'is', 'just', '90', 'calories.', 'As', 'Samy', 'says,', 'you', 'can', '\"Eat', 'The', 'Whole', 'Bag!\"', 'They', 'come', 'in', 'a', 'variety', 'of', 'flavors', 'including', 'Barbeque,', 'Chesapeake', 'Bay,', 'Cinnamon', 'Churro,', 'Nacho,', 'Sea', 'Salt', '&', 'Vinegar,', 'and', 'Teriyaki.', 'Start', 'snacking', 'at', 'snacklins.com', '#foodfaves', '#snack', '#healthysnacks', '#vegan', '#plantbased']\n",
      "Post -  8\n",
      "['@davegrutman', 'of', '@groothospitality', 'and', '@badbunnypr', 'are', 'opening', 'a', 'brand', 'new', 'Japanese', 'steakhouse', 'and', 'sushi', 'concept', 'called', 'Gekkō', 'in', 'Miami’s', 'Brickell', 'neighborhood.', 'Bad', 'Bunny', 'is', 'a', 'self-proclaimed', 'sushi', 'fanatic', 'and', 'had', 'been', 'long', 'discussing', 'a', 'project', 'with', 'Grutman.', 'The', 'interior', 'of', 'the', 'restaunt', 'was', 'done', 'by', '@rockwellgroup', '.', '“Gekkō”', 'is', 'the', 'Japanese', 'word', 'for', '“moonlight,”', 'befitting', 'a', 'city', 'beloved', 'for', 'its', 'nightlife.', 'Yet', 'it', 'also', 'stands', 'as', 'a', 'double', 'entendre', 'homage', 'to', 'Michael', 'Douglas’', 'Gordon', 'Gekko,', 'the', 'famed', 'Wall', 'Street', 'character.', 'Gekkō', 'is', 'slatted', 'to', 'open', 'in', 'July.', '#foodnews', '#foodscene', '#restaurants', '#maimi', '#southbeach', '#badbunny']\n",
      "Post -  9\n",
      "['@kfc', 'has', 'teamed', 'up', 'with', 'Kentucky-based', 'rapper', '@jackharlow', 'to', 'create', 'a', '“first', 'class”', 'meal', 'for', 'Kentucky', 'Fried', 'Chicken.', 'The', 'Jack', 'Harlow', 'Meal', 'hits', 'stores', 'nationwide', 'on', 'June', '6th', 'along', 'with', 'exclusive', 'merch', 'only', 'available', 'on', 'the', 'KFC', 'app.', '🎥', '@kfc\\n#foodnews', '#foodculture', '#kfc', '#jackharlow', '#fingerlickinggood']\n",
      "Post -  10\n",
      "['According', 'to', 'an', 'article', 'published', 'on', '@nytimes', 'and', 'a', 'recent', 'study', 'by', 'The', 'Annals', 'of', 'Internal', 'Medicine,', 'which', 'concluded', 'those', 'who', 'drank', '1.5', 'to', '3.5', 'cups', 'of', 'coffee', 'per', 'day,', 'even', 'with', 'a', 'teaspoon', 'of', 'sugar,', 'were', 'up', 'to', '30', 'percent', 'less', 'likely', 'to', 'die', 'during', 'the', 'study', 'period', 'than', 'those', 'who', 'didn’t', 'drink', 'coffee.', 'Those', 'who', 'drank', 'unsweetened', 'coffee', 'were', '16', 'to', '21', 'percent', 'less', 'likely', 'to', 'die', 'during', 'the', 'study', 'period,', 'with', 'those', 'drinking', 'about', 'three', 'cups', 'per', 'day', 'having', 'the', 'lowest', 'risk', 'of', 'death', 'when', 'compared', 'with', 'noncoffee', 'drinkers.\\n\\nOf', 'course', 'there', 'are', 'many', 'more', 'deterring', 'factors', 'but', 'this', 'is', 'big', 'news', 'for', 'coffee', 'lovers.', 'So', 'grab', 'a', 'cup', 'at', 'your', 'favorite', 'coffee', 'spot.\\n\\nHere', 'are', 'a', 'few', 'of', 'our', 'favorites:', '@happybonesnyc', '@seycoffee', '@stumptowncoffee', '@bluebottle', '@coffeeprojectny', '@lacolombecoffee', '@arabicausa', '@dutchbroscoffee']\n",
      "foodzpah\n",
      "Post -  1\n",
      "['BTS', 'themed', 'Cafe', 'serving', 'Korean', 'Foods', '&', 'Boba', 'Teas', 'at', '@boba.panda8', '!\\n\\n#foodzpah', '#feelitreelit', '#bts', '#koreanfood', '#bobatea', '#kolkata', '#feelkorboreelkorbo', '#corndog', '#bibimbap', '#korean', '#southkorea', '#boba', '#drinks']\n",
      "Post -  2\n",
      "['Dubai,', 'A', 'Land', 'Like', 'No', 'Other!', '🔥\\n\\n@dubai', '@burjkhalifa', '@palmjumeirahh', '@doubletree', '@nusr_et', '@cznburak', '@fourseasons', '@armanihoteldxb\\n\\n#FoodZpah', '#Dubai', '#Luxury', '#Travel', '#BurjKhalifa', '#Armani', '#Hilton', '#Burak', '#Nusret', '#feelitreelit', '#instafood', '#igers']\n",
      "Post -  3\n",
      "['Would', 'you', 'like', 'to', 'try', 'this', '‘Orgasm’', 'Thali?', '🤪\\n\\n#foodzpah', '#tribal', '#localfood', '#thali', '#bengal', '#kolkata', '#reelkorbofeelkorbo', '#food', '#reelsindia']\n",
      "Post -  4\n",
      "['Indian', 'Fine', 'Dine', 'Restaurant', 'in', 'Ho', 'Chi', 'Minh,', 'Vietnam\\n\\n#FoodZpah', '#hochiminh', '#vietnam', '#indianfood', '#finedine', '#nomnom', '#food', '#feelitreelit', '#feelkaroreelkaro', '#igtv', '#food', '#explore', '#travel']\n",
      "Post -  5\n",
      "['Breakfast', 'with', 'a', 'View!', '😍\\n\\n#FoodZpah', '#kasol', '#himachal', '#breakfast', '#english', '#summer', '#juice', '#view', '#travel', '#feelitreelit', '#breakfast', '#feelkaroreelkaro', '#trending', '#viral', '#food', '#nomnom', '#feelkorboreelkorbo']\n",
      "Post -  6\n",
      "['Chicken', 'Bao', 'in', 'Streets', 'of', 'Hanoi,', 'Vietnam', '🇻🇳\\n\\n#foodzpah', '#vietnam', '#hanoi', '#chicken', '#bao', '#streetfood', '#asianfood', '#travel', '#explore', '#nomnom', '#food', '#feelitreelit']\n",
      "Post -  7\n",
      "['All', 'the', 'Vegetation', 'looks', 'on', 'while', 'I', 'enjoy', 'my', 'plate', 'of', 'Grilled', 'Fish', 'with', 'Lemon', 'Butter', 'Sauce', '😋\\n\\n#foodzpah', '#taj', '#fish', '#nomnom', '#igdaily']\n",
      "Post -  8\n",
      "['Shaadi', 'wali', 'Biryani!', '😍\\n\\n#FoodZpah', '#biryani', '#wedding', '#marriage', '#nonveg', '#meat', '#mutton', '#food', '#feelitreelit', '#feelkorboreelkorbo', '#reelsindia', '#feelkaroreelkaro', '#trending', '#biriyani', '#kolkata', '#india']\n",
      "Post -  9\n",
      "['Famous', 'Ice', 'Cream', 'Spot', 'in', 'Manali,', 'Himachal🍦🏔\\n\\n#foodzpah', '#icecream', '#dessert', '#hills', '#manali', '#himachal', '#travel', '#explore', '#summer', '#feelitreelit', '#feelkaroreelkaro', '#trending', '#shimla', '#food', '#nomnom', '#reelsindia', '#igers']\n",
      "Post -  10\n",
      "['Delhi’s', 'Famous', 'Aslam', 'Butter', 'Chicken', 'in', 'Jama', 'Masjid', 'Area\\n\\n#FoodZpah', '#igtv', '#delhi', '#aslam', '#butterchicken', '#butter', '#chicken', '#travel', '#explore', '#food', '#feelkaroreelkaro']\n",
      "foodranchi\n",
      "Post -  1\n",
      "['Glad', 'to', 'meet', 'upcoming', 'AK47', 'webseries', 'stars,', 'Ravi', 'Kishan', 'who', 'is', 'such', 'an', 'amazing', 'humble', 'actor,', 'Director', 'Shashi', 'verma', 'and', 'Jay', 'Soni.', 'Had', 'lunch', 'with', 'them,kaafi', 'batein', 'huyi,', 'chai', 'pe', 'charcha\\nAur', 'sabse', 'important', 'humare', 'ghar', 'me', 'shooting', 'huyi', 'role,', 'camera', 'action', '🎥📸📹🎞️', \"Can't\", 'wait', 'for', 'this', '10', 'episodes', 'thriller', 'action', 'series.😌😁']\n",
      "Post -  2\n",
      "['Thanks', 'a', 'lot', '@radisson_blu_hotel_ranchi', 'for', 'inviting', 'me', 'and', 'giving', 'me', 'the', 'opportunity', 'to', 'meet', 'celebrity', 'chef', '@chefrakeshsethi', 'It', 'was', 'my', 'pleasure', 'meeting', 'you', 'sir.\\nHad', 'mouth', 'watering', 'food(both', 'starter&', 'main', 'course)at', 'The', 'Kebab', 'Factory.\\nYou', 'can', 'swipe', '⏭️', 'for', \"today's\", 'menu', 'which', 'I', 'had.\\nWarm', 'welcome', 'with', 'wonderful', 'hospitality', 'from', 'the', 'staffs.', '!!\\n.\\n.\\n.\\nDisclaimer:', 'Mask', 'was', 'taken', 'out', 'for', 'picture', 'only,', 'we', 'were', 'wearing', 'our', 'masks', 'throughout', 'and', 'Radisson', 'blu', 'group', 'ensures', 'that.', 'Safety', 'is', 'first', 'priority', 'for', 'them.\\n.\\n.\\n.\\n#foodranchi', '#ranchi', '#ranchifoodblogger', '#foodtalkindia', '#food', '#foodfood', '#foodtalkmumbai', '#delhifoodblogger', '#indianfoodblogger', '#indianfoodies', '#foodindia', '#india', '#streetfoodindia', '#streetfood', '#foodiesofindia', '#igers', '#igfood', '#instagram', '#foodfood', '#food', '#buffet', '#kebab']\n",
      "Post -  3\n",
      "['Featured', 'in', '@latestinbollywood\\nThank', 'u', 'all', 'for', 'love', 'and', 'support.', '♥️\\nYours', '#foodranchi']\n",
      "Post -  4\n",
      "['Pattaya', 'to', 'Bangkok', ',', '150km', 'drive', '🚗\\nenjoy', 'the', 'rain', 'and', 'natural', 'beauty', 'also', 'hustling', 'traffic', 'of', 'Bangkok.\\n#bangkok', '#ride', '#drive', '#rain', '#siam', '#amari', '#amariwatergate\\n#pattaya', '#thai', '#thailand', '#road', '#roadreel', '#reeltoreel', '#reel']\n",
      "Post -  5\n",
      "['Terminal', '21', 'Mall', 'Pattaya,', 'In', 'love', 'with', 'this', 'beautiful', 'mall.♥️\\nPARIS,LONDON,ITALY,TOKYO,SAN', 'FRANCISCO', 'HOLLYWOOD', 'THEMED', 'ALL', 'IN', 'ONE', 'VENUE.\\n.\\n.\\n.\\n.\\n#pattaya', '#mall', '#foodranchi', '#reeltoreel', '#reels', '#thailand', '#wonderful', '#sway', '#paris', '#tokyo', '#london', '#italy', '#sf', '#hollywood', '#sanfrancisco']\n",
      "Post -  6\n",
      "['It', 'was', 'an', 'wonderful', 'experience', '@siambayshorepattaya', '.', 'thanks.\\nขอบใจ', 'kha', 'pun', 'khap.', '👏🏻♥️\\n#reels', '#thailand', '#resort', '#foodblogger', '#pattaya', '#love']\n",
      "Post -  7\n",
      "['Newly', 'Opened', '@greekaranchi\\nPremium', 'rooftop', 'bar', 'and', 'restaurant\\n📍Above', 'Reliance', 'Digital', 'Minu', 'height', '4th', '5th', 'floor', 'kanke', 'road', 'ranchi.']\n",
      "Post -  8\n",
      "['we', \"don't\", 'have', 'mcd', 'in', 'Ranchi', 'But', \"don't\", 'worry', 'just', 'try', 'maharaja', 'mac', 'of', 'Burger', 'point,', 'trust', 'me', \"it's\", 'simply', 'amazing.😋😘\\n@burgerpoint_ranchi\\nAlso', 'wrap', 'was', 'amazing.♥️\\n.\\n.\\n.\\n.\\n.\\n.\\n#burgers', '#burger', '#food', '#foodporn', '#foodie', '#burgerporn', '#instafood', '#fries', '#burgertime', '#cheeseburger', '#foodstagram', '#burgerlover', '#foodphotography', '#hamburger', '#yummy', '#foodlover', '#pizza', '#fastfood', '#delicious', '#burgerlove', '#burgerlovers', '#delivery', '#foodblogger', '#cheese', '#bbq', '#foodies', '#dinner', '#foodranchi', '#burgerlife', '#lunch']\n",
      "Post -  9\n",
      "[\"Delhi's\", 'iconic', 'GULAB', 'SWEETS', 'since', '1912,\\n100years+\\nserves', 'one', 'of', 'the', 'finest', 'sweets,\\nMUST', 'TRY', 'LASSI,GUJIYA,', 'KALAKAND.', '😍👍🏻\\n#delhi', '#sweets', '#foodranchi']\n",
      "Post -  10\n",
      "['Yaay', '🛺🥰\\n😁😜']\n"
     ]
    }
   ],
   "source": [
    "list_of_total_words = []\n",
    "foodhandles_top5 = []\n",
    "c=0\n",
    "for i in sorted_dic:\n",
    "    if c==5:\n",
    "        break\n",
    "    foodhandles_top5.append(i)\n",
    "    c+=1\n",
    "\n",
    "base_url = 'https://www.instagram.com/'\n",
    "for i in range(len(foodhandles_top5)):\n",
    "    #for per food handle page\n",
    "    print(foodhandles_top5[i])\n",
    "    curr_url = base_url + foodhandles_top5[i]\n",
    "    driver.get(curr_url)\n",
    "    sleep(5)\n",
    "    count=0\n",
    "    #for all 10 posts in each top 5 food handle\n",
    "    posts = driver.find_elements_by_xpath('//div[@class = \"_aabd _aa8k _aanf\"]')\n",
    "    for j in posts:\n",
    "        if count==10:\n",
    "            break\n",
    "        print('Post - ',count+1)\n",
    "        sleep(3)\n",
    "        j.click()\n",
    "        sleep(5)\n",
    "        \n",
    "        #find text of post & append all words in the list\n",
    "        list_of_words=[]\n",
    "        post_details = driver.find_element_by_xpath('//div/div[1]/div/div[2]/div/div/div[1]/div/div[3]/div/div/div/div/div[2]/div/article/div/div[2]/div/div/div[2]/div[1]/ul/div/li/div/div/div[2]/div[1]/span')\n",
    "        for word in post_details.text.split(' '):\n",
    "            list_of_words.append(word)\n",
    "            list_of_total_words.append(word)\n",
    "        sleep(5)\n",
    "        count+=1\n",
    "        print(list_of_words)\n",
    "        driver.back()\n",
    "        sleep(3)\n",
    "        driver.execute_script('window.scrollBy(0,100);')\n",
    "        sleep(3)\n",
    "#print(list_of_words)   \n"
   ]
  },
  {
   "cell_type": "markdown",
   "id": "7e21fd26",
   "metadata": {},
   "source": [
    "### [2.2] Prepare a list of all words used in all the scraped posts and calculate the frequency of each word."
   ]
  },
  {
   "cell_type": "code",
   "execution_count": 37,
   "id": "45239066",
   "metadata": {},
   "outputs": [
    {
     "name": "stdout",
     "output_type": "stream",
     "text": [
      "[['I', 6], ['am', 2], ['at', 9], ['@Your', 1], ['Food', 1], ['Lab', 1], ['kitchen', 1], ['with', 26], ['Sanjyot', 2], ['Keer.', 1], [\"He's\", 1], ['cooking', 2], ['up', 6], ['a', 47], ['riot', 1], ['for', 28], ['me', 5], ['and', 47], ['what', 2], ['most', 3], ['excited', 1], ['about', 6], ['is', 25], ['tasting', 1], ['his', 6], ['special', 1], ['Kala', 1], ['Mutton.', 1], ['have', 7], ['seen', 2], ['him', 1], ['cook', 6], ['this', 19], ['Black', 1], ['mutton', 1], ['on', 18], ['channel,', 1], [\"couldn't\", 1], ['keep', 1], ['my', 11], ['excitement', 1], ['bay!\\n\\n#kalamutton', 1], ['#sanjotkheer', 1], ['#khaanemeinkyahai', 1], ['#kunalvijayakar', 1], ['#nonveg', 2], ['#muttonrecipes', 2], ['#recipes', 1], ['#reelsfood', 1], ['#reels', 7], ['Are', 1], ['you', 17], ['craving', 1], ['tempting', 1], ['Chicken', 3], ['Dum', 1], ['Biryani', 1], ['🥰', 1], ['My', 1], ['dinner', 1], ['scene', 1], ['all', 5], ['set', 4], ['yours?\\nFull', 1], ['video', 10], ['now', 6], ['our', 9], ['YouTube', 7], ['Channel!', 1], ['Cheers', 5], ['🥂\\n.\\n.\\n.\\n.\\n#recipe', 1], ['#foodie', 6], ['#indiancuisine', 3], ['#streetfood', 10], ['#biryani', 2], ['#egglover', 1], ['#eggrecipes', 1], ['#eggetarian', 1], ['#sanjyotkeer', 7], ['#foodporn', 10], ['Chalo', 1], ['aaj', 1], ['kuch', 1], ['chatpata', 1], ['hojaye!!', 1], ['😉', 1], ['With', 1], ['each', 1], ['bite', 1], ['of', 48], ['Tokri', 1], ['Chaat', 1], ['there’s', 1], ['burst', 1], ['kind', 1], ['flavours', 1], ['💯\\nFull', 2], ['out', 13], ['channel!', 3], ['🥂\\n.\\n.\\n.\\n#recipe', 1], ['#yourfoodlab', 4], ['#indianfood', 10], ['Mango', 5], ['season', 4], ['feels', 1], ['incomplete', 1], ['without', 2], ['sweet', 4], ['dessert!!', 1], ['🥭💯\\nAre', 1], ['lover?\\n\\nMango', 1], ['phirni', 2], ['reels', 1], ['text\\n\\nCut', 1], ['the', 98], ['RIPE', 1], ['MANGOES', 1], ['2-3', 2], ['NOS.', 1], ['To', 1], ['scoop', 3], ['flesh\\n\\nTransfer', 1], ['in', 30], ['grinding', 2], ['jar', 7], ['to', 39], ['make', 6], ['fine', 2], ['puree\\n\\nWash', 1], ['BASMATI', 1], ['RICE', 1], ['100', 3], ['GM', 4], ['thoroughly', 1], ['&', 25], ['soak', 1], ['45', 1], ['minutes\\n\\nStrain', 1], ['air', 1], ['dry\\nFurther', 1], ['transfer', 1], ['grind', 2], ['semi', 1], ['coarse', 1], ['powder\\n\\nAdd', 1], ['200', 1], ['ML', 1], ['MILK', 1], ['mix', 1], ['well', 2], ['avoid', 2], ['any', 1], ['lumps\\n\\nHeat', 1], ['800ML', 1], ['FULL', 1], ['FAT', 2], ['MILK\\n\\nBring', 1], ['it', 22], ['simmer', 2], ['add', 6], ['milk', 1], ['rice', 1], ['mixture\\n\\nStir', 1], ['continuously\\n\\nCook', 1], ['10', 2], ['minutes', 2], ['medium', 2], ['flame', 3], ['while', 6], ['stirring', 3], ['short', 1], ['intervals\\n\\nAs', 1], ['thickens,', 1], ['lower', 1], ['stir', 2], ['continuously\\n\\nNow', 1], ['mango', 10], ['puree\\nSlivered', 1], ['Nuts', 1], ['(ALMONDS', 1], ['1', 4], ['TBSP,', 2], ['CASHEW', 1], ['NUTS', 1], ['PISTACHIOS', 1], ['TBSP)\\n\\nStir', 1], ['well\\n\\nAdd', 1], ['SUGAR\\nA', 1], ['PINCH', 1], ['OF', 1], ['ELAICHI', 1], ['POWDER\\n\\nStir', 1], ['5-7', 1], ['minutes\\n\\nAdd', 1], ['pinch', 1], ['salt', 1], ['well\\n\\nAs', 1], ['can', 7], ['has', 7], ['thickened\\n\\nSet', 1], ['earthen', 1], ['bowl\\nCover', 1], ['cling', 1], ['fridge', 2], ['overnight', 1], ['or', 3], ['3-4', 1], ['hours\\n\\nGarnish', 1], ['some', 4], ['slices', 2], ['serve', 1], ['cold\\n\\n.\\n.\\n.\\n#mango', 1], ['#mangoseason', 1], ['#mangophirni', 1], ['Enjoy', 1], ['goodness', 1], ['🥭', 1], ['Jam', 1], ['💯', 1], ['last', 2], ['mangoes', 5], ['🥰\\n\\n*Mango', 1], ['jam*\\n\\nTake', 1], ['6-7', 1], ['NO.', 1], ['ALPHONSO', 1], ['MANGO\\n\\nnow', 1], ['cut', 2], ['large', 1], ['slice', 1], ['from', 10], ['side', 1], ['seed\\n\\nThen', 1], ['vertical', 1], ['cuts', 2], ['over', 4], ['using', 2], ['knife,', 1], ['followed', 2], ['by', 8], ['horizontal', 1], ['create', 2], ['square', 1], ['pattern\\n\\nNow', 1], ['spoon,', 1], ['cubes', 1], ['place', 3], ['them', 4], ['into', 7], ['bowl\\n\\nSqueez', 1], ['remaining', 2], ['pulp', 1], ['around', 1], ['seeds', 1], ['same', 1], ['bowl', 1], ['as', 3], ['cubes\\n\\nAdd', 1], ['chopped', 1], ['kadhai', 1], ['pan', 2], ['by\\n\\nSUGAR', 1], ['250', 1], ['GRAMS\\nSALT', 1], ['A', 2], ['PINCH\\nLEMON', 1], ['JUICE', 1], ['TBSP\\n\\nThen', 1], ['switch', 1], ['start', 4], ['heat', 1], ['regular', 1], [\"intervals\\n\\nYou'll\", 1], ['need', 1], ['30-40', 2], ['minutes\\n\\nThe', 1], ['pieces', 2], ['will', 5], ['slowly', 1], ['breaking', 1], ['down', 3], ['give', 1], ['jam', 8], ['really', 1], ['good', 2], ['texture\\n\\nThe', 1], ['spluttering', 1], ['once', 3], ['sugar', 1], ['added', 1], ['starts', 1], ['boiling\\n\\nHold', 1], ['kid', 1], ['like', 5], ['be', 3], ['safe', 1], ['it\\n\\nOnce', 1], ['cooked', 1], [\"it's\", 5], ['consistency', 1], ['look', 2], ['something', 1], ['this,', 2], ['little', 1], ['runny', 1], ['but', 2], ['thicken', 1], ['nicely', 1], ['cools', 1], ['down\\n\\nTo', 1], ['check', 1], ['if', 2], ['your', 6], ['ready,', 1], ['take', 2], ['small', 1], ['bit', 1], ['onto', 1], ['plate', 3], ['let', 2], ['cool', 4], ['30', 2], ['seconds\\n\\nNow', 1], ['tilt', 1], [\"doesn't\", 1], ['dripping,', 1], ['ready\\n\\nSterelize', 1], ['glass', 1], ['lid', 2], ['which', 5], [\"you'll\", 1], ['storing', 1], ['immersing', 1], ['boiling', 1], ['water', 1], ['1-2', 1], ['minutes\\n\\nAlso', 1], ['spoon', 1], ['tongs\\n\\nSet', 1], ['aside', 1], ['down\\n\\nThen', 1], ['still', 1], ['hot\\n\\nCover', 1], ['only', 2], ['after', 3], ['cooled', 1], ['down,', 1], ['store', 1], ['lasts', 1], ['6', 1], ['months.\\n\\n.\\n.\\n.\\n#recipe', 1], ['#mango', 1], ['#mangojam', 1], ['#mangoes', 1], ['#homemade', 3], ['The', 9], ['Cheesier,', 1], ['better', 1], ['🧀🍞\\nWhich', 1], ['dish', 1], ['do', 2], ['enjoy', 3], ['having', 2], ['along', 2], ['Garlic', 1], ['Bread?\\nFull', 1], ['🥂\\n\\n#garlicbread', 1], ['#instagram', 2], ['This', 1], ['weekly', 1], ['reminder', 1], ['go', 1], ['watch', 3], ['previous', 1], ['videos!!', 1], ['☺️\\nAlso', 1], [\"don't\", 3], ['forget', 1], ['try', 5], ['share', 2], ['recipes', 1], ['🤝', 1], ['🥂\\n.\\n.\\n.\\n.\\n\\n1.', 1], ['Mutton', 3], ['Curry\\n2.', 1], ['Rasgulla\\n3.', 1], ['Tawa', 1], ['Paneer\\n4.', 1], ['Stuffed', 1], ['Kulfi\\n.\\n.\\n#recipe', 1], ['#rewind', 1], ['#foodism', 1], ['Rains', 1], ['are', 10], ['finally', 2], ['here', 2], ['monsoon', 1], ['cravings', 1], ['begun!!', 1], ['🌧🤤', 1], ['Keer', 1], ['Style', 1], ['Sunday', 2], ['Curry', 2], ['itt', 1], ['iss', 1], ['🔥🔥\\nTag', 1], ['friends', 1], ['whom', 1], ['would', 1], ['love', 4], ['🥂\\n.\\n.\\n.\\n.\\n#muttoncurry', 1], ['#weekendvibes', 1], ['#muttonlover', 1], ['#foodblogger', 6], ['Prepare', 1], ['stuffed', 1], ['Kulfi', 1], ['recipe', 1], ['savour', 1], ['refreshing', 2], ['way', 1], ['❤️🥭\\n\\nThis', 1], ['one', 5], ['favorite', 2], ['Indian', 3], ['summer', 1], ['desserts', 1], ['should', 1], ['prepare', 1], ['before', 2], ['ends!', 1], ['#IndiaILove', 1], ['#indiaat75\\n\\n*Mango', 1], ['Kulfi*\\n\\nCut', 1], ['ripe', 1], ['flesh\\nAdd', 1], ['puree\\n\\nHeat', 1], ['2', 2], ['LITRES', 1], ['WHOLE', 1], ['MILK\\nOnce', 1], ['comes', 1], ['500', 1], ['KHOYA\\nELAICHI', 1], ['PODS', 1], ['(CRUSHED)\\n\\nStir', 1], ['until', 3], ['khoya', 1], ['melts', 1], ['sticking', 1], ['bottom\\n\\nAdd', 1], ['SUGAR\\n\\nStir', 1], ['reduced', 1], ['1/3', 1], ['rd', 1], ['becomes', 1], ['thick', 2], ['pouring', 1], ['consistency\\n\\nRemove', 1], ['half', 2], ['Allow', 1], ['down\\n\\nAdd', 1], ['prepared', 2], ['puree', 1], ['rabari\\n\\nStir', 1], ['5', 1], ['minutes\\n\\nAllow', 1], ['room', 1], ['temperature\\n\\nTo', 1], ['kulfi:\\nTrim', 1], ['head', 2], ['mango\\n\\nRemove', 1], ['seed', 1], ['keeping', 2], ['flesh', 1], ['intact\\n\\nFill', 1], ['cavity', 1], ['rabri', 1], ['choice\\nClose', 1], ['trimmed', 1], ['freeze', 1], ['kulfi', 1], ['firmly\\n\\nOnce', 1], ['set,', 1], ['use', 1], ['peeler', 1], ['peel', 1], ['skin', 1], ['mangoes\\n\\nUse', 1], ['sharp', 1], ['knife', 1], [\"India's\", 2], ['Biggest', 1], ['Ice', 2], ['Gola😱😱\\n.\\nWatch', 1], ['full', 6], ['channel.', 3], ['Link', 3], ['bio🤗🤗\\n.\\n#foodieincarnate', 3], ['#Reelitfeelit', 4], ['#reelkarofeelkaro', 5], ['#reelsinstagram', 5], ['#icegola', 1], ['#icecream', 3], ['#viralfood', 3], ['#explore', 7], ['EXTREME', 1], ['Punch', 1], ['Shake', 2], ['Firozabad😱😱', 1], ['पीने', 1], ['वाले', 1], ['को', 1], ['500Rs/-', 1], ['का', 1], ['ईनाम😳😳\\n.\\nKindly', 1], ['location,', 2], ['price', 2], ['other', 2], ['details🤗🤗\\n.\\n#foodieincarnate', 2], ['#sodelhi', 2], ['#newdelhi', 3], ['#foodtalkindia', 3], ['#delhigram', 2], ['#delhifoodblogger', 3], ['#foodgasm', 2], ['#foodpornshare', 2], ['#foodlover', 3], ['#foodgram', 2], ['#foodiesofinstagram', 2], ['#indianstreetfood', 2], ['#delhistreetfood', 2], ['#streetfoodindia', 3], ['#mumbaistreetfood', 2], ['#delhifoodie', 2], ['#indianfoodie', 2], ['#desikhana', 2], ['#indianfoodblogger', 3], ['#indianfoodbloggers', 2], ['#delhifood', 2], ['#mumbai', 2], ['#delhi', 3], ['#firozabad', 1], ['#milkshake', 2], ['These', 1], ['Parathas', 1], ['shelf', 1], ['life', 1], ['years😳😳', 1], ['Frozen', 1], ['Paratha', 1], ['Making😋😋\\n.\\nWatch', 1], ['#paratha', 2], ['#foodfactory', 1], ['Crossed', 1], ['3', 3], ['Million', 1], ['subscribers', 1], ['YouTube.🤩🤩\\nIt', 1], [\"wouldn't\", 1], ['been', 3], ['possible', 1], ['support', 1], ['guys.', 1], ['Thank', 1], ['every', 1], ['single', 1], ['you❤️🤗\\n.\\n#foodieincarnate', 1], ['#amarsirohi', 2], ['Thick', 1], ['Creamy', 1], ['Red', 1], ['Velvet', 1], ['@shakesjunctionsaket', 1], ['🤩🤩\\n.\\nMust', 1], ['visit', 1], ['quality', 1], ['shakes', 1], ['pocket', 1], ['friendly', 1], ['prices.', 1], ['Address:', 1], ['Shakes', 1], ['Junction,', 1], ['PVR', 1], ['Anupam,', 1], ['Saket\\n.\\n#foodieincarnate', 1], ['#redvelvet', 1], ['#trending', 5], ['#milkshakes', 1], ['Now', 1], ['best', 5], ['delightful', 1], ['food', 2], ['just', 3], ['simple', 2], ['steps', 1], ['-', 1], ['Open,', 1], ['Heat', 1], ['Eat.\\nQuikShef', 1], ['offers', 2], ['ready-to-eat', 1], ['meals', 1], ['that', 2], ['taste', 1], ['they', 1], ['were', 4], ['home.\\n\\nBe', 1], ['part', 1], ['fastest-growing', 1], ['business.\\nFor', 1], ['Quikshef', 1], ['Franchise', 1], ['Enquiry\\n📞', 1], ['18002032411\\nKnow', 1], ['more:', 1], ['www.quikshef.com\\n.\\n@quikshef\\n#Foodieincarnate', 1], ['#QuikShef', 1], ['#QuikFood\\n#Franchise', 1], ['#FranchiseOpportunities\\n#Instantfood', 1], ['#EasyToCookMeals', 1], ['#InstantMeals', 1], ['#EasyMeals', 1], ['#ReadyToEat\\n#Jainfood', 1], ['#FastFood', 1], ['#DeliciousBites\\n#AuthenticTaste', 1], ['#MadeinIndia', 1], ['20', 1], ['Lakh', 1], ['Rs/-', 1], ['Kg', 1], ['Gulabjal', 1], ['Making', 1], ['Uttar', 1], ['Pradesh😱😱\\n.\\nWatch', 1], ['#reelitfeelit', 1], ['#gulabjal', 1], ['#rosewater', 1], ['#tasteofUP', 1], ['#swadUPka', 1], ['#cuisineofuttarpradesh', 1], ['Have', 1], ['ever', 1], ['Yellow', 1], ['Watermelon??😳😳\\n.\\nKindly', 1], ['#golgappa', 1], ['#panipuri', 1], ['Tag', 3], ['someone', 1], ['who', 7], ['finish', 1], [\"INDIA'S\", 1], ['BIGGEST', 1], ['PARATHA😱😱\\n.\\nWatch', 1], ['Fb', 1], ['page🤗🤗\\n.\\n#foodieincarnate', 1], ['If', 1], ['searching', 1], ['stay', 1], ['Haridwar,', 1], ['no', 1], ['further', 1], ['than', 2], ['@pilibhithouseharidwar\\n\\nSitting', 1], ['charmingly', 1], ['Ganges', 2], ['overlooking', 1], ['glorious', 1], ['Shivalik', 1], ['Himalayas,', 1], ['century', 1], ['old', 1], ['aristocratic', 1], ['noble', 1], ['house,', 1], ['meticulously', 1], ['restored', 1], ['provide', 1], ['experiences', 1], ['Haridwar.', 1], ['Housing', 1], ['largest', 1], ['private', 1], ['bathing', 1], ['ghat', 1], ['region,', 1], ['also', 3], ['mersmerising', 1], ['view', 1], ['artfully', 1], ['designed', 1], ['rooms', 1], ['suites', 1], ['across', 1], ['levels.', 1], ['Highly', 1], ['recommended', 1], ['place.👍🏻👍🏻\\n.\\n#Foodieincarnate', 1], ['#PilibhitHouseRituals', 1], ['#UntoldHaridwar', 1], ['#SoulStirringHaridwar', 1], ['#staycation', 1], ['#haridwar', 1], ['#hotelblogger', 1], ['ultimate', 3], ['Dad', 1], ['joke', 1], ['dad', 1], ['dessert?', 1], ['@goldbelly', 1], ['shipping', 1], ['legendary', 1], ['“Polo', 1], ['Cake”', 1], ['renowned', 1], ['Ft.', 1], ['Lauderdale,', 1], ['FL', 1], ['bakery', 1], ['@wetakethecake', 2], ['.', 3], ['What', 1], ['think?', 1], ['Does', 1], ['dessert', 1], ['cake?', 1], ['😜', 1], ['#dadjoke', 1], ['#fathersday', 1], ['#cakes', 1], ['#baking\\n🎥', 1], ['Credit:', 1], ['@paradigmdigitalgroup', 1], ['@thecocacolaco', 1], ['@brownforman', 1], ['“make', 1], ['official”', 1], ['creating', 1], ['canned', 1], ['cocktail', 2], ['classic', 4], ['“Jack', 1], ['Coke”', 1], ['5%', 1], ['alcohol', 1], ['per', 3], ['can.', 1], ['friend', 2], ['you’d', 1], ['Jack', 2], ['Coke', 1], ['with👇', 1], ['#foodnews', 5], ['#cocacola', 1], ['#whiskey', 1], ['@milkbarstore', 1], ['released', 1], ['their', 1], ['latest', 2], ['creation,', 1], ['“The', 1], ['Waffle', 2], ['Cone', 2], ['Pie.”', 1], ['Inspired', 1], ['@drumstick', 1], ['cone,', 1], ['Pie', 1], ['features', 1], ['crispy,', 1], ['waffle', 1], ['cone', 1], ['crust', 1], ['layer', 1], ['brownie,', 1], ['ice-cream', 1], ['flavored', 1], ['pudding,', 1], ['peanut', 2], ['chocolate', 3], ['magic', 1], ['shell', 1], ['clusters.', 1], ['Get', 1], ['yours', 1], ['milkbarstore.com', 1], ['🥧🍦', 1], ['#pies', 1], ['#dessert', 3], ['#baking', 1], ['Take', 1], ['trip', 1], ['north', 1], ['NYC', 1], ['Westchester', 2], ['find', 1], ['serious', 1], ['eats!\\n\\n@hayfieldsmarket\\n\\nHint:', 1], ['Stop', 1], ['morning', 1], ['see', 1], ['exotic', 1], ['cars', 1], ['🏎', 1], ['sipping', 1], ['coffee', 6], ['horse', 1], ['country\\n\\n@_southerntable_\\n\\nWinner', 1], ['an', 6], ['esteemed', 1], ['Michelin', 1], ['Award,', 1], ['must', 1], ['southern', 1], ['cuisine…north', 1], ['City.\\n\\nTip:', 1], ['get', 1], ['burger…same', 1], ['WON', 1], ['burger', 1], ['@westchestermagazine', 1], ['Burger', 2], ['Beer', 1], ['Blast', 1], ['night!\\n\\n@woodandfirepizza\\n\\nWhat', 1], ['we', 3], ['say,', 1], ['creative', 1], ['pizza', 1], ['🍕', 1], ['right', 1], ['street', 1], ['Southern', 1], ['Table.\\n\\n@bartacolife\\n\\nHang', 1], ['waterfront', 1], ['Port', 1], ['Chester', 1], ['w', 1], ['off', 1], ['charts', 1], ['Margarita', 1], ['equally', 1], ['amazing', 2], ['tacos\\n\\nBe', 1], ['lookout', 1], ['#bartacosecret', 1], ['menu', 2], ['filled', 1], ['off-menu', 1], ['tacos.', 1], ['viral', 1], ['Dessert', 1], ['Trash', 1], ['Can', 1], ['Nachos', 1], ['@guyfieri', 1], [',', 2], ['billed', 1], ['\"the', 1], ['spin', 1], ['trash', 1], ['nachos”', 1], ['available', 2], ['via', 1], ['@goldbelly\\n\\nThe', 1], ['\"pile', 1], ['savory', 1], ['goodness\"', 1], ['built', 1], ['crispy', 1], ['cannoli', 1], ['chips', 1], ['then', 1], ['stacked', 1], ['mini', 1], ['pretzels,', 1], ['toffee', 1], ['pieces,', 1], ['brownie', 1], ['being', 1], ['layered', 1], ['whiskey', 2], ['dark', 1], ['salted', 1], ['caramel.', 1], ['#nachos', 1], ['#goldbelly', 1], ['#guyfieri', 1], ['#foodnewtwork', 1], ['@timhortons', 1], ['@justinbieber', 1], ['teaming', 1], ['again', 1], ['“Biebs', 1], ['Brew”', 1], ['iced', 1], ['co-creating', 1], ['own', 1], ['Timbits', 1], ['doughnuts.', 1], ['Belieber', 1], ['needs', 1], ['👇', 1], ['#foodcollabs', 1], ['#timhortons', 1], ['#justinbieber', 1], ['#icedcoffee', 1], ['#coldbrew', 1], ['@eatsnacklins', 1], ['quickly', 1], ['become', 1], ['snack-obsession!', 1], ['Snacklins,', 1], ['@sharktankabc', 1], ['darling,', 1], ['was', 6], ['first', 2], ['born', 1], ['Washington', 1], ['D.C', 1], ['barbeque', 1], ['joint', 1], ['Chef', 1], ['Samy', 2], ['Kobrosly', 1], ['became', 1], ['obsessed', 1], ['idea', 1], ['meat-free', 1], ['pork', 1], ['rind', 1], ['joking', 1], ['inability', 1], ['eat', 1], ['snack', 2], ['given', 1], ['Muslim', 1], ['upbringing.', 1], ['Snacklins', 1], ['made', 1], ['ingredients--yuca,', 1], ['mushrooms,', 1], ['onions--which', 1], ['100%', 1], ['vegan', 1], ['plant-based.', 1], ['They', 2], ['crunchy,', 1], ['airy', 1], ['texture', 1], ['entire', 1], ['size', 1], ['bag', 1], ['90', 1], ['calories.', 1], ['As', 1], ['says,', 1], ['\"Eat', 1], ['Whole', 1], ['Bag!\"', 1], ['come', 1], ['variety', 1], ['flavors', 1], ['including', 1], ['Barbeque,', 1], ['Chesapeake', 1], ['Bay,', 1], ['Cinnamon', 1], ['Churro,', 1], ['Nacho,', 1], ['Sea', 1], ['Salt', 1], ['Vinegar,', 1], ['Teriyaki.', 1], ['Start', 1], ['snacking', 1], ['snacklins.com', 1], ['#foodfaves', 1], ['#snack', 1], ['#healthysnacks', 1], ['#vegan', 1], ['#plantbased', 1], ['@davegrutman', 1], ['@groothospitality', 1], ['@badbunnypr', 1], ['opening', 1], ['brand', 1], ['new', 1], ['Japanese', 2], ['steakhouse', 1], ['sushi', 2], ['concept', 1], ['called', 1], ['Gekkō', 2], ['Miami’s', 1], ['Brickell', 1], ['neighborhood.', 1], ['Bad', 1], ['Bunny', 1], ['self-proclaimed', 1], ['fanatic', 1], ['had', 1], ['long', 1], ['discussing', 1], ['project', 1], ['Grutman.', 1], ['interior', 1], ['restaunt', 1], ['done', 1], ['@rockwellgroup', 1], ['“Gekkō”', 1], ['word', 1], ['“moonlight,”', 1], ['befitting', 1], ['city', 1], ['beloved', 1], ['its', 1], ['nightlife.', 1], ['Yet', 1], ['stands', 1], ['double', 1], ['entendre', 1], ['homage', 1], ['Michael', 1], ['Douglas’', 1], ['Gordon', 1], ['Gekko,', 1], ['famed', 1], ['Wall', 1], ['Street', 1], ['character.', 1], ['slatted', 1], ['open', 1], ['July.', 1], ['#foodscene', 1], ['#restaurants', 1], ['#maimi', 1], ['#southbeach', 1], ['#badbunny', 1], ['@kfc', 1], ['teamed', 1], ['Kentucky-based', 1], ['rapper', 1], ['@jackharlow', 1], ['“first', 1], ['class”', 1], ['meal', 1], ['Kentucky', 1], ['Fried', 1], ['Chicken.', 1], ['Harlow', 1], ['Meal', 1], ['hits', 1], ['stores', 1], ['nationwide', 1], ['June', 1], ['6th', 1], ['exclusive', 1], ['merch', 1], ['KFC', 1], ['app.', 1], ['🎥', 1], ['@kfc\\n#foodnews', 1], ['#foodculture', 1], ['#kfc', 1], ['#jackharlow', 1], ['#fingerlickinggood', 1], ['According', 1], ['article', 1], ['published', 1], ['@nytimes', 1], ['recent', 1], ['study', 3], ['Annals', 1], ['Internal', 1], ['Medicine,', 1], ['concluded', 1], ['those', 3], ['drank', 2], ['1.5', 1], ['3.5', 1], ['cups', 2], ['day,', 1], ['even', 1], ['teaspoon', 1], ['sugar,', 1], ['percent', 2], ['less', 2], ['likely', 2], ['die', 2], ['during', 2], ['period', 1], ['didn’t', 1], ['drink', 1], ['coffee.', 1], ['Those', 1], ['unsweetened', 1], ['16', 1], ['21', 2], ['period,', 1], ['drinking', 1], ['three', 1], ['day', 1], ['lowest', 1], ['risk', 1], ['death', 1], ['when', 1], ['compared', 1], ['noncoffee', 1], ['drinkers.\\n\\nOf', 1], ['course', 1], ['there', 1], ['many', 1], ['more', 1], ['deterring', 1], ['factors', 1], ['big', 1], ['news', 1], ['lovers.', 1], ['So', 1], ['grab', 1], ['cup', 1], ['spot.\\n\\nHere', 1], ['few', 1], ['favorites:', 1], ['@happybonesnyc', 1], ['@seycoffee', 1], ['@stumptowncoffee', 1], ['@bluebottle', 1], ['@coffeeprojectny', 1], ['@lacolombecoffee', 1], ['@arabicausa', 1], ['@dutchbroscoffee', 1], ['BTS', 1], ['themed', 1], ['Cafe', 1], ['serving', 1], ['Korean', 1], ['Foods', 1], ['Boba', 1], ['Teas', 1], ['@boba.panda8', 1], ['!\\n\\n#foodzpah', 1], ['#feelitreelit', 7], ['#bts', 1], ['#koreanfood', 1], ['#bobatea', 1], ['#kolkata', 3], ['#feelkorboreelkorbo', 3], ['#corndog', 1], ['#bibimbap', 1], ['#korean', 1], ['#southkorea', 1], ['#boba', 1], ['#drinks', 1], ['Dubai,', 1], ['Land', 1], ['Like', 1], ['No', 1], ['Other!', 1], ['🔥\\n\\n@dubai', 1], ['@burjkhalifa', 1], ['@palmjumeirahh', 1], ['@doubletree', 1], ['@nusr_et', 1], ['@cznburak', 1], ['@fourseasons', 1], ['@armanihoteldxb\\n\\n#FoodZpah', 1], ['#Dubai', 1], ['#Luxury', 1], ['#Travel', 1], ['#BurjKhalifa', 1], ['#Armani', 1], ['#Hilton', 1], ['#Burak', 1], ['#Nusret', 1], ['#instafood', 2], ['#igers', 3], ['Would', 1], ['‘Orgasm’', 1], ['Thali?', 1], ['🤪\\n\\n#foodzpah', 1], ['#tribal', 1], ['#localfood', 1], ['#thali', 1], ['#bengal', 1], ['#reelkorbofeelkorbo', 1], ['#food', 11], ['#reelsindia', 3], ['Fine', 1], ['Dine', 1], ['Restaurant', 1], ['Ho', 1], ['Chi', 1], ['Minh,', 1], ['Vietnam\\n\\n#FoodZpah', 1], ['#hochiminh', 1], ['#vietnam', 2], ['#finedine', 1], ['#nomnom', 5], ['#feelkaroreelkaro', 5], ['#igtv', 2], ['#travel', 5], ['Breakfast', 1], ['View!', 1], ['😍\\n\\n#FoodZpah', 2], ['#kasol', 1], ['#himachal', 2], ['#breakfast', 2], ['#english', 1], ['#summer', 2], ['#juice', 1], ['#view', 1], ['#viral', 1], ['Bao', 1], ['Streets', 1], ['Hanoi,', 1], ['Vietnam', 1], ['🇻🇳\\n\\n#foodzpah', 1], ['#hanoi', 1], ['#chicken', 2], ['#bao', 1], ['#asianfood', 1], ['All', 1], ['Vegetation', 1], ['looks', 1], ['Grilled', 1], ['Fish', 1], ['Lemon', 1], ['Butter', 2], ['Sauce', 1], ['😋\\n\\n#foodzpah', 1], ['#taj', 1], ['#fish', 1], ['#igdaily', 1], ['Shaadi', 1], ['wali', 1], ['Biryani!', 1], ['#wedding', 1], ['#marriage', 1], ['#meat', 1], ['#mutton', 1], ['#biriyani', 1], ['#india', 2], ['Famous', 2], ['Cream', 1], ['Spot', 1], ['Manali,', 1], ['Himachal🍦🏔\\n\\n#foodzpah', 1], ['#hills', 1], ['#manali', 1], ['#shimla', 1], ['Delhi’s', 1], ['Aslam', 1], ['Jama', 1], ['Masjid', 1], ['Area\\n\\n#FoodZpah', 1], ['#aslam', 1], ['#butterchicken', 1], ['#butter', 1], ['Glad', 1], ['meet', 2], ['upcoming', 1], ['AK47', 1], ['webseries', 1], ['stars,', 1], ['Ravi', 1], ['Kishan', 1], ['such', 1], ['humble', 1], ['actor,', 1], ['Director', 1], ['Shashi', 1], ['verma', 1], ['Jay', 1], ['Soni.', 1], ['Had', 1], ['lunch', 1], ['them,kaafi', 1], ['batein', 1], ['huyi,', 1], ['chai', 1], ['pe', 1], ['charcha\\nAur', 1], ['sabse', 1], ['important', 1], ['humare', 1], ['ghar', 1], ['shooting', 1], ['huyi', 1], ['role,', 1], ['camera', 1], ['action', 2], ['🎥📸📹🎞️', 1], [\"Can't\", 1], ['wait', 1], ['episodes', 1], ['thriller', 1], ['series.😌😁', 1], ['Thanks', 1], ['lot', 1], ['@radisson_blu_hotel_ranchi', 1], ['inviting', 1], ['giving', 1], ['opportunity', 1], ['celebrity', 1], ['chef', 1], ['@chefrakeshsethi', 1], ['It', 2], ['pleasure', 1], ['meeting', 1], ['sir.\\nHad', 1], ['mouth', 1], ['watering', 1], ['food(both', 1], ['starter&', 1], ['main', 1], ['course)at', 1], ['Kebab', 1], ['Factory.\\nYou', 1], ['swipe', 1], ['⏭️', 1], [\"today's\", 1], ['had.\\nWarm', 1], ['welcome', 1], ['wonderful', 2], ['hospitality', 1], ['staffs.', 1], ['!!\\n.\\n.\\n.\\nDisclaimer:', 1], ['Mask', 1], ['taken', 1], ['picture', 1], ['only,', 1], ['wearing', 1], ['masks', 1], ['throughout', 1], ['Radisson', 1], ['blu', 1], ['group', 1], ['ensures', 1], ['that.', 1], ['Safety', 1], ['priority', 1], ['them.\\n.\\n.\\n.\\n#foodranchi', 1], ['#ranchi', 1], ['#ranchifoodblogger', 1], ['#foodfood', 2], ['#foodtalkmumbai', 1], ['#indianfoodies', 1], ['#foodindia', 1], ['#foodiesofindia', 1], ['#igfood', 1], ['#buffet', 1], ['#kebab', 1], ['Featured', 1], ['@latestinbollywood\\nThank', 1], ['u', 1], ['support.', 1], ['♥️\\nYours', 1], ['#foodranchi', 4], ['Pattaya', 1], ['Bangkok', 1], ['150km', 1], ['drive', 1], ['🚗\\nenjoy', 1], ['rain', 1], ['natural', 1], ['beauty', 1], ['hustling', 1], ['traffic', 1], ['Bangkok.\\n#bangkok', 1], ['#ride', 1], ['#drive', 1], ['#rain', 1], ['#siam', 1], ['#amari', 1], ['#amariwatergate\\n#pattaya', 1], ['#thai', 1], ['#thailand', 3], ['#road', 1], ['#roadreel', 1], ['#reeltoreel', 2], ['#reel', 1], ['Terminal', 1], ['Mall', 1], ['Pattaya,', 1], ['In', 1], ['beautiful', 1], ['mall.♥️\\nPARIS,LONDON,ITALY,TOKYO,SAN', 1], ['FRANCISCO', 1], ['HOLLYWOOD', 1], ['THEMED', 1], ['ALL', 1], ['IN', 1], ['ONE', 1], ['VENUE.\\n.\\n.\\n.\\n.\\n#pattaya', 1], ['#mall', 1], ['#wonderful', 1], ['#sway', 1], ['#paris', 1], ['#tokyo', 1], ['#london', 1], ['#italy', 1], ['#sf', 1], ['#hollywood', 1], ['#sanfrancisco', 1], ['experience', 1], ['@siambayshorepattaya', 1], ['thanks.\\nขอบใจ', 1], ['kha', 1], ['pun', 1], ['khap.', 1], ['👏🏻♥️\\n#reels', 1], ['#resort', 1], ['#pattaya', 1], ['#love', 1], ['Newly', 1], ['Opened', 1], ['@greekaranchi\\nPremium', 1], ['rooftop', 1], ['bar', 1], ['restaurant\\n📍Above', 1], ['Reliance', 1], ['Digital', 1], ['Minu', 1], ['height', 1], ['4th', 1], ['5th', 1], ['floor', 1], ['kanke', 1], ['road', 1], ['ranchi.', 1], ['mcd', 1], ['Ranchi', 1], ['But', 1], ['worry', 1], ['maharaja', 1], ['mac', 1], ['point,', 1], ['trust', 1], ['simply', 1], ['amazing.😋😘\\n@burgerpoint_ranchi\\nAlso', 1], ['wrap', 1], ['amazing.♥️\\n.\\n.\\n.\\n.\\n.\\n.\\n#burgers', 1], ['#burger', 1], ['#burgerporn', 1], ['#fries', 1], ['#burgertime', 1], ['#cheeseburger', 1], ['#foodstagram', 1], ['#burgerlover', 1], ['#foodphotography', 1], ['#hamburger', 1], ['#yummy', 1], ['#pizza', 1], ['#fastfood', 1], ['#delicious', 1], ['#burgerlove', 1], ['#burgerlovers', 1], ['#delivery', 1], ['#cheese', 1], ['#bbq', 1], ['#foodies', 1], ['#dinner', 1], ['#burgerlife', 1], ['#lunch', 1], [\"Delhi's\", 1], ['iconic', 1], ['GULAB', 1], ['SWEETS', 1], ['since', 1], ['1912,\\n100years+\\nserves', 1], ['finest', 1], ['sweets,\\nMUST', 1], ['TRY', 1], ['LASSI,GUJIYA,', 1], ['KALAKAND.', 1], ['😍👍🏻\\n#delhi', 1], ['#sweets', 1], ['Yaay', 1], ['🛺🥰\\n😁😜', 1]]\n"
     ]
    }
   ],
   "source": [
    "#find frequency\n",
    "freq = {}\n",
    "for i in list_of_total_words:\n",
    "    if i in freq:\n",
    "        freq[i]+=1\n",
    "    else:\n",
    "        freq[i]=1\n",
    "        \n",
    "word_freq = []\n",
    "for i in freq:\n",
    "    word_freq.append([i, freq[i]])\n",
    "\n",
    "print(word_freq)"
   ]
  },
  {
   "cell_type": "markdown",
   "id": "67a61b30",
   "metadata": {},
   "source": [
    "### [2.3] Create a csv file with two columns : the word and its frequency"
   ]
  },
  {
   "cell_type": "code",
   "execution_count": 39,
   "id": "15b954f5",
   "metadata": {},
   "outputs": [
    {
     "data": {
      "text/html": [
       "<div>\n",
       "<style scoped>\n",
       "    .dataframe tbody tr th:only-of-type {\n",
       "        vertical-align: middle;\n",
       "    }\n",
       "\n",
       "    .dataframe tbody tr th {\n",
       "        vertical-align: top;\n",
       "    }\n",
       "\n",
       "    .dataframe thead th {\n",
       "        text-align: right;\n",
       "    }\n",
       "</style>\n",
       "<table border=\"1\" class=\"dataframe\">\n",
       "  <thead>\n",
       "    <tr style=\"text-align: right;\">\n",
       "      <th></th>\n",
       "      <th>Words</th>\n",
       "      <th>Frequency</th>\n",
       "    </tr>\n",
       "  </thead>\n",
       "  <tbody>\n",
       "    <tr>\n",
       "      <th>0</th>\n",
       "      <td>I</td>\n",
       "      <td>6</td>\n",
       "    </tr>\n",
       "    <tr>\n",
       "      <th>1</th>\n",
       "      <td>am</td>\n",
       "      <td>2</td>\n",
       "    </tr>\n",
       "    <tr>\n",
       "      <th>2</th>\n",
       "      <td>at</td>\n",
       "      <td>9</td>\n",
       "    </tr>\n",
       "    <tr>\n",
       "      <th>3</th>\n",
       "      <td>@Your</td>\n",
       "      <td>1</td>\n",
       "    </tr>\n",
       "    <tr>\n",
       "      <th>4</th>\n",
       "      <td>Food</td>\n",
       "      <td>1</td>\n",
       "    </tr>\n",
       "    <tr>\n",
       "      <th>...</th>\n",
       "      <td>...</td>\n",
       "      <td>...</td>\n",
       "    </tr>\n",
       "    <tr>\n",
       "      <th>1478</th>\n",
       "      <td>KALAKAND.</td>\n",
       "      <td>1</td>\n",
       "    </tr>\n",
       "    <tr>\n",
       "      <th>1479</th>\n",
       "      <td>😍👍🏻\\n#delhi</td>\n",
       "      <td>1</td>\n",
       "    </tr>\n",
       "    <tr>\n",
       "      <th>1480</th>\n",
       "      <td>#sweets</td>\n",
       "      <td>1</td>\n",
       "    </tr>\n",
       "    <tr>\n",
       "      <th>1481</th>\n",
       "      <td>Yaay</td>\n",
       "      <td>1</td>\n",
       "    </tr>\n",
       "    <tr>\n",
       "      <th>1482</th>\n",
       "      <td>🛺🥰\\n😁😜</td>\n",
       "      <td>1</td>\n",
       "    </tr>\n",
       "  </tbody>\n",
       "</table>\n",
       "<p>1483 rows × 2 columns</p>\n",
       "</div>"
      ],
      "text/plain": [
       "            Words  Frequency\n",
       "0               I          6\n",
       "1              am          2\n",
       "2              at          9\n",
       "3           @Your          1\n",
       "4            Food          1\n",
       "...           ...        ...\n",
       "1478    KALAKAND.          1\n",
       "1479  😍👍🏻\\n#delhi          1\n",
       "1480      #sweets          1\n",
       "1481         Yaay          1\n",
       "1482       🛺🥰\\n😁😜          1\n",
       "\n",
       "[1483 rows x 2 columns]"
      ]
     },
     "execution_count": 39,
     "metadata": {},
     "output_type": "execute_result"
    }
   ],
   "source": [
    "#create pandas dataframe\n",
    "df = pd.DataFrame(word_freq, columns=['Words', 'Frequency'])\n",
    "df"
   ]
  },
  {
   "cell_type": "code",
   "execution_count": 40,
   "id": "98d9c704",
   "metadata": {},
   "outputs": [],
   "source": [
    "#create csv file\n",
    "df.to_csv('Words_Freq', index = False) "
   ]
  },
  {
   "cell_type": "markdown",
   "id": "f9858c0b",
   "metadata": {},
   "source": [
    "### [2.4] Now, find the hashtags that were most popular among these bloggers."
   ]
  },
  {
   "cell_type": "code",
   "execution_count": 41,
   "id": "139c0f49",
   "metadata": {},
   "outputs": [
    {
     "name": "stdout",
     "output_type": "stream",
     "text": [
      "              Words  Frequency\n",
      "1189          #food         11\n",
      "73      #streetfood         10\n",
      "101     #indianfood         10\n",
      "79        #foodporn         10\n",
      "78     #sanjyotkeer          7\n",
      "49           #reels          7\n",
      "1145  #feelitreelit          7\n",
      "506        #explore          7\n",
      "414    #foodblogger          6\n",
      "71          #foodie          6\n"
     ]
    }
   ],
   "source": [
    "#popular hashtags\n",
    "df = df[df['Words'].str.startswith('#')]\n",
    "popular_hashtags = df.sort_values('Frequency', ascending = False)[0:10]\n",
    "print(popular_hashtags)"
   ]
  },
  {
   "cell_type": "markdown",
   "id": "4c7cf5da",
   "metadata": {},
   "source": [
    "### [2.5] Plot a Pie Chart of the top 5 hashtags obtained and the number of times they were used by these bloggers in the scraped posts."
   ]
  },
  {
   "cell_type": "code",
   "execution_count": 42,
   "id": "7b8411f7",
   "metadata": {},
   "outputs": [
    {
     "data": {
      "image/png": "[encoded data removed]",
      "text/plain": [
       "<Figure size 432x288 with 1 Axes>"
      ]
     },
     "metadata": {},
     "output_type": "display_data"
    }
   ],
   "source": [
    "top5_hashtags = popular_hashtags.Words[0:5]\n",
    "top5_hashtags_freq = popular_hashtags.Frequency[0:5]\n",
    "\n",
    "#plot pie chart\n",
    "plt.title(\"Frequency Of Hashtags Used By Bloggers\", fontsize=16, color='Black')\n",
    "plt.pie(top5_hashtags_freq, labels = top5_hashtags, autopct = \"%.2f%%\" )\n",
    "plt.show()"
   ]
  },
  {
   "cell_type": "markdown",
   "id": "e1612a19",
   "metadata": {},
   "source": [
    "## Problem 3 : Calculation of Average (Followers vs Likes) Ratio"
   ]
  },
  {
   "cell_type": "raw",
   "id": "d2b22bfe",
   "metadata": {},
   "source": [
    "I need to also calculate average (followers : likes) ratio for the obtained handles.\n",
    "Followers : Likes ratio is calculated as follows:"
   ]
  },
  {
   "cell_type": "markdown",
   "id": "9966a07e",
   "metadata": {},
   "source": [
    "### [3.1] Find out the likes of the top 10 posts of the 5 handles obtained earlier."
   ]
  },
  {
   "cell_type": "code",
   "execution_count": 21,
   "id": "873fa0bd",
   "metadata": {},
   "outputs": [
    {
     "name": "stderr",
     "output_type": "stream",
     "text": [
      "C:\\Users\\abhis\\AppData\\Local\\Temp/ipykernel_10008/2600289610.py:26: DeprecationWarning: find_elements_by_xpath is deprecated. Please use find_elements(by=By.XPATH, value=xpath) instead\n",
      "  posts = driver.find_elements_by_xpath('//div[@class = \"_aabd _aa8k _aanf\"]')\n",
      "C:\\Users\\abhis\\AppData\\Local\\Temp/ipykernel_10008/2600289610.py:35: DeprecationWarning: find_element_by_xpath is deprecated. Please use find_element(by=By.XPATH, value=xpath) instead\n",
      "  post_details = driver.find_element_by_xpath('//div/div[1]/div/div[2]/div/div/div[1]/div/div[3]/div/div/div/div/div[2]/div/article/div/div[2]/div/div/div[2]/div[1]/ul/div/li/div/div/div[2]/div[1]/span')\n",
      "C:\\Users\\abhis\\AppData\\Local\\Temp/ipykernel_10008/2600289610.py:36: DeprecationWarning: find_element_by_xpath is deprecated. Please use find_element(by=By.XPATH, value=xpath) instead\n",
      "  like = driver.find_element_by_xpath('//div/div[1]/div/div[2]/div/div/div[1]/div/div[3]/div/div/div/div/div[2]/div/article/div/div[2]/div/div/div[2]/section[2]/div/div/div/a/div')\n",
      "C:\\Users\\abhis\\AppData\\Local\\Temp/ipykernel_10008/2600289610.py:42: DeprecationWarning: find_element_by_xpath is deprecated. Please use find_element(by=By.XPATH, value=xpath) instead\n",
      "  views = driver.find_element_by_xpath('//div/div[1]/div/div[2]/div/div/div[1]/div/div[3]/div/div/div/div/div[2]/div/article/div/div[2]/div/div/div[2]/section[2]/div/span/div')\n"
     ]
    },
    {
     "name": "stdout",
     "output_type": "stream",
     "text": [
      "{'yourfoodlab': 2297216, 'foodie_incarnate': 866751, 'foodzpah': 30028, 'foodranchi': 32419}\n"
     ]
    }
   ],
   "source": [
    "# for this question I am unable to find likes of handle \"food\" as number of likes & views weren't displayed. \n",
    "#I have caluculated likes of other handles\n",
    "# I have attached image in folder regarding the same.\n",
    "\n",
    "foodhandles_top5 = []\n",
    "co=0\n",
    "for i in sorted_dic:\n",
    "    if co==5:\n",
    "        break\n",
    "    foodhandles_top5.append(i)\n",
    "    co+=1\n",
    "    \n",
    "handles_likes = {}\n",
    "base_url = 'https://www.instagram.com/'\n",
    "for i in range(len(foodhandles_top5)):\n",
    "    #for per food handle page\n",
    "    if i==2:                   #skipped the handle \"food\"\n",
    "        continue\n",
    "    curr_url = base_url + foodhandles_top5[i]\n",
    "    driver.get(curr_url)\n",
    "    sleep(5)\n",
    "    count=0\n",
    "    total_likes = 0\n",
    "    \n",
    "    #for all posts in that food handle\n",
    "    posts = driver.find_elements_by_xpath('//div[@class = \"_aabd _aa8k _aanf\"]')\n",
    "    for j in posts:\n",
    "        if count==10:\n",
    "            break\n",
    "        sleep(3)\n",
    "        j.click()\n",
    "        sleep(3)\n",
    "        \n",
    "        try:\n",
    "            post_details = driver.find_element_by_xpath('//div/div[1]/div/div[2]/div/div/div[1]/div/div[3]/div/div/div/div/div[2]/div/article/div/div[2]/div/div/div[2]/div[1]/ul/div/li/div/div/div[2]/div[1]/span')\n",
    "            like = driver.find_element_by_xpath('//div/div[1]/div/div[2]/div/div/div[1]/div/div[3]/div/div/div/div/div[2]/div/article/div/div[2]/div/div/div[2]/section[2]/div/div/div/a/div')\n",
    "            number_of_likes = int(''.join(like.text.split(' ')[0].split(',')))\n",
    "            total_likes = total_likes + number_of_likes\n",
    "    \n",
    "        #if number of likes aern't displayed then I have calculated number of views\n",
    "        except NoSuchElementException:\n",
    "            views = driver.find_element_by_xpath('//div/div[1]/div/div[2]/div/div/div[1]/div/div[3]/div/div/div/div/div[2]/div/article/div/div[2]/div/div/div[2]/section[2]/div/span/div')\n",
    "            number_of_views = int(''.join(views.text.split(' ')[0].split(',')))\n",
    "            total_likes = total_likes + number_of_views\n",
    "            \n",
    "        count+=1\n",
    "        driver.back()\n",
    "        sleep(3)\n",
    "        driver.execute_script('window.scrollBy(0,100);')\n",
    "        sleep(3)\n",
    "        \n",
    "    handles_likes[foodhandles_top5[i]] = total_likes\n",
    "    \n",
    "print(handles_likes)"
   ]
  },
  {
   "cell_type": "markdown",
   "id": "ada8043e",
   "metadata": {},
   "source": [
    "### [3.2] Calculate the average likes for a handle."
   ]
  },
  {
   "cell_type": "code",
   "execution_count": 29,
   "id": "5408134b",
   "metadata": {},
   "outputs": [
    {
     "name": "stdout",
     "output_type": "stream",
     "text": [
      "yourfoodlab 229721.6\n",
      "foodie_incarnate 86675.1\n",
      "foodzpah 3002.8\n",
      "foodranchi 3241.9\n"
     ]
    },
    {
     "data": {
      "image/png": "[encoded data removed]",
      "text/plain": [
       "<Figure size 432x288 with 1 Axes>"
      ]
     },
     "metadata": {
      "needs_background": "light"
     },
     "output_type": "display_data"
    }
   ],
   "source": [
    "#create graphs of avg likes per foodhandles\n",
    "avg_likes = []\n",
    "for i in likes:\n",
    "    avg_likes.append(i/10)\n",
    "\n",
    "for i in range(len(handles)):\n",
    "    print(handles[i], avg_likes[i])\n",
    "    \n",
    "plt.bar(handles, avg_likes,color='Blue')\n",
    "plt.xlabel('Handles',fontsize=14)\n",
    "plt.xticks(rotation = 40)\n",
    "plt.ylabel('Average Likes',fontsize=14)\n",
    "plt.title('Average Likes Per Foodhandle',fontsize=18,color='Red')\n",
    "plt.show()"
   ]
  },
  {
   "cell_type": "code",
   "execution_count": 28,
   "id": "b4af3492",
   "metadata": {},
   "outputs": [
    {
     "name": "stdout",
     "output_type": "stream",
     "text": [
      "yourfoodlab 229721.6\n",
      "foodie_incarnate 86675.1\n",
      "foodzpah 3002.8\n",
      "foodranchi 3241.9\n"
     ]
    },
    {
     "data": {
      "image/png": "[encoded data removed]",
      "text/plain": [
       "<Figure size 432x288 with 1 Axes>"
      ]
     },
     "metadata": {
      "needs_background": "light"
     },
     "output_type": "display_data"
    }
   ],
   "source": [
    "#create graphs of number of likes per foodhandles\n",
    "handles = []\n",
    "likes = []\n",
    "for i in handles_likes:\n",
    "    handles.append(i)\n",
    "    likes.append(handles_likes[i])\n",
    "\n",
    "for i in range(len(handles)):\n",
    "    print(handles[i], avg_likes[i])    \n",
    "    \n",
    "plt.bar(handles, likes,color='Red')\n",
    "plt.xlabel('Handles',fontsize=14)\n",
    "plt.xticks(rotation = 40)\n",
    "plt.ylabel('Likes',fontsize=14)\n",
    "plt.title('Number of Likes Per Foodhandle', fontsize=18,color='Blue')\n",
    "plt.show()"
   ]
  },
  {
   "cell_type": "markdown",
   "id": "d84010c7",
   "metadata": {},
   "source": [
    "### [3.3] Divide the average likes obtained from the number of followers of the handle to get the average followers:like ratio of each handle."
   ]
  },
  {
   "cell_type": "code",
   "execution_count": 25,
   "id": "5fc9c59a",
   "metadata": {},
   "outputs": [
    {
     "name": "stdout",
     "output_type": "stream",
     "text": [
      "yourfoodlab 8.647423664122137\n",
      "foodie_incarnate 15.661395256538498\n",
      "foodzpah 60.241108298921006\n",
      "foodranchi 37.53231129892964\n"
     ]
    }
   ],
   "source": [
    "#calculate ratio & create graph as per food handle\n",
    "followers = []\n",
    "for i in range(len(foodhandles_followers)):\n",
    "    if i==3:\n",
    "        continue\n",
    "    followers.append(foodhandles_followers[i])\n",
    "\n",
    "ratio = []\n",
    "for i in range(len(followers)):\n",
    "    ratio.append(followers[i]/avg_likes[i])\n",
    "    \n",
    "for i in range(len(followers)):\n",
    "    print(handles[i], ratio[i])"
   ]
  },
  {
   "cell_type": "markdown",
   "id": "7b59bef3",
   "metadata": {},
   "source": [
    "### [3.4] Create a bar graph to depict the above obtained information."
   ]
  },
  {
   "cell_type": "code",
   "execution_count": 27,
   "id": "b74f4eac",
   "metadata": {},
   "outputs": [
    {
     "data": {
      "image/png": "[encoded data removed]",
      "text/plain": [
       "<Figure size 432x288 with 1 Axes>"
      ]
     },
     "metadata": {
      "needs_background": "light"
     },
     "output_type": "display_data"
    }
   ],
   "source": [
    "plt.bar(handles, ratio)\n",
    "plt.xlabel('Handles', fontsize=14)\n",
    "plt.xticks(rotation = 40)\n",
    "plt.ylabel('Ratio',fontsize=14)\n",
    "plt.title('Ratio Per Foodhandle',fontsize=18,color='Red')\n",
    "plt.show()"
   ]
  },
  {
   "cell_type": "markdown",
   "id": "e7850595",
   "metadata": {},
   "source": [
    "## Conclusion"
   ]
  },
  {
   "cell_type": "markdown",
   "id": "5bc7c47e",
   "metadata": {},
   "source": [
    "- Developed Python-based automated Instagram bot made for shifting through profiles to extract the relevant information.\n",
    "- Features of the bot allow prioritisation of profiles based on followers and analyse the frequency of each word in hashtags.\n",
    "- Identified top 10 posts of the top 5 handles; plotted each handle with the ratio of average likes and followers."
   ]
  }
 ],
 "metadata": {
  "kernelspec": {
   "display_name": "Python 3 (ipykernel)",
   "language": "python",
   "name": "python3"
  },
  "language_info": {
   "codemirror_mode": {
    "name": "ipython",
    "version": 3
   },
   "file_extension": ".py",
   "mimetype": "text/x-python",
   "name": "python",
   "nbconvert_exporter": "python",
   "pygments_lexer": "ipython3",
   "version": "3.9.7"
  }
 },
 "nbformat": 4,
 "nbformat_minor": 5
}
